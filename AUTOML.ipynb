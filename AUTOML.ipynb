{
  "nbformat": 4,
  "nbformat_minor": 0,
  "metadata": {
    "colab": {
      "private_outputs": true,
      "provenance": [],
      "authorship_tag": "ABX9TyO+5EDHMeZi9IAJBY/lMhtu",
      "include_colab_link": true
    },
    "kernelspec": {
      "name": "python3",
      "display_name": "Python 3"
    },
    "language_info": {
      "name": "python"
    }
  },
  "cells": [
    {
      "cell_type": "markdown",
      "metadata": {
        "id": "view-in-github",
        "colab_type": "text"
      },
      "source": [
        "<a href=\"https://colab.research.google.com/github/mayait/Business-Analytics-Class/blob/main/AUTOML.ipynb\" target=\"_parent\"><img src=\"https://colab.research.google.com/assets/colab-badge.svg\" alt=\"Open In Colab\"/></a>"
      ]
    },
    {
      "cell_type": "code",
      "source": [
        "# 1. uninstall all affected packages\n",
        "# 1min\n",
        "!pip uninstall -y Cython scipy pyparsing scikit_learn imbalanced-learn mlxtend yellowbrick"
      ],
      "metadata": {
        "id": "m9sZ-XoA0LKi"
      },
      "execution_count": null,
      "outputs": []
    },
    {
      "cell_type": "code",
      "source": [
        "# 2. install packages to be downgraded\n",
        "# Restart the runtime\n",
        "# 1 min\n",
        "!pip install Cython==0.29.36 scipy==1.9 pyparsing==2.4\n"
      ],
      "metadata": {
        "id": "0Y9Yhj0c0MOa"
      },
      "execution_count": null,
      "outputs": []
    },
    {
      "cell_type": "code",
      "source": [
        "# 3. install older scikit-learn disregarding its dependencies\n",
        "# 7 min\n",
        "!pip install scikit-learn==0.24.2 --no-build-isolation"
      ],
      "metadata": {
        "id": "wjDOdJ7e0MjX"
      },
      "execution_count": null,
      "outputs": []
    },
    {
      "cell_type": "code",
      "source": [
        "# 4. finally install auto-sklearn\n",
        "!pip install auto-sklearn"
      ],
      "metadata": {
        "id": "6AsT-E4T0MoE"
      },
      "execution_count": null,
      "outputs": []
    },
    {
      "cell_type": "code",
      "source": [
        "# 5. then, try loading the package repeatedly until trash in its dependencies are clean\n",
        "import autosklearn"
      ],
      "metadata": {
        "id": "rA7GEkbW0y6D"
      },
      "execution_count": null,
      "outputs": []
    },
    {
      "cell_type": "code",
      "source": [
        "import autosklearn.regression\n",
        "from sklearn.model_selection import train_test_split\n",
        "from sklearn.metrics import mean_squared_error, r2_score\n",
        "import pandas as pd\n",
        "import logging\n",
        "\n",
        "logging.basicConfig(level=logging.INFO)"
      ],
      "metadata": {
        "id": "3o3VbCHraLx2"
      },
      "execution_count": null,
      "outputs": []
    },
    {
      "cell_type": "markdown",
      "source": [
        "# Automl para advertising sales (Regresión)"
      ],
      "metadata": {
        "id": "nm34c7XWOFYe"
      }
    },
    {
      "cell_type": "code",
      "source": [
        "!wget https://raw.githubusercontent.com/mayait/ClaseAnalisisDatos/main/machine_learning/datasets/advertising_and_sales_clean.csv"
      ],
      "metadata": {
        "id": "-875ui25ajWU"
      },
      "execution_count": null,
      "outputs": []
    },
    {
      "cell_type": "code",
      "source": [
        "df = pd.read_csv(\"advertising_and_sales_clean.csv\")\n",
        "df.sample()"
      ],
      "metadata": {
        "id": "nGclaNVda_TX"
      },
      "execution_count": null,
      "outputs": []
    },
    {
      "cell_type": "code",
      "source": [
        "df.columns"
      ],
      "metadata": {
        "id": "GuyBaCL0bMUV"
      },
      "execution_count": null,
      "outputs": []
    },
    {
      "cell_type": "code",
      "source": [
        "X = df[['tv', 'radio', 'social_media', 'influencer']]\n",
        "y = df['sales']"
      ],
      "metadata": {
        "id": "HFcelxSwcG8c"
      },
      "execution_count": null,
      "outputs": []
    },
    {
      "cell_type": "code",
      "source": [
        "X_train, X_test, y_train, y_test = train_test_split(X, y, test_size=0.2, random_state=42)\n"
      ],
      "metadata": {
        "id": "daFEVl3IcJOo"
      },
      "execution_count": null,
      "outputs": []
    },
    {
      "cell_type": "code",
      "source": [
        "automl = autosklearn.regression.AutoSklearnRegressor(\n",
        "    # Tiempo total en segundos permitido para la búsqueda y optimización del modelo.\n",
        "    time_left_for_this_task=350,\n",
        "\n",
        "    # Límite de tiempo en segundos para cada llamada al modelo.\n",
        "    per_run_time_limit=120,\n",
        "\n",
        "    # Número de núcleos de CPU a utilizar\n",
        "    # Un valor de -1 significa que se utilizarán todos los núcleos disponibles.\n",
        "    n_jobs=-1,\n",
        "\n",
        "    # Métrica de evaluación para optimizar el modelo.\n",
        "    # En este caso, se utiliza el error cuadrático medio (Mean Squared Error).\n",
        "    metric=autosklearn.metrics.mean_squared_error,\n",
        ")\n",
        "\n",
        "automl.fit(X_train, y_train)"
      ],
      "metadata": {
        "id": "ISUOVQv-cJ5u"
      },
      "execution_count": null,
      "outputs": []
    },
    {
      "cell_type": "code",
      "source": [
        "# Predicciones en el conjunto de entrenamiento\n",
        "y_train_pred = automl.predict(X_train)\n",
        "\n",
        "# Cálculo de MSE y R2 para el conjunto de entrenamiento\n",
        "mse_train = mean_squared_error(y_train, y_train_pred)\n",
        "r2_train = r2_score(y_train, y_train_pred)\n",
        "\n",
        "# Predicciones en el conjunto de prueba\n",
        "y_test_pred = automl.predict(X_test)\n",
        "\n",
        "# Cálculo de MSE y R2 para el conjunto de prueba\n",
        "mse_test = mean_squared_error(y_test, y_test_pred)\n",
        "r2_test = r2_score(y_test, y_test_pred)\n",
        "\n",
        "# Imprimir resultados\n",
        "print(\"Conjunto de entrenamiento:\")\n",
        "print(\"  Mean squared error:\", mse_train)\n",
        "print(\"  R2 score:\", r2_train)\n",
        "\n",
        "print(\"\\nConjunto de prueba:\")\n",
        "print(\"  Mean squared error:\", mse_test)\n",
        "print(\"  R2 score:\", r2_test)\n",
        "\n",
        "# Umbral para determinar si hay sobreajuste o subajuste\n",
        "threshold = 0.2\n",
        "\n",
        "# Calcular la diferencia entre R2 y MSE en los conjuntos de entrenamiento y prueba\n",
        "r2_difference = abs(r2_train - r2_test)\n",
        "mse_difference = abs(mse_train - mse_test)\n"
      ],
      "metadata": {
        "id": "ygeZiWZTcQOb"
      },
      "execution_count": null,
      "outputs": []
    },
    {
      "cell_type": "markdown",
      "source": [
        "### Imprime los resultados de los diferentes modelos:\n",
        "\n",
        "- **ARDRegression** (Automatic Relevance Determination Regression) En esencia, ARDRegression es una versión más generalizada de Ridge Regression que permite aprender automáticamente la importancia de las características durante el entrenamiento.\n",
        "\n",
        "- **HistGradientBoostingRegressor** es un enfoque de aprendizaje ensamblado que construye secuencialmente árboles de decisión débiles y los combina para formar un modelo final más preciso. En cada iteración, el algoritmo entrena un nuevo árbol para corregir los errores cometidos por el conjunto actual de árboles.\n",
        "\n"
      ],
      "metadata": {
        "id": "gkYdbeDJenA1"
      }
    },
    {
      "cell_type": "code",
      "source": [
        "def pretty_print_models(model_dict):\n",
        "    for model_id, model_info in model_dict.items():\n",
        "        print(f\"Model ID: {model_id}\")\n",
        "        print(f\"  Rank: {model_info['rank']}\")\n",
        "        print(f\"  Cost (MSE): {model_info['cost']:.2f}\")\n",
        "        print(f\"  Ensemble Weight: {model_info['ensemble_weight']:.2f}\")\n",
        "        print(f\"  Data Preprocessor: {type(model_info['data_preprocessor']).__name__}\")\n",
        "        print(f\"  Feature Preprocessor: {type(model_info['feature_preprocessor']).__name__}\")\n",
        "        print(f\"  Regressor: {type(model_info['regressor']).__name__}\")\n",
        "        print(f\"  Sklearn Regressor: {model_info['sklearn_regressor']}\\n\")\n",
        "\n",
        "models = automl.show_models()\n",
        "pretty_print_models(models)\n"
      ],
      "metadata": {
        "id": "QL3G2Lb4cTAN"
      },
      "execution_count": null,
      "outputs": []
    },
    {
      "cell_type": "code",
      "source": [
        "leaderboard = automl.leaderboard(sort_by=\"rank\", ensemble_only=True)\n",
        "leaderboard"
      ],
      "metadata": {
        "id": "gh3SOIecJ9RN"
      },
      "execution_count": null,
      "outputs": []
    },
    {
      "cell_type": "markdown",
      "source": [
        "# 🌶️ 🐕 Aplica Automl para Credit (Clasificación)"
      ],
      "metadata": {
        "id": "BXeqshC9SAfx"
      }
    },
    {
      "cell_type": "code",
      "source": [
        "!wget https://raw.githubusercontent.com/mayait/ClaseAnalisisDatos/main/DesitionTree/data/bank/bank-full.csv"
      ],
      "metadata": {
        "id": "gyM81XQRSYGo"
      },
      "execution_count": null,
      "outputs": []
    },
    {
      "cell_type": "code",
      "source": [
        "df = pd.read_csv('bank-full.csv', sep=';')\n",
        "df.sample(10)"
      ],
      "metadata": {
        "id": "Q1WS-3n1SW2Y"
      },
      "execution_count": null,
      "outputs": []
    },
    {
      "cell_type": "code",
      "source": [],
      "metadata": {
        "id": "7l1A6sDgSalC"
      },
      "execution_count": null,
      "outputs": []
    }
  ]
}