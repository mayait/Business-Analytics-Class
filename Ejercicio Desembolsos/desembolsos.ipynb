{
 "cells": [
  {
   "cell_type": "code",
   "execution_count": 1,
   "metadata": {},
   "outputs": [
    {
     "ename": "FileNotFoundError",
     "evalue": "[Errno 2] No such file or directory: '/Users/julianmaya/dev/Business-Analytics-Class/Ejercicio Desembolsos/data_desebolsos/'",
     "output_type": "error",
     "traceback": [
      "\u001b[0;31m---------------------------------------------------------------------------\u001b[0m",
      "\u001b[0;31mFileNotFoundError\u001b[0m                         Traceback (most recent call last)",
      "\u001b[1;32m/Users/julianmaya/dev/Business-Analytics-Class/Ejercicio Desembolsos/desembolsos.ipynb Celda 1\u001b[0m in \u001b[0;36m<cell line: 11>\u001b[0;34m()\u001b[0m\n\u001b[1;32m      <a href='vscode-notebook-cell:/Users/julianmaya/dev/Business-Analytics-Class/Ejercicio%20Desembolsos/desembolsos.ipynb#W0sZmlsZQ%3D%3D?line=7'>8</a>\u001b[0m \u001b[39m# from the folder data_desebolsos import the files desembolso_parte_1.csv to desembolso_parte_14.csv and join them\u001b[39;00m\n\u001b[1;32m     <a href='vscode-notebook-cell:/Users/julianmaya/dev/Business-Analytics-Class/Ejercicio%20Desembolsos/desembolsos.ipynb#W0sZmlsZQ%3D%3D?line=9'>10</a>\u001b[0m path \u001b[39m=\u001b[39m os\u001b[39m.\u001b[39mgetcwd() \u001b[39m+\u001b[39m \u001b[39m'\u001b[39m\u001b[39m/data_desebolsos/\u001b[39m\u001b[39m'\u001b[39m\n\u001b[0;32m---> <a href='vscode-notebook-cell:/Users/julianmaya/dev/Business-Analytics-Class/Ejercicio%20Desembolsos/desembolsos.ipynb#W0sZmlsZQ%3D%3D?line=10'>11</a>\u001b[0m files \u001b[39m=\u001b[39m os\u001b[39m.\u001b[39;49mlistdir(path)\n\u001b[1;32m     <a href='vscode-notebook-cell:/Users/julianmaya/dev/Business-Analytics-Class/Ejercicio%20Desembolsos/desembolsos.ipynb#W0sZmlsZQ%3D%3D?line=11'>12</a>\u001b[0m files_csv \u001b[39m=\u001b[39m [f \u001b[39mfor\u001b[39;00m f \u001b[39min\u001b[39;00m files \u001b[39mif\u001b[39;00m f[\u001b[39m-\u001b[39m\u001b[39m3\u001b[39m:] \u001b[39m==\u001b[39m \u001b[39m'\u001b[39m\u001b[39mcsv\u001b[39m\u001b[39m'\u001b[39m]\n\u001b[1;32m     <a href='vscode-notebook-cell:/Users/julianmaya/dev/Business-Analytics-Class/Ejercicio%20Desembolsos/desembolsos.ipynb#W0sZmlsZQ%3D%3D?line=12'>13</a>\u001b[0m files_csv\u001b[39m.\u001b[39msort()\n",
      "\u001b[0;31mFileNotFoundError\u001b[0m: [Errno 2] No such file or directory: '/Users/julianmaya/dev/Business-Analytics-Class/Ejercicio Desembolsos/data_desebolsos/'"
     ]
    }
   ],
   "source": [
    "import pandas as pd\n",
    "import numpy as np\n",
    "import matplotlib.pyplot as plt\n",
    "import seaborn as sns\n",
    "import os\n",
    "import datetime\n",
    "\n",
    "# from the folder data_desebolsos import the files desembolso_parte_1.csv to desembolso_parte_14.csv and join them\n",
    "\n",
    "path = os.getcwd() + '/data_desebolsos/'\n",
    "files = os.listdir(path)\n",
    "files_csv = [f for f in files if f[-3:] == 'csv']\n",
    "files_csv.sort()\n",
    "\n",
    "df = pd.DataFrame()\n",
    "for f in files_csv:\n",
    "    data = pd.read_csv(path + f)\n",
    "    df = pd.concat([df, data], axis=0, ignore_index=True)\n"
   ]
  },
  {
   "cell_type": "code",
   "execution_count": null,
   "metadata": {},
   "outputs": [],
   "source": []
  }
 ],
 "metadata": {
  "kernelspec": {
   "display_name": "Python311",
   "language": "python",
   "name": "python3"
  },
  "language_info": {
   "codemirror_mode": {
    "name": "ipython",
    "version": 3
   },
   "file_extension": ".py",
   "mimetype": "text/x-python",
   "name": "python",
   "nbconvert_exporter": "python",
   "pygments_lexer": "ipython3",
   "version": "3.9.13"
  },
  "orig_nbformat": 4
 },
 "nbformat": 4,
 "nbformat_minor": 2
}
