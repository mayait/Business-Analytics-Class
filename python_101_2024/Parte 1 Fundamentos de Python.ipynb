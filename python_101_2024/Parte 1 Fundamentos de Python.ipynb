{
  "nbformat": 4,
  "nbformat_minor": 0,
  "metadata": {
    "colab": {
      "private_outputs": true,
      "provenance": [],
      "authorship_tag": "ABX9TyN4ccJHqV+lx2+z278uzvom",
      "include_colab_link": true
    },
    "kernelspec": {
      "name": "python3",
      "display_name": "Python 3"
    },
    "language_info": {
      "name": "python"
    }
  },
  "cells": [
    {
      "cell_type": "markdown",
      "metadata": {
        "id": "view-in-github",
        "colab_type": "text"
      },
      "source": [
        "<a href=\"https://colab.research.google.com/github/mayait/Business-Analytics-Class/blob/main/python_101_2024/Parte%201%20Fundamentos%20de%20Python.ipynb\" target=\"_parent\"><img src=\"https://colab.research.google.com/assets/colab-badge.svg\" alt=\"Open In Colab\"/></a>"
      ]
    },
    {
      "cell_type": "code",
      "execution_count": null,
      "metadata": {
        "id": "hQ14vv0heoNF"
      },
      "outputs": [],
      "source": []
    },
    {
      "cell_type": "markdown",
      "metadata": {
        "application/vnd.databricks.v1+cell": {
          "inputWidgets": {},
          "nuid": "8ca16400-2a88-44bf-acfb-cc79384c1f39",
          "showTitle": false,
          "title": ""
        },
        "id": "_h4GE512SnOt"
      },
      "source": [
        "<a id=\"parte1\"></a>\n",
        "\n",
        "\n",
        "\n",
        "# Parte 1: Fundamentos de python\n",
        "\n",
        "<img src=\"https://www.kaggle.com/static/images/education/km/learn-home-208h@2x.png\" style=\"float:right;width:50px;height:50px;\" align=\"right\" width=\"300\">\n",
        "\n",
        "### **Python**\n",
        "\n",
        "* Es gratuito y de código abierto\n",
        "* Guido van Rossum ideó el lenguaje Python a finales de los años 80 y su primera versión pública fue en febrero de 1991\n",
        "* Es un lenguaje interpretado\n",
        "* Posee tipeo dinámico, por lo cual nos es necesario especificar el tipo de dato que contendrán las variables\n",
        "* Es un lenguaje de programación de propósito general (diseñado para resolver cualquier problema) y facilidad para construir cualquier programa\n",
        "\n",
        "### Importancia de Pyhton\n",
        "* Lenguaje intuitivo, da la apariencia de que estamos escribiendo pseudocódigo en inglés\n",
        "* Tiene paquetes versátiles para múltiples aplicaciones incluyendo Ciencia de Datos\n",
        "* Cuenta con una comunidad activa de computación científica y análisis de datos\n",
        "\n",
        "\n",
        "\n",
        "### Características Principales de Python\n",
        "- **Sintaxis Sencilla y Clara:** Facilita la lectura y escritura de código.\n",
        "\n",
        "  ```python\n",
        "  # Ejemplo de sintaxis sencilla y clara\n",
        "  def saludo(nombre):\n",
        "      return f\"Hola, {nombre}!\"\n",
        "\n",
        "  print(saludo(\"Mundo\"))\n",
        "  ```\n",
        "- **Interpretado:** No requiere compilación, el código se ejecuta línea por línea.\n",
        "- **Tipado Dinámico:** No es necesario declarar el tipo de variable.\n",
        "  ```python\n",
        "  # Ejemplo de tipado dinámico\n",
        "  x = 10       # x es un entero\n",
        "  x = \"Python\" # ahora x es una cadena\n",
        "  print(x)\n",
        "  ```\n",
        "\n",
        "\n",
        "- **Biblioteca Estándar Amplia:** Proporciona herramientas y módulos para diversas tareas.\n",
        "- **Comunidad Activa:** Gran cantidad de recursos y soporte disponible."
      ]
    },
    {
      "cell_type": "markdown",
      "metadata": {
        "id": "WedjXX9I7z-K"
      },
      "source": [
        "## Nota rápida sobre las celdas de Jupyter\n",
        "Cuando está editando una celda en Jupyter Notebook, debe volver a ejecutar la celda presionando *Shift + Enter*. Esto permitirá que los cambios que haya realizado estén disponibles para otras celdas, es decir que el código se ejecute y quede en memoria.\n",
        "\n",
        "**Ejecución secuencial**\n",
        "\n",
        "La ejecución del código es secuencial y despues de cada ejecución puedes ver en un número el orden en el que se ejecuto. Utilice <Intro> para crear nuevas líneas dentro de una celda que esté editando.\n",
        "\n",
        "**Celdas de código**\n",
        "    \n",
        "Volver a ejecutar ejecutará cualquier declaración que haya escrito. Para editar una celda de código existente, haga clic en ella.\n",
        "\n",
        "**Celdas de Markdown o texto con formato**\n",
        "    \n",
        "Volver a ejecutar generará el texto de Markdown. Para editar una celda de Markdown existente, haga doble clic en ella.\n",
        "    \n",
        "*Al final del tablero hay una guía de markdown* *[ir a la guía](#ejemplo_markdown)*"
      ]
    },
    {
      "cell_type": "markdown",
      "metadata": {
        "id": "GJBs_flRovLc",
        "tags": []
      },
      "source": [
        "# <strong>Primeros pasos en este cuaderno</strong>\n",
        "\n",
        "A continuación se muestra una <strong>celda de código</strong> con una breve secuencia de comandos de Python que calcula un valor, lo almacena en una variable e imprime el resultado:"
      ]
    },
    {
      "cell_type": "code",
      "execution_count": null,
      "metadata": {
        "id": "yY_CeHor8I50"
      },
      "outputs": [],
      "source": [
        "seconds_in_a_day = 24 * 60 * 60\n",
        "seconds_in_a_day"
      ]
    },
    {
      "cell_type": "code",
      "execution_count": null,
      "metadata": {
        "id": "3Kk2f59qc6bM"
      },
      "outputs": [],
      "source": [
        "resultado = 1 + 1\n",
        "resultado"
      ]
    },
    {
      "cell_type": "markdown",
      "metadata": {
        "id": "r1WVj7jj8Tv9"
      },
      "source": [
        "Si quieres ejecutar el código de la celda anterior, haz clic para seleccionarlo y pulsa el botón de reproducir situado a la izquierda del código o usa la combinación de teclas \"Comando/Ctrl + Intro\". Para editar el código, solo tienes que hacer clic en la celda.\n",
        "\n",
        "Las variables que definas en una celda se pueden usar después en otras celdas:"
      ]
    },
    {
      "cell_type": "code",
      "execution_count": null,
      "metadata": {
        "id": "G1Ep1_hc8Y1f"
      },
      "outputs": [],
      "source": [
        "seconds_in_a_week = 7 * seconds_in_a_day\n",
        "seconds_in_a_week"
      ]
    },
    {
      "cell_type": "code",
      "source": [
        "# ¿Cuantos segundos hay en tu vida?\n",
        "seconds_in_my_life ="
      ],
      "metadata": {
        "id": "sdAwJBUB9XIO"
      },
      "execution_count": null,
      "outputs": []
    },
    {
      "cell_type": "markdown",
      "metadata": {
        "id": "_kYQakBzTzOQ"
      },
      "source": [
        "# Comentarios y Caracteres de # Numeral\n",
        "\n",
        "Los comentarios son muy importantes en tus programas. Se utilizan para explicar en inglés lo que hace algo, y para desactivar partes de tu programa si necesitas eliminarlas temporalmente. Así es como se usan los comentarios en Python:\n",
        "\n",
        "```python\n",
        "# Un comentario, esto es para que puedas leer tu programa más tarde.\n",
        "# Cualquier cosa después del # es ignorada por python.\n",
        "\n",
        "print(\"Podría tener código como este.\") # y el comentario posterior es ignorado\n",
        "\n",
        "# También puedes usar un comentario para \"desactivar\" o comentar código:\n",
        "# print(\"Esto no se ejecutará.\")\n",
        "\n",
        "print(\"Esto se ejecutará.\")\n",
        "\n",
        "\n",
        "```\n",
        "\n"
      ]
    },
    {
      "cell_type": "code",
      "execution_count": null,
      "metadata": {
        "application/vnd.databricks.v1+cell": {
          "inputWidgets": {},
          "nuid": "470c2ab7-d6cf-4e22-803e-7ac6d60493db",
          "showTitle": false,
          "title": ""
        },
        "id": "u-Yo0oT0SnOu"
      },
      "outputs": [],
      "source": [
        "# Un comentario es antecedido por el símbolo de numeral\n",
        "\n",
        "print(\"Hola Mundo!\", \"Hola universo\")"
      ]
    },
    {
      "cell_type": "markdown",
      "source": [
        "# PEP 8 - Guía de estilo para Python\n",
        "\n",
        "PEP 8 es la guía de estilo para escribir código en Python. Promueve la consistencia y la legibilidad del código, facilitando la colaboración y el mantenimiento. A continuación, se presentan algunas de las recomendaciones más importantes de PEP 8:\n",
        "\n",
        "\t•\tIndentación: Usa 4 espacios por nivel de indentación.\n",
        "\t•\tLongitud de la línea: Limita todas las líneas a un máximo de 79 caracteres.\n",
        "\t•\tLíneas en blanco: Usa líneas en blanco para separar funciones y clases, así como bloques de código dentro de funciones.\n",
        "\t•\tEspacios en blanco en expresiones y sentencias: Evita el uso de espacios en blanco innecesarios.\n"
      ],
      "metadata": {
        "id": "sSPqY9KFbOP4"
      }
    },
    {
      "cell_type": "code",
      "source": [
        "# Ejemplo de una función que sigue las recomendaciones de PEP 8\n",
        "\n",
        "def calcular_area_rectangulo(base, altura):\n",
        "    \"\"\"\n",
        "    Calcula el área de un rectángulo dado su base y altura.\n",
        "\n",
        "    Parámetros:\n",
        "    base (float): La base del rectángulo.\n",
        "    altura (float): La altura del rectángulo.\n",
        "\n",
        "    Retorna:\n",
        "    float: El área del rectángulo.\n",
        "    \"\"\"\n",
        "    return base * altura\n",
        "\n",
        "# Uso de la función\n",
        "base = 5.0\n",
        "altura = 10.0\n",
        "area = calcular_area_rectangulo(base, altura)\n",
        "print(f\"El área del rectángulo es: {area}\")"
      ],
      "metadata": {
        "id": "hV9MEr_5bQbU"
      },
      "execution_count": null,
      "outputs": []
    },
    {
      "cell_type": "markdown",
      "source": [
        " **Indentación**\n",
        "\n",
        "Usa 4 espacios por nivel de indentación. No uses tabulaciones.\n",
        "\n",
        "\n",
        "\n",
        "\n",
        "\n",
        "\n"
      ],
      "metadata": {
        "id": "TI9owyvjcgNi"
      }
    },
    {
      "cell_type": "code",
      "source": [
        "def funcion_ejemplo():\n",
        "    if True:\n",
        "        print(\"Hola, mundo\")"
      ],
      "metadata": {
        "id": "qoe7AN8-cjlo"
      },
      "execution_count": null,
      "outputs": []
    },
    {
      "cell_type": "markdown",
      "source": [
        "**Longitud de la línea**\n",
        "\n",
        "Limita todas las líneas a un máximo de 79 caracteres. Para las líneas de documentación y comentarios, el límite es de 72 caracteres."
      ],
      "metadata": {
        "id": "FQFI_0mycsDc"
      }
    },
    {
      "cell_type": "code",
      "source": [
        "# Este es un comentario que sigue la regla de longitud de línea recomendada en PEP 8."
      ],
      "metadata": {
        "id": "leTax71-cyyj"
      },
      "execution_count": null,
      "outputs": []
    },
    {
      "cell_type": "markdown",
      "source": [
        "**Líneas en blanco**\n",
        "\n",
        "•\tUsa líneas en blanco para separar funciones y clases, así como bloques de código dentro de funciones.\n",
        "\n",
        "•\tSe recomienda dos líneas en blanco entre definiciones de clases y funciones a nivel superior, y una línea en blanco entre métodos dentro de una clase."
      ],
      "metadata": {
        "id": "Zp0hmRV5c3pw"
      }
    },
    {
      "cell_type": "code",
      "source": [
        "class MiClase:\n",
        "\n",
        "    def metodo_uno(self):\n",
        "        pass\n",
        "\n",
        "    def metodo_dos(self):\n",
        "        pass"
      ],
      "metadata": {
        "id": "f-WpbChzc1fw"
      },
      "execution_count": null,
      "outputs": []
    },
    {
      "cell_type": "markdown",
      "source": [
        "**Importaciones**\n",
        "\n",
        "•\tLas importaciones deben colocarse al inicio del archivo.\n",
        "\n",
        "•\tUsa una importación por línea.\n",
        "\n",
        "•\tOrdena las importaciones en tres grupos: importaciones estándar, importaciones de terceros y importaciones locales."
      ],
      "metadata": {
        "id": "YW1_ko0cc-rM"
      }
    },
    {
      "cell_type": "code",
      "source": [
        "import os\n",
        "import sys\n",
        "\n",
        "import numpy as np\n",
        "import pandas as pd\n",
        "\n",
        "from mi_modulo import mi_funcion"
      ],
      "metadata": {
        "id": "n0FvAmAFcf4v"
      },
      "execution_count": null,
      "outputs": []
    },
    {
      "cell_type": "markdown",
      "source": [
        "**Espacios en blanco en expresiones y sentencias**\n",
        "\n",
        "•\tEvita el uso de espacios en blanco innecesarios."
      ],
      "metadata": {
        "id": "40qgsWd0dOnn"
      }
    },
    {
      "cell_type": "code",
      "source": [
        "# Incorrecto:\n",
        "x = 5 +  3\n",
        "y = ( 2, 4 )\n",
        "\n",
        "# Correcto:\n",
        "x = 5 + 3\n",
        "y = (2, 4)"
      ],
      "metadata": {
        "id": "cANh4ktrcf2h"
      },
      "execution_count": null,
      "outputs": []
    },
    {
      "cell_type": "markdown",
      "source": [
        "**Nombres de variables, funciones y clases**\n",
        "\n",
        "•\tUsa nombres descriptivos y en minúsculas separados por guiones bajos para funciones y variables.\n",
        "\n",
        "•\tUsa CamelCase para los nombres de las clases."
      ],
      "metadata": {
        "id": "PnJVGS8udVoX"
      }
    },
    {
      "cell_type": "code",
      "source": [
        "# Variables y funciones:\n",
        "nombre_completo = \"Juan Pérez\"\n",
        "def calcular_area():\n",
        "    pass\n",
        "\n",
        "# Clases:\n",
        "class Circulo:\n",
        "    pass"
      ],
      "metadata": {
        "id": "PLSlA9QYcfz6"
      },
      "execution_count": null,
      "outputs": []
    },
    {
      "cell_type": "markdown",
      "source": [
        "Comentarios\n",
        "\n",
        "•\tLos comentarios deben ser claros y útiles. Usa comentarios para explicar por qué se hace algo, no qué se está haciendo.\n",
        "\n",
        "•\tUsa comentarios en línea con moderación y solo cuando sea necesario."
      ],
      "metadata": {
        "id": "qXWxp64Zdbc0"
      }
    },
    {
      "cell_type": "code",
      "source": [
        "# Este es un comentario claro y útil.\n",
        "def suma(a, b):\n",
        "    return a + b  # Suma los dos números y retorna el resultado"
      ],
      "metadata": {
        "id": "BuMGGdv6cfxc"
      },
      "execution_count": null,
      "outputs": []
    },
    {
      "cell_type": "markdown",
      "source": [
        "**Docstrings**\n",
        "\n",
        "•\tUsa docstrings para documentar todas las funciones, clases y métodos públicos.\n",
        "\n",
        "•\tSigue el formato recomendado para docstrings."
      ],
      "metadata": {
        "id": "iXuF4jPgdk7M"
      }
    },
    {
      "cell_type": "code",
      "source": [
        "def funcion_ejemplo(parametro):\n",
        "    \"\"\"\n",
        "    Describe lo que hace la función.\n",
        "\n",
        "    Parámetros:\n",
        "    parametro (tipo): Descripción del parámetro.\n",
        "\n",
        "    Retorna:\n",
        "    tipo: Descripción de lo que retorna la función.\n",
        "    \"\"\"\n",
        "    pass"
      ],
      "metadata": {
        "id": "nMAAZSf9dg44"
      },
      "execution_count": null,
      "outputs": []
    }
  ]
}