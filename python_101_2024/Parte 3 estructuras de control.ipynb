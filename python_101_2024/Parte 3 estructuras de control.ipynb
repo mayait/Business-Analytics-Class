{
  "nbformat": 4,
  "nbformat_minor": 0,
  "metadata": {
    "colab": {
      "private_outputs": true,
      "provenance": [],
      "authorship_tag": "ABX9TyM2DFONT5DB26YT0Zrd1AOT",
      "include_colab_link": true
    },
    "kernelspec": {
      "name": "python3",
      "display_name": "Python 3"
    },
    "language_info": {
      "name": "python"
    }
  },
  "cells": [
    {
      "cell_type": "markdown",
      "metadata": {
        "id": "view-in-github",
        "colab_type": "text"
      },
      "source": [
        "<a href=\"https://colab.research.google.com/github/mayait/Business-Analytics-Class/blob/main/python_101_2024/Parte%203%20estructuras%20de%20control.ipynb\" target=\"_parent\"><img src=\"https://colab.research.google.com/assets/colab-badge.svg\" alt=\"Open In Colab\"/></a>"
      ]
    },
    {
      "cell_type": "code",
      "execution_count": null,
      "metadata": {
        "id": "c8smJIr4n4H9"
      },
      "outputs": [],
      "source": [
        "Sentencias condicionales (if, elif, else)\n",
        "Bucles (for, while)\n",
        "Control de bucles (break, continue, pass)"
      ]
    },
    {
      "cell_type": "markdown",
      "source": [
        "# Condicionales en python\n",
        "\n",
        "<img src=\"https://realpython.com/cdn-cgi/image/width=1920,format=auto/https://files.realpython.com/media/Conditional-Statements-in-Python_Watermarked.b6b7d30ff62b.jpg\">\n",
        "\n",
        "**Conditional statements** Las condiones comprueban el valor de una condición y, si la condición se evalúa como `True`, se ejecuta un determinado bloque de código. (De lo contrario, si la condición es `False`, entonces el código no se ejecuta).  \n",
        "\n",
        "Vamos con ejemplos:\n",
        "\n",
        "## \"if\" statements (si esto entonces aquello)\n",
        "  "
      ],
      "metadata": {
        "id": "mU72UL4jJ9oU"
      }
    },
    {
      "cell_type": "code",
      "source": [
        "def evaluate_temp(temp):\n",
        "    # Establece un mensaje inicial\n",
        "    message = \"Normal temperature.\"\n",
        "    # Actualiza el mensaje en caso de que la temperatura sea mayor que 38\n",
        "    if temp > 38:\n",
        "        message = \"Fever!\"\n",
        "    return message"
      ],
      "metadata": {
        "id": "I8jKR7aFKe95"
      },
      "execution_count": null,
      "outputs": []
    },
    {
      "cell_type": "code",
      "source": [
        "evaluate_temp(37)"
      ],
      "metadata": {
        "id": "2Zs3e9RBL8pk"
      },
      "execution_count": null,
      "outputs": []
    },
    {
      "cell_type": "markdown",
      "source": [
        "## \"if ... else\" statements\n",
        "\n",
        "En español viene a ser **si** se cumple esto entonces haz esto, **sino** entonces haz esto otro."
      ],
      "metadata": {
        "id": "AAYvHoPLLzG9"
      }
    },
    {
      "cell_type": "code",
      "source": [
        "def evaluate_temp_with_else(temp):\n",
        "    if temp > 38:\n",
        "        message = \"Fever!\"\n",
        "    else:\n",
        "        message = \"Normal temperature.\"\n",
        "    return message"
      ],
      "metadata": {
        "id": "0f_qf2J_L5c3"
      },
      "execution_count": null,
      "outputs": []
    },
    {
      "cell_type": "code",
      "source": [
        "print(evaluate_temp_with_else(12))"
      ],
      "metadata": {
        "id": "l-L9j7rjMAUf"
      },
      "execution_count": null,
      "outputs": []
    },
    {
      "cell_type": "markdown",
      "source": [
        "## \"if ... elif ... else\" statements\n",
        "Puedes pensar en \"elif\" como si dijera ... \"ya que esa condición anterior (p. ej., `temp > 38`) era falsa, entonces vamos a comprobar si esta nueva condición (p. ej., `temp > 35`) podría ser cierta.\""
      ],
      "metadata": {
        "id": "Ww5JfqOMMHjX"
      }
    },
    {
      "cell_type": "code",
      "source": [
        "def evaluate_temp_with_elif(temp):\n",
        "    if temp > 38:\n",
        "        message = \"Fever!\"\n",
        "    elif temp > 35:\n",
        "        message = \"Normal temperature.\"\n",
        "    else:\n",
        "        message = \"Low temperature.\"\n",
        "    return message"
      ],
      "metadata": {
        "id": "xsJaPGNtMGgP"
      },
      "execution_count": null,
      "outputs": []
    },
    {
      "cell_type": "code",
      "source": [
        "evaluate_temp_with_elif(12)"
      ],
      "metadata": {
        "id": "zUNDR1rhNeZH"
      },
      "execution_count": null,
      "outputs": []
    },
    {
      "cell_type": "markdown",
      "source": [
        "# 🌶️ EJERCICIO CONDICIONALES\n",
        "En el siguiente ejemplo, supongamos que vive en un país con solo dos tramos impositivos. Todos los que ganan menos de 12000 pagan el 25% de impuestos, y los que ganan 12000 o más pagan el 30%.\n",
        "\n",
        "**Crea una función que calcule cuánto impuesto se debe pagar:**\n"
      ],
      "metadata": {
        "id": "bELL8K6XOvDF"
      }
    },
    {
      "cell_type": "code",
      "source": [
        "def get_taxes(earnings):\n",
        "    if _____:\n",
        "        tax_owed = .25 * earnings\n",
        "    else:\n",
        "        _____\n",
        "    return tax_owed"
      ],
      "metadata": {
        "id": "SGOlaNQrOuss"
      },
      "execution_count": null,
      "outputs": []
    },
    {
      "cell_type": "code",
      "source": [
        "ana_taxes = get_taxes(9000)\n",
        "bob_taxes = get_taxes(15000)\n",
        "\n",
        "print('ana', ana_taxes)\n",
        "print('bob', bob_taxes)"
      ],
      "metadata": {
        "id": "7TumqxlJQLZk"
      },
      "execution_count": null,
      "outputs": []
    },
    {
      "cell_type": "markdown",
      "source": [
        "# Bucles en Python\n",
        "\n",
        "Los bucles son una parte importante de la programación, ya que permiten repetir un bloque de código varias veces. En Python, hay dos tipos de bucles: bucles for y bucles while. Veamos más de cerca cómo funciona cada uno de estos bucles y proporcionemos algunos ejemplos y casos de uso.\n",
        "\n",
        "## Bucles for\n",
        "\n",
        "Un bucle for te permite iterar sobre una secuencia de valores, como una lista o un rango de números. Aquí hay un ejemplo:"
      ],
      "metadata": {
        "id": "t5ov6XtFqVbv"
      }
    },
    {
      "cell_type": "code",
      "source": [
        "# Imprimir cada elemento en una lista usando un bucle for\n",
        "fruits = [\"manzana\", \"platano\", \"uva\"]\n",
        "for fruit in fruits:\n",
        "    print(fruit)"
      ],
      "metadata": {
        "id": "g-nSvL_0qUXV"
      },
      "execution_count": null,
      "outputs": []
    },
    {
      "cell_type": "markdown",
      "source": [
        "Otro caso de uso común para un bucle for es repetir un bloque de código un cierto número de veces. Puedes hacer esto usando la función range para crear una secuencia de números para iterar. Aquí hay un ejemplo:"
      ],
      "metadata": {
        "id": "wnp-Twz5qemP"
      }
    },
    {
      "cell_type": "code",
      "source": [
        "# Imprimir los números del 1 al 5 usando un bucle for\n",
        "for i in range(1, 6):\n",
        "    print(i)"
      ],
      "metadata": {
        "id": "j23sYSw2qZOB"
      },
      "execution_count": null,
      "outputs": []
    },
    {
      "cell_type": "markdown",
      "source": [
        "En este ejemplo, el programa utiliza la función range para crear una secuencia de números del 1 al 5, que luego se iteran usando un bucle for. El bucle asigna cada número a la variable i, que luego se imprime en la consola.\n",
        "\n",
        "# Bucles while\n",
        "\n",
        "Un bucle while te permite repetir un bloque de código mientras una cierta condición sea verdadera. Aquí hay un ejemplo:"
      ],
      "metadata": {
        "id": "JwxnZNT6qmvL"
      }
    },
    {
      "cell_type": "code",
      "source": [
        "# Imprimir los números del 1 al 5 usando un bucle while\n",
        "i = 1\n",
        "while i <= 5:\n",
        "    print(i)\n",
        "    i += 1"
      ],
      "metadata": {
        "id": "r0YgLVvOqjiE"
      },
      "execution_count": null,
      "outputs": []
    },
    {
      "cell_type": "markdown",
      "source": [
        "En este ejemplo, el programa inicializa una variable i a 1 y utiliza un bucle while para repetir un bloque de código mientras i sea menor o igual a 5. El bucle imprime el valor de i en la consola y luego incrementa i en 1.\n",
        "\n",
        "Otro caso de uso común para un bucle while es leer entradas del usuario hasta que se cumpla una cierta condición. Aquí hay un ejemplo:"
      ],
      "metadata": {
        "id": "tsyk6Ltfquhl"
      }
    },
    {
      "cell_type": "code",
      "source": [
        "# Leer la entrada del usuario hasta que ingresen 'quit'\n",
        "while True:\n",
        "    user_input = input(\"Enter a word (or 'quit' to exit): \")\n",
        "\n",
        "    if user_input == \"quit\":\n",
        "        break\n",
        "\n",
        "    print(f\"You entered: {user_input}\")"
      ],
      "metadata": {
        "id": "mYN1ZdLoqrPj"
      },
      "execution_count": null,
      "outputs": []
    },
    {
      "cell_type": "markdown",
      "source": [
        "# Bucles anidados\n",
        "\n",
        "Puedes usar bucles anidados en Python para iterar sobre múltiples secuencias a la vez. Aquí hay un ejemplo:"
      ],
      "metadata": {
        "id": "2EEQKdLsq11s"
      }
    },
    {
      "cell_type": "code",
      "source": [
        "# Imprimir todas las combinaciones posibles de dos tiradas de dados\n",
        "for i in range(1, 7):\n",
        "    for j in range(1, 7):\n",
        "        print(f\"({i}, {j})\")"
      ],
      "metadata": {
        "id": "GvMnWmtZq0w8"
      },
      "execution_count": null,
      "outputs": []
    },
    {
      "cell_type": "markdown",
      "source": [
        "# Sentencias de control de bucles\n",
        "\n",
        "Python proporciona varias sentencias de control de bucles que te permiten modificar el comportamiento de un bucle. La sentencia break te permite salir de un bucle antes de tiempo, mientras que la sentencia continue te permite omitir ciertas iteraciones de un bucle. Aquí hay un ejemplo:"
      ],
      "metadata": {
        "id": "7CHTxS0Mq8qy"
      }
    },
    {
      "cell_type": "code",
      "source": [
        "# Imprimir los números del 1 al 10, pero saltar el 5 y salir del bucle si llegamos al 8\n",
        "\n",
        "for i in range(1, 11):\n",
        "    if i == 5:\n",
        "        continue\n",
        "\n",
        "    print(i)\n",
        "\n",
        "    if i == 8:\n",
        "        break"
      ],
      "metadata": {
        "id": "XWxNCJq_rApn"
      },
      "execution_count": null,
      "outputs": []
    },
    {
      "cell_type": "markdown",
      "source": [
        "# 🌶️ Ejercicio: Calcular la Cantidad de Días de Vida\n",
        "\n",
        "En este ejercicio, escribirás un programa que calcule la cantidad de días de vida de una persona dada su fecha de nacimiento y la fecha actual. Utilizarás bucles y condicionales para realizar el cálculo sin usar bibliotecas externas ni funciones predefinidas como datetime.\n",
        "\n",
        "Instrucciones:\n",
        "\n",
        "1.\tDefine la fecha de nacimiento y la fecha actual como variables.\n",
        "2.\tUsa un bucle for para iterar sobre los años desde el año de nacimiento hasta el año actual, sumando los días de cada año. Ignoremos los bisiestos.\n",
        "Aquí una lista de los días en cada mes:\n",
        "```\n",
        "dias_en_mes = [31, 28, 31, 30, 31, 30, 31, 31, 30, 31, 30, 31]\n",
        "```\n",
        "3.\tUsa condicionales para ajustar la suma de días basada en los días y meses de la fecha de nacimiento y la fecha actual.\n",
        "4.\tImprime la cantidad total de días de vida."
      ],
      "metadata": {
        "id": "ryBUi-63q_1g"
      }
    },
    {
      "cell_type": "code",
      "source": [],
      "metadata": {
        "id": "aATu71zAsoSH"
      },
      "execution_count": null,
      "outputs": []
    }
  ]
}