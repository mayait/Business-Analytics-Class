{
  "nbformat": 4,
  "nbformat_minor": 0,
  "metadata": {
    "colab": {
      "private_outputs": true,
      "provenance": [],
      "authorship_tag": "ABX9TyMHr1YgH6Wx53W+AAoJMzhs",
      "include_colab_link": true
    },
    "kernelspec": {
      "name": "python3",
      "display_name": "Python 3"
    },
    "language_info": {
      "name": "python"
    }
  },
  "cells": [
    {
      "cell_type": "markdown",
      "metadata": {
        "id": "view-in-github",
        "colab_type": "text"
      },
      "source": [
        "<a href=\"https://colab.research.google.com/github/mayait/Business-Analytics-Class/blob/main/python_101_2024/parte_4_Funciones.ipynb\" target=\"_parent\"><img src=\"https://colab.research.google.com/assets/colab-badge.svg\" alt=\"Open In Colab\"/></a>"
      ]
    },
    {
      "cell_type": "markdown",
      "source": [
        "<img src=\"https://files.realpython.com/media/Defining-Your-Own-Python-Function_Watermarked.d18ffb243c6e.jpg\">"
      ],
      "metadata": {
        "id": "b8zesqLsn835"
      }
    },
    {
      "cell_type": "markdown",
      "source": [
        "# Definiendo tus Propias Funciones en Python\n",
        "\n",
        "En tutoriales previos, has visto muchos ejemplos que demuestran el uso de funciones integradas de Python. En este módulo, aprenderás a definir tus propias funciones en Python. Aprenderás cuándo dividir tu programa en funciones definidas por el usuario y qué herramientas necesitarás para hacerlo.\n",
        "\n",
        "\n",
        "## Funciones en Python\n",
        "\n",
        "Puede que estés familiarizado con el concepto matemático de una función, que es una relación o mapeo entre una o más entradas y un conjunto de salidas. En programación, una función es un bloque de código autónomo que encapsula una tarea específica o un grupo relacionado de tareas.\n",
        "\n",
        "Ejemplos de funciones integradas en Python:\n",
        "\n",
        "```python\n",
        "s = 'foobar'\n",
        "print(id(s))  # Devuelve el identificador único del objeto\n",
        "\n",
        "a = ['foo', 'bar', 'baz', 'qux']\n",
        "print(len(a))  # Devuelve la longitud del argumento\n",
        "\n",
        "print(any([False, True, False]))  # Devuelve True si algún elemento es verdadero\n",
        "```\n",
        "\n",
        "Una función es un bloque de código diseñado para realizar una tarea específica. Como verá, las funciones le permitirán hacer aproximadamente el mismo cálculo varias veces sin duplicar ningún código.\n",
        "\n",
        "Comenzamos con un ejemplo simple de una función. La función mas_tres() a continuación acepta cualquier número, le agrega tres y luego devuelve el resultado.\n",
        "\n",
        "# La Importancia de las Funciones en Python\n",
        "\n",
        "## Abstracción y Reusabilidad\n",
        "\n",
        "Supongamos que escribes algún código que realiza una tarea útil. A medida que continúas desarrollando, descubres que necesitas esa tarea en muchos lugares diferentes dentro de tu aplicación. En lugar de replicar el código una y otra vez, defines una función de Python que realiza la tarea.\n",
        "\n",
        "## Modularidad\n",
        "\n",
        "Las funciones permiten que procesos complejos se dividan en pasos más pequeños. Por ejemplo, podrías tener un programa que lee un archivo, procesa el contenido y luego escribe un archivo de salida."
      ],
      "metadata": {
        "id": "yD-tjieYSOqe"
      }
    },
    {
      "cell_type": "code",
      "source": [
        "# Definir la función\n",
        "def mas_tres(input_var):\n",
        "    output_var = input_var + 3\n",
        "    return output_var"
      ],
      "metadata": {
        "id": "n8KkG-9oSht8"
      },
      "execution_count": null,
      "outputs": []
    },
    {
      "cell_type": "markdown",
      "source": [
        "Código modularizado"
      ],
      "metadata": {
        "id": "X1lyaAIEpaV9"
      }
    },
    {
      "cell_type": "code",
      "source": [
        "def read_file():\n",
        "    # Código para leer el archivo\n",
        "    pass\n",
        "\n",
        "def process_file():\n",
        "    # Código para procesar el archivo\n",
        "    pass\n",
        "\n",
        "def write_file():\n",
        "    # Código para escribir el archivo\n",
        "    pass\n",
        "\n",
        "# Programa principal\n",
        "read_file()\n",
        "process_file()\n",
        "write_file()"
      ],
      "metadata": {
        "id": "DzmXMph4pYbj"
      },
      "execution_count": null,
      "outputs": []
    },
    {
      "cell_type": "markdown",
      "source": [
        "# Llamadas y Definición de Funciones\n",
        "\n",
        "La sintaxis usual para definir una función de Python es la siguiente:\n",
        "\n",
        "\n",
        "\n",
        "```python\n",
        "def nombre_funcion(parametros):\n",
        "    # Cuerpo de la función\n",
        "    pass\n",
        "```\n",
        "\n"
      ],
      "metadata": {
        "id": "GW_GJ0CQpmqY"
      }
    },
    {
      "cell_type": "markdown",
      "source": [
        "Todo función tiene dos partes: el encabezado y el cuerpo.\n",
        "\n",
        "<img src=\"https://i.imgur.com/gu0AWhK.png\">\n",
        "\n",
        "*Los argumentos son la entrada de la función y return es la palabra clave que define la salida.*\n",
        "\n",
        "> El encabezado de la función define el nombre de la función y sus argumentos.\n",
        "\n",
        "Cada encabezado de función comienza con def, que le dice a Python que estamos a punto de definir una función.\n",
        "- En el ejemplo, el nombre de la función es add_three.\n",
        "- En el ejemplo, el argumento es input_var.\n",
        "- El argumento es el nombre de la variable que se usará como entrada a la función. Siempre está entre paréntesis que aparece inmediatamente después del nombre de la función. (Tenga en cuenta que una función también puede no tener argumentos, o puede tener múltiples argumentos)\n",
        "- Para cada función, los paréntesis que encierran los argumentos de la función deben ir seguidos de dos puntos :\n",
        "- Luego, la última línea de código, llamada declaración **return**, simplemente devuelve el valor en *output_var* como la salida de la función."
      ],
      "metadata": {
        "id": "hAGIxHSNSs2L"
      }
    },
    {
      "cell_type": "markdown",
      "source": [
        "# Pasando Argumentos\n",
        "\n",
        "## Argumentos Posicionales\n",
        "\n",
        "Los argumentos posicionales deben estar en el orden correcto y en el número correcto."
      ],
      "metadata": {
        "id": "ydoL6_WEqJYI"
      }
    },
    {
      "cell_type": "code",
      "source": [
        "def formato(qty, item, price):\n",
        "    print(f'{qty} {item} costo ${price:.2f}')"
      ],
      "metadata": {
        "id": "FRL-rjrvqDNf"
      },
      "execution_count": null,
      "outputs": []
    },
    {
      "cell_type": "code",
      "source": [
        "formato(6, 'bananas', 2.74)"
      ],
      "metadata": {
        "id": "HtMc4lvsqRiy"
      },
      "execution_count": null,
      "outputs": []
    },
    {
      "cell_type": "markdown",
      "source": [
        "# Parámetros por Defecto (Default)\n",
        "\n",
        "Los parámetros por defecto permiten omitir algunos argumentos cuando se llama a la función."
      ],
      "metadata": {
        "id": "4lpm_z4ZqVs8"
      }
    },
    {
      "cell_type": "code",
      "source": [
        "def formato(qty=6, item='bananos', price=1.74):\n",
        "    print(f'{qty} {item} costo ${price:.2f}')\n",
        "\n"
      ],
      "metadata": {
        "id": "Gr2SZzwjqUBL"
      },
      "execution_count": null,
      "outputs": []
    },
    {
      "cell_type": "code",
      "source": [
        "formato(4, 'manzanas')"
      ],
      "metadata": {
        "id": "IYkE3o-jqkAE"
      },
      "execution_count": null,
      "outputs": []
    },
    {
      "cell_type": "code",
      "source": [
        "formato()"
      ],
      "metadata": {
        "id": "7lQPN80YqkbG"
      },
      "execution_count": null,
      "outputs": []
    },
    {
      "cell_type": "code",
      "source": [
        "formato(4)"
      ],
      "metadata": {
        "id": "mciKe0d4qpTa"
      },
      "execution_count": null,
      "outputs": []
    },
    {
      "cell_type": "markdown",
      "source": [
        "# Valores de Parámetro Mutable por Defecto\n",
        "\n",
        "Es mejor evitar los valores por defecto que sean objetos mutables."
      ],
      "metadata": {
        "id": "_RT6zvoYq_C0"
      }
    },
    {
      "cell_type": "code",
      "source": [
        "def funcion(my_list=None):\n",
        "    if my_list is None:\n",
        "        my_list = []\n",
        "    my_list.append('###')\n",
        "    return my_list"
      ],
      "metadata": {
        "id": "8trXCWlwrBqS"
      },
      "execution_count": null,
      "outputs": []
    },
    {
      "cell_type": "markdown",
      "source": [
        "# La Declaración return\n",
        "\n",
        "La declaración return sirve para dos propósitos:\n",
        "\n",
        "1.\tTermina inmediatamente la función y pasa el control de ejecución de vuelta al llamador.\n",
        "2.\tProporciona un mecanismo mediante el cual la función puede pasar datos de vuelta al llamador."
      ],
      "metadata": {
        "id": "BVAYkzJnrJBz"
      }
    },
    {
      "cell_type": "code",
      "source": [
        "def doble(x):\n",
        "    return x * 2\n",
        "\n",
        "print(doble(5))  # Devuelve 10"
      ],
      "metadata": {
        "id": "-IugRUWqrMvl"
      },
      "execution_count": null,
      "outputs": []
    },
    {
      "cell_type": "markdown",
      "source": [
        "# Docstrings\n",
        "\n",
        "Un docstring se usa para proporcionar documentación para una función."
      ],
      "metadata": {
        "id": "IiNVvTRkrQ0L"
      }
    },
    {
      "cell_type": "code",
      "source": [
        "def avg(*args):\n",
        "    \"\"\"Devuelve el promedio de una lista de valores numéricos.\"\"\"\n",
        "    return sum(args) / len(args)\n",
        "\n",
        "print(avg.__doc__)  # Imprime la documentación de la función"
      ],
      "metadata": {
        "id": "aWktmQgTrUHf"
      },
      "execution_count": null,
      "outputs": []
    },
    {
      "cell_type": "markdown",
      "source": [
        "# Anotaciones de Funciones en Python\n",
        "Las anotaciones proporcionan una manera de adjuntar metadatos a los parámetros y valores de retorno de una función.\n",
        "\n",
        "Las anotaciones son opcionales y no imponen restricciones semánticas al código.\n",
        "\n",
        "Este módulo te proporciona una base sólida para definir y usar funciones en Python. A medida que avances en tu aprendizaje, descubrirás muchas más formas de utilizar las funciones para resolver una amplia variedad de problemas de programación."
      ],
      "metadata": {
        "id": "YOtPZdjHrpuQ"
      }
    },
    {
      "cell_type": "code",
      "source": [
        "def funcion(a: int, b: str) -> float:\n",
        "    return 3.5\n",
        "\n",
        "print(funcion.__annotations__)  # Imprime las anotaciones de la función"
      ],
      "metadata": {
        "id": "NfkXWydarlvT"
      },
      "execution_count": null,
      "outputs": []
    },
    {
      "cell_type": "markdown",
      "source": [
        "# Empaquetado de Diccionarios de Argumentos\n",
        "\n",
        "El operador de doble asterisco (**) en una definición de función de Python indica el empaquetado de diccionarios de argumentos. Los argumentos correspondientes en la llamada a la función se empaquetan en un diccionario."
      ],
      "metadata": {
        "id": "nY0XyLvKsCae"
      }
    },
    {
      "cell_type": "code",
      "source": [
        "def f(**kwargs):\n",
        "    for key, value in kwargs.items():\n",
        "        print(f'{key} -> {value}')\n",
        "\n",
        "f(a=1, b=2, c=3)\n",
        "# Salida:\n",
        "# a -> 1\n",
        "# b -> 2\n",
        "# c -> 3"
      ],
      "metadata": {
        "id": "KrmDrUyLsB1Y"
      },
      "execution_count": null,
      "outputs": []
    },
    {
      "cell_type": "markdown",
      "source": [
        "# Desempaquetado de Diccionarios de Argumentos\n",
        "\n",
        "Cuando el operador de doble asterisco (**) precede a un argumento en una llamada a función, esto indica que el argumento es un diccionario que debe desempaquetarse y pasarse a la función como argumentos con palabras clave."
      ],
      "metadata": {
        "id": "JXjKj6n9sgPx"
      }
    },
    {
      "cell_type": "code",
      "source": [
        "def f(a, b, c):\n",
        "    print(a, b, c)\n",
        "\n",
        "d = {'a': 1, 'b': 2, 'c': 3}\n",
        "f(**d)\n",
        "# Salida:\n",
        "# 1 2 3"
      ],
      "metadata": {
        "id": "0iOd9a46sekX"
      },
      "execution_count": null,
      "outputs": []
    },
    {
      "cell_type": "markdown",
      "source": [
        "# Poniéndolo Todo Junto\n",
        "\n",
        "Es posible usar parámetros posicionales estándar, *args, y **kwargs en una misma definición de función de Python. Deben especificarse en ese orden."
      ],
      "metadata": {
        "id": "72-NM_tXslUl"
      }
    },
    {
      "cell_type": "code",
      "source": [
        "def f(a, b, *args, **kwargs):\n",
        "    print(f'a = {a}')\n",
        "    print(f'b = {b}')\n",
        "    print(f'args = {args}')\n",
        "    print(f'kwargs = {kwargs}')\n",
        "\n",
        "f(1, 2, 'foo', 'bar', x=100, y=200)\n",
        "# Salida:\n",
        "# a = 1\n",
        "# b = 2\n",
        "# args = ('foo', 'bar')\n",
        "# kwargs = {'x': 100, 'y': 200}"
      ],
      "metadata": {
        "id": "-bbnQiq7smvR"
      },
      "execution_count": null,
      "outputs": []
    },
    {
      "cell_type": "markdown",
      "source": [
        "## Llamar una función o ejecutarla\n",
        "Cuando ejecutamos una función, también se puede denominar \"llamar\" a la función. *¿aló?* 😁\n",
        "\n",
        "En la siguiente celda de código, ejecutamos la función con 10 como valor de entrada. Definimos una nueva variable new_number que se establece en la salida de la función."
      ],
      "metadata": {
        "id": "gpBLBggwUIi2"
      }
    },
    {
      "cell_type": "code",
      "source": [
        "# Ejecutamos la función con 10 como valor de entrada\n",
        "new_number = mas_tres(10)\n",
        "\n",
        "print(new_number)"
      ],
      "metadata": {
        "id": "E5-9NgUiUxID"
      },
      "execution_count": null,
      "outputs": []
    },
    {
      "cell_type": "markdown",
      "source": [
        "# 🌶️ EJERCICIO (IVA):\n",
        "\n",
        "Ejecuta una función que calcule el valor antes de impuestos dado el precio final de cualquier producto."
      ],
      "metadata": {
        "id": "-MdBklYbVC8a"
      }
    },
    {
      "cell_type": "code",
      "source": [],
      "metadata": {
        "id": "OhbF3be3nHw9"
      },
      "execution_count": null,
      "outputs": []
    },
    {
      "cell_type": "code",
      "source": [
        "def before_tax(final_value):\n",
        "    tax = 0.12\n",
        "    pay_aftertax = _____\n",
        "    return pay_aftertax"
      ],
      "metadata": {
        "id": "bC2xds-OW4oL"
      },
      "execution_count": null,
      "outputs": []
    },
    {
      "cell_type": "code",
      "source": [
        "before_tax(120)"
      ],
      "metadata": {
        "id": "oM9X7AHtXNgo"
      },
      "execution_count": null,
      "outputs": []
    },
    {
      "cell_type": "markdown",
      "source": [
        "## Función con multiples variables\n",
        "\n",
        "Vamos a calcular el valor total de una consultoria por horas donde defines:\n",
        "- Los honorarios por hora, hourly_wage\n",
        "- El impuesto, tax\n",
        "- La cantidad de horas, num_hours\n"
      ],
      "metadata": {
        "id": "rD2p98abX-wY"
      }
    },
    {
      "cell_type": "code",
      "source": [
        "def get_pay_with_more_inputs(num_hours, hourly_wage, tax):\n",
        "    # Pre-tax pay\n",
        "    pay_pretax = num_hours * hourly_wage\n",
        "    # After-tax pay\n",
        "    pay_aftertax = pay_pretax * (1 - tax)\n",
        "    return pay_aftertax"
      ],
      "metadata": {
        "id": "86a6tyqGYOq4"
      },
      "execution_count": null,
      "outputs": []
    },
    {
      "cell_type": "code",
      "source": [
        "get_pay_with_more_inputs(40, 12, .12)\n"
      ],
      "metadata": {
        "id": "M4Wh33IDYgpK"
      },
      "execution_count": null,
      "outputs": []
    },
    {
      "cell_type": "code",
      "source": [
        "# puedes declarar los argumentos explicitamente\n",
        "get_pay_with_more_inputs( num_hours = 40, hourly_wage = 12, tax = 0.12 )"
      ],
      "metadata": {
        "id": "XA_8GTgkxtuz"
      },
      "execution_count": null,
      "outputs": []
    }
  ]
}