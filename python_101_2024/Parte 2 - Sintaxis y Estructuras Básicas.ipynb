{
  "nbformat": 4,
  "nbformat_minor": 0,
  "metadata": {
    "colab": {
      "private_outputs": true,
      "provenance": [],
      "authorship_tag": "ABX9TyMNhyTvj6gyyVWgQJwKxcAt",
      "include_colab_link": true
    },
    "kernelspec": {
      "name": "python3",
      "display_name": "Python 3"
    },
    "language_info": {
      "name": "python"
    }
  },
  "cells": [
    {
      "cell_type": "markdown",
      "metadata": {
        "id": "view-in-github",
        "colab_type": "text"
      },
      "source": [
        "<a href=\"https://colab.research.google.com/github/mayait/Business-Analytics-Class/blob/main/python_101_2024/Parte%202%20-%20Sintaxis%20y%20Estructuras%20B%C3%A1sicas.ipynb\" target=\"_parent\"><img src=\"https://colab.research.google.com/assets/colab-badge.svg\" alt=\"Open In Colab\"/></a>"
      ]
    },
    {
      "cell_type": "markdown",
      "source": [
        "\n",
        "<img src=\"https://img.am80.com/images/1280/3/37490733b000629094d2b33b4e3f9865.webp\" >\n",
        "\n",
        "# Introducción a python\n",
        "# **Sintaxis y Estructuras Básicas**\n",
        "\n",
        "\t1.\tIntroducción a Python\n",
        "\t2.\tVariables y Nombres\n",
        "\t3.\tTipos de Datos en Python\n",
        "\t4.\tOperadores Aritméticos\n",
        "\t5.\tOperadores Relacionales y Lógicos\n",
        "\t6.\tStrings en Python\n",
        "\t7.\tEjercicios Prácticos\n"
      ],
      "metadata": {
        "id": "DFIHIZ3nSyQV"
      }
    },
    {
      "cell_type": "markdown",
      "source": [
        "En esta sección, exploraremos los conceptos fundamentales de la sintaxis de Python y sus estructuras básicas. Estos elementos son esenciales para escribir y entender programas en Python.\n",
        "\n",
        "A continuación, veremos ejemplos y ejercicios para entender mejor estos conceptos."
      ],
      "metadata": {
        "id": "gOlINAEhFdyG"
      }
    },
    {
      "cell_type": "markdown",
      "metadata": {
        "application/vnd.databricks.v1+cell": {
          "inputWidgets": {},
          "nuid": "d5069838-ccaa-40f8-915c-e90f99c1f19a",
          "showTitle": false,
          "title": ""
        },
        "id": "riS7dIfBSnOy"
      },
      "source": [
        "## Variables y Nombres\n",
        "\n",
        "Ahora que puedes imprimir cosas con `print` y puedes hacer matemáticas, el siguiente paso es aprender sobre variables. En programación, una variable no es más que un nombre para algo, similar a cómo mi nombre \"Juli\" es un nombre para \"El humano que está hablando sin parar\". Los programadores usamos estos nombres de variables para hacer que su código se lea más como inglés o espanglish y porque tienen mala memoria. Si no usaran buenos nombres para las cosas en su software, se perderían cuando intentaran leer su código de nuevo.\n",
        "\n",
        "Si te quedas atascado con este ejercicio, recuerda los trucos que se te han enseñado hasta ahora para encontrar diferencias y centrarte en los detalles:\n",
        "\n",
        "- Escribe un comentario sobre cada línea explicando en inglés qué hace.\n",
        "- Lee tu código Python hacia atrás.\n",
        "\n",
        "Su creacion se realiza a través de la **ASIGNACION** de un **VALOR** a una variable utilizando el operador ```=```.\n",
        "\n",
        "Nombres de Variables:\n",
        "*   Distingue el uso de mayúsculas y minúsculas\n",
        "*   No se permite caracteres de puntuación como +, -, @, $ y %.\n",
        "*   Significativos con relación al dato que  representa o almacena.\n",
        "*   Hay [palabras reservadas](https://es.wikibooks.org/wiki/Python/Generalidades/Palabras_reservadas,_operadores_y_s%C3%ADmbolos_del_lenguaje) que no son válidas como nombres de variables.\n",
        "*   Emplear las recomendaciones de [PEP-8](https://www.python.org/dev/peps/pep-0008/) para seguir mejores prácticas sobre cómo escribir código Python\n",
        "\n",
        "**Buena práctica:** Los nombres de las variables deben estar en minúsculas, con palabras separadas por guiones bajos según sea necesario para mejorar la legibilidad."
      ]
    },
    {
      "cell_type": "code",
      "execution_count": null,
      "metadata": {
        "application/vnd.databricks.v1+cell": {
          "inputWidgets": {},
          "nuid": "25d36d41-e0ae-4344-ae48-adb426dc181f",
          "showTitle": false,
          "title": ""
        },
        "id": "m1tMfiSYSnOy"
      },
      "outputs": [],
      "source": [
        "#Diferenciar entre mayúsculas y minúculas\n",
        "precio = 30\n",
        "Precio = 24\n",
        "Precio = 5555\n",
        "\n",
        "#¿Cuál será el resultado de imprimir Precio?\n",
        "Precio"
      ]
    },
    {
      "cell_type": "markdown",
      "metadata": {
        "application/vnd.databricks.v1+cell": {
          "inputWidgets": {},
          "nuid": "3ff681d2-9244-4a38-a361-9ce088140325",
          "showTitle": false,
          "title": ""
        },
        "id": "QEO6jKPHSnOw"
      },
      "source": [
        "# Tipos de datos en Python"
      ]
    },
    {
      "cell_type": "markdown",
      "metadata": {
        "application/vnd.databricks.v1+cell": {
          "inputWidgets": {},
          "nuid": "b9546d1e-1d6d-435d-be63-9f158ff8dd28",
          "showTitle": false,
          "title": ""
        },
        "id": "ii__00GBSnOx"
      },
      "source": [
        "Datos Primitivos en Python:\n",
        "* Numéricos: enteros `int`, decimales-punto flotante `float` y complejos `complex`\n",
        "* Lógicos: booleanos (```True``` y ```False```)\n",
        "* Cadenas de Caracteres: datos estructurados a partir de `str` (texto y palabras). No hay diferencia en el uso de comillas simples y dobles. La comillas triples se emplean para escribir múltiples líneas (párrafos)\n",
        "\n",
        "```type(x)``` es una función de Python que nos permite saber por consola el tipo de dato que es x."
      ]
    },
    {
      "cell_type": "code",
      "execution_count": null,
      "metadata": {
        "application/vnd.databricks.v1+cell": {
          "inputWidgets": {},
          "nuid": "a02763fe-4de7-48a4-a80c-6acaa8caed95",
          "showTitle": false,
          "title": ""
        },
        "id": "wiiK8sv2SnOx"
      },
      "outputs": [],
      "source": [
        "#NUMERICOS:\n",
        "print(type(-8), type(5.6), type(1-2j), type(\"hola\"))"
      ]
    },
    {
      "cell_type": "code",
      "execution_count": null,
      "metadata": {
        "application/vnd.databricks.v1+cell": {
          "inputWidgets": {},
          "nuid": "59dec889-78fd-430c-9e59-6cc3ac9cff17",
          "showTitle": false,
          "title": ""
        },
        "id": "dYerKwGNSnOx"
      },
      "outputs": [],
      "source": [
        "#BOOLEANOS\n",
        "print(type(True), type(False))"
      ]
    },
    {
      "cell_type": "code",
      "execution_count": null,
      "metadata": {
        "application/vnd.databricks.v1+cell": {
          "inputWidgets": {},
          "nuid": "bfea53de-62b1-45e4-b63c-11e79dd72d12",
          "showTitle": false,
          "title": ""
        },
        "id": "g6Sxk8egSnOy"
      },
      "outputs": [],
      "source": [
        "#CADENAS DE CARACTERES\n",
        "print(type('Palabras'), type(\"Uso de oraciones\"), type('''Se emplea para párrafos. Incluye múltiples oraciones'''))"
      ]
    },
    {
      "cell_type": "markdown",
      "source": [
        "**Tipado dinámico:** No necesitas declarar el tipo de una variable antes de usarla. Python determina automáticamente el tipo de datos en tiempo de ejecución."
      ],
      "metadata": {
        "id": "J91d9gUeDHie"
      }
    },
    {
      "cell_type": "code",
      "source": [
        "x = 5  # x es un entero\n",
        "x = \"hello\"  # ahora x es una cadena"
      ],
      "metadata": {
        "id": "fYlpgdnbDJX6"
      },
      "execution_count": null,
      "outputs": []
    },
    {
      "cell_type": "markdown",
      "source": [
        "**Anotaciones de tipo:** Desde Python 3.5, puedes proporcionar anotaciones de tipo utilizando la sintaxis : después del nombre de la variable o argumento de función, seguido del tipo esperado."
      ],
      "metadata": {
        "id": "Hj2wbgpWCCur"
      }
    },
    {
      "cell_type": "code",
      "source": [
        "first_name: str = \"Julian\"\n",
        "age: int = 39"
      ],
      "metadata": {
        "id": "tpV_jHCLCCD0"
      },
      "execution_count": null,
      "outputs": []
    },
    {
      "cell_type": "markdown",
      "source": [
        "La anotación de tipo es simplemente una sugerencia o un tipo esperado, pero el valor real asignado es un flotante debido a la presencia del decimal. Esto no genera un error en Python debido a su naturaleza de tipado dinámico, pero podría ser considerado un error semántico o de lógica dependiendo del contexto del código."
      ],
      "metadata": {
        "id": "CU55kwsVDrN7"
      }
    },
    {
      "cell_type": "code",
      "source": [
        "age: int = \"treinta y nueve\""
      ],
      "metadata": {
        "id": "Aiao1yNNCs6S"
      },
      "execution_count": null,
      "outputs": []
    },
    {
      "cell_type": "markdown",
      "metadata": {
        "application/vnd.databricks.v1+cell": {
          "inputWidgets": {},
          "nuid": "815d099d-176d-4870-ac05-6f60a395f37c",
          "showTitle": false,
          "title": ""
        },
        "id": "U3cnDWlfSnO0"
      },
      "source": [
        "# Operadores aritméticos"
      ]
    },
    {
      "cell_type": "markdown",
      "metadata": {
        "application/vnd.databricks.v1+cell": {
          "inputWidgets": {},
          "nuid": "1d87da48-4716-46e7-85e2-886ff6a9c080",
          "showTitle": false,
          "title": ""
        },
        "id": "xO0ABUsgSnO0"
      },
      "source": [
        "Cada lenguaje de programación tiene alguna forma de hacer números y matemáticas. No te preocupes: los programadores frecuentemente mienten sobre ser genios matemáticos cuando realmente no lo son. Si fueran genios matemáticos, estarían haciendo matemáticas, no escribiendo marcos web con errores para poder conducir coches de carreras.\n",
        "\n",
        "Este ejercicio tiene muchos símbolos matemáticos. Vamos a nombrarlos de inmediato para que sepas cómo se llaman. Mientras los tecleas, di el nombre. Cuando decirlos se vuelva aburrido, puedes dejar de decirlos. Aquí están los nombres:\n",
        "\n",
        "- \\+ más **SUMA**\n",
        "- \\- menos\n",
        "- / barra\n",
        "- \\* asterisco\n",
        "- % porcentaje\n",
        "\n",
        "\n",
        "🌶️ Viste cómo faltan las operaciones? Después de teclear el código de este ejercicio, regresa y averigua qué hace cada uno de estos y completa la tabla. Por ejemplo, \\+ hace la suma.\n",
        "\n"
      ]
    },
    {
      "cell_type": "code",
      "source": [
        "print(\"Ahora contaré mis gallinas:\")\n",
        "\n",
        "print(\"Gallinas\", 25 + 30 / 6)\n",
        "print(\"Gallos\", 100 - 25 * 3 % 7)\n",
        "\n",
        "print(\"Ahora contaré los huevos:\")\n",
        "\n",
        "print(3 + 2 + 1 - 5 + 4 % 2 - 1 / 4 + 6)\n",
        "\n",
        "print(\"¿Es verdad que 3 + 2 < 5 - 7?\")\n",
        "\n",
        "print(3 + 2 < 5 - 7)\n",
        "\n",
        "print(\"¿Cuánto es 3 + 2?\", 3 + 2)\n",
        "print(\"¿Cuánto es 5 - 7?\", 5 - 7)\n",
        "\n",
        "print(\"Oh, por eso es Falso.\")\n",
        "\n",
        "print(\"¿Qué tal algo más?\")\n",
        "\n",
        "print(\"¿Es mayor?\", 5 > -2)\n",
        "print(\"¿Es mayor o igual?\", 5 >= -2)\n",
        "print(\"¿Es menor o igual?\", 5 <= -2)"
      ],
      "metadata": {
        "id": "hGcByOXdJhwL"
      },
      "execution_count": null,
      "outputs": []
    },
    {
      "cell_type": "code",
      "execution_count": null,
      "metadata": {
        "application/vnd.databricks.v1+cell": {
          "inputWidgets": {},
          "nuid": "8915e35f-757c-4878-83c3-d9e41da052b5",
          "showTitle": false,
          "title": ""
        },
        "id": "PAd3qC7SSnO0"
      },
      "outputs": [],
      "source": [
        "# Ejecutar diferentes tipos de operaciones en los datos\n",
        "a = 5 ** 5\n",
        "print(a)"
      ]
    },
    {
      "cell_type": "markdown",
      "source": [
        "# 🌶️ EJERCICIO 1:\n",
        "\n",
        "Cuando revisamos los datos del accidente del Titanic tenemos algunos datos:\n",
        "\n",
        "\n",
        "- Había 891 pasajeros a bordo del Titanic (total),\n",
        "\n",
        "- 342 pasajeros sobrevivieron (survived)\n",
        "\n",
        "- 113 pasajeros eran menores de 18 años (minors)\n",
        "\n",
        "\n",
        "\n",
        "En la siguiente celda de código, reemplace los subrayados (____) con código para calcular los valores de dos variables más:\n",
        "\n",
        "- *survived_fraction* debe establecerse en la fracción de pasajeros que sobrevivieron al desastre del Titanic.\n",
        "- *minors_fraction* debe ser la fracción de pasajeros que eran menores de edad (menores de 18 años).\n",
        "Para cada variable, su respuesta debe ser un número entre 0 y 1."
      ],
      "metadata": {
        "id": "N7GiobMABl2k"
      }
    },
    {
      "cell_type": "code",
      "source": [
        "total = ____\n",
        "survived = ____\n",
        "\n",
        "survived_fraction = ____\n",
        "\n",
        "# Print the value of the variable\n",
        "print(survived_fraction)\n",
        "\n",
        "# TODO: Fill in the value of the minors_fraction variable\n",
        "minors_fraction = ____\n",
        "\n",
        "# Print the value of the variable\n",
        "print(minors_fraction)"
      ],
      "metadata": {
        "id": "nSpKSNnpCbMP"
      },
      "execution_count": null,
      "outputs": []
    },
    {
      "cell_type": "markdown",
      "metadata": {
        "application/vnd.databricks.v1+cell": {
          "inputWidgets": {},
          "nuid": "f8d1ecc5-49dc-4d5e-bcb5-57e35f8ec0e2",
          "showTitle": false,
          "title": ""
        },
        "id": "HSCEx9foSnO0"
      },
      "source": [
        "# Operadores Relacionales y lógicos\n",
        "* Operadores **RELACIONALES**: Comparan valores y devuelven un booleano (```True``` o ```False```) según corresponda el resultado de la evaluación."
      ]
    },
    {
      "cell_type": "code",
      "execution_count": null,
      "metadata": {
        "application/vnd.databricks.v1+cell": {
          "inputWidgets": {},
          "nuid": "4a470680-8dd3-4d98-a502-fb1da3a57d75",
          "showTitle": false,
          "title": ""
        },
        "id": "Jk9PTyr0SnO1"
      },
      "outputs": [],
      "source": [
        "a = 9 # Almacena el valor 9 en a\n",
        "a == 8 # Confirmame si a es igual a 8"
      ]
    },
    {
      "cell_type": "code",
      "execution_count": null,
      "metadata": {
        "application/vnd.databricks.v1+cell": {
          "inputWidgets": {},
          "nuid": "1bd94cf2-4a2a-49d2-84d9-bb56719a2305",
          "showTitle": false,
          "title": ""
        },
        "id": "Ur82l1N9SnO1"
      },
      "outputs": [],
      "source": [
        "a=4\n",
        "b=18\n",
        "print(\"mayor que:\", a > b)\n",
        "print(\"menor que:\", a < b)"
      ]
    },
    {
      "cell_type": "code",
      "execution_count": null,
      "metadata": {
        "application/vnd.databricks.v1+cell": {
          "inputWidgets": {},
          "nuid": "f3c54393-228e-4de0-bf14-dfa366eca911",
          "showTitle": false,
          "title": ""
        },
        "id": "J7c8wI3ISnO1"
      },
      "outputs": [],
      "source": [
        "a, b = 1, 5\n",
        "print(\"mayor o igual que:\", b >= a)    # 5 >= 1\n",
        "print(\"menor o igual que:\", -1 <= a)   # -1 <= 1"
      ]
    },
    {
      "cell_type": "code",
      "execution_count": null,
      "metadata": {
        "id": "FJIo9qE6TzOU"
      },
      "outputs": [],
      "source": [
        "# ¿Es verdadera esta expresión?\n",
        "5 > 3 > 1"
      ]
    },
    {
      "cell_type": "code",
      "execution_count": null,
      "metadata": {
        "id": "v0IlHwxSTzOU"
      },
      "outputs": [],
      "source": [
        "# ¿Es verdadera esta expresión?\n",
        "5 > 3 < 4 == 3 + 1"
      ]
    },
    {
      "cell_type": "markdown",
      "metadata": {
        "application/vnd.databricks.v1+cell": {
          "inputWidgets": {},
          "nuid": "d891e59a-4b9a-4677-949a-7f79b917990a",
          "showTitle": false,
          "title": ""
        },
        "id": "xiZvB3fjSnO2"
      },
      "source": [
        "# Operadores **LÓGICOS**:\n",
        "\n",
        "Permiten construir expresiones lógicas. El resultado es un booleano.\n",
        ">NOTA: Revisa [tablas de verdad](https://es.wikipedia.org/wiki/Tabla_de_verdad) para las operaciones de conjunción, disyunción y negación.\n"
      ]
    },
    {
      "cell_type": "code",
      "execution_count": null,
      "metadata": {
        "application/vnd.databricks.v1+cell": {
          "inputWidgets": {},
          "nuid": "384fd4a4-566f-47ea-9a60-08b399485872",
          "showTitle": false,
          "title": ""
        },
        "id": "Iz-sy8RbSnO2"
      },
      "outputs": [],
      "source": [
        "# CONJUNCION (and)\n",
        "a = 4\n",
        "a >= 1 and a <= 5   #(4>=1)  and  (4<=5)  = True"
      ]
    },
    {
      "cell_type": "code",
      "execution_count": null,
      "metadata": {
        "application/vnd.databricks.v1+cell": {
          "inputWidgets": {},
          "nuid": "f689b33f-59bb-4de9-a847-264965f4b193",
          "showTitle": false,
          "title": ""
        },
        "id": "hOq4kMl_SnO2"
      },
      "outputs": [],
      "source": [
        "# DISYUNCION (or)\n",
        "a = 7\n",
        "a >= 6 or a == 10   #(7>=6) or (a==10) = True"
      ]
    },
    {
      "cell_type": "code",
      "execution_count": null,
      "metadata": {
        "application/vnd.databricks.v1+cell": {
          "inputWidgets": {},
          "nuid": "d0dc3f83-f788-49f0-9828-80300c37aa8f",
          "showTitle": false,
          "title": ""
        },
        "id": "sa2gmIRsSnO2"
      },
      "outputs": [],
      "source": [
        "# NEGACION (not)\n",
        "a = False\n",
        "not a"
      ]
    },
    {
      "cell_type": "markdown",
      "source": [
        "**Lista de símbolos comunes que puede usar para construir condiciones.**\n",
        "\n",
        "---\n",
        "\n",
        "\n",
        "\n",
        "<table>\n",
        "<tbody>\n",
        "<tr><th><b>Symbol</b></th><th><b>Meaning</b></th></tr>\n",
        "<tr>\n",
        "<td>==</td>\n",
        "<td>equals</td>\n",
        "</tr>\n",
        "<tr>\n",
        "<td>!=</td>\n",
        "<td>does not equal</td>\n",
        "</tr>\n",
        "<tr>\n",
        "<td>&#60;</td>\n",
        "<td>less than</td>\n",
        "</tr>\n",
        "<tr>\n",
        "<td>&#60;=</td>\n",
        "<td>less than or equal to</td>\n",
        "</tr>\n",
        "<tr>\n",
        "<td>&#62;</td>\n",
        "<td>greater than</td>\n",
        "</tr>\n",
        "<tr>\n",
        "<td>&#62;=</td>\n",
        "<td>greater than or equal to</td>\n",
        "</tr>\n",
        "</tbody>\n",
        "</table>\n",
        "\n",
        "**💡Nota importante**: cuando verifique que dos valores sean iguales, asegúrese de usar el signo == y no el signo =.\n",
        "- `var_one==1` comprueba si el valor de `var_one` es 1, pero\n",
        "- `var_one=1` establece el valor de `var_one` en 1."
      ],
      "metadata": {
        "id": "kA1CC3z8I8C3"
      }
    },
    {
      "cell_type": "markdown",
      "metadata": {
        "application/vnd.databricks.v1+cell": {
          "inputWidgets": {},
          "nuid": "3e848e0c-5c4d-4c4d-ac4a-ef489907c8f7",
          "showTitle": false,
          "title": ""
        },
        "id": "C9W49GQOSnO3"
      },
      "source": [
        "# Operadores de **PERTENENCIA**:\n",
        "Permiten evidenciar si un objeto forma parte o no de una secuencia. El resultado es un booleano."
      ]
    },
    {
      "cell_type": "code",
      "execution_count": null,
      "metadata": {
        "application/vnd.databricks.v1+cell": {
          "inputWidgets": {},
          "nuid": "19ed636e-7e1b-480e-b998-9501fca66ed6",
          "showTitle": false,
          "title": ""
        },
        "id": "422j-h-ISnO3"
      },
      "outputs": [],
      "source": [
        "texto = \"La escritura en Python es intuitiva\"\n",
        "\n",
        "# SE ENCUENTRA (in)\n",
        "print('N' in texto)\n",
        "\n",
        "# NO SE ENCUENTRA (not in)\n",
        "print('x' not in texto)"
      ]
    },
    {
      "cell_type": "markdown",
      "metadata": {
        "application/vnd.databricks.v1+cell": {
          "inputWidgets": {},
          "nuid": "45bac491-6544-41f9-aca1-6346fa9b9d40",
          "showTitle": false,
          "title": ""
        },
        "id": "NYliVBvaSnO4"
      },
      "source": [
        "## ⚠️ Prioridad de Operadores:\n",
        "\n",
        "**Nota** Cuando se utilizan varios operadores en una sola expresión, la precedencia de los operadores determina qué partes de la expresión se evalúan y en qué orden. Los operadores con mayor precedencia se evalúan primero. Los operadores con la misma precedencia se evalúan de izquierda a derecha.\n",
        "\n",
        "Orden de los operadores:\n",
        "- () parentheses, for grouping\n",
        "- ** exponent\n",
        "- *, / multiplication and division\n",
        "- +, - addition and subtraction\n",
        "- ==, !=, <, <=, >, >= comparisons\n",
        "\n",
        "En resumen:\n",
        "\n",
        "1.   Parentesis\n",
        "2.   Potencia\n",
        "3.  Multiplicación y división\n",
        "4.  Suma y resta\n",
        "5. Comparaciones\n"
      ]
    },
    {
      "cell_type": "code",
      "execution_count": null,
      "metadata": {
        "application/vnd.databricks.v1+cell": {
          "inputWidgets": {},
          "nuid": "fc000586-85bb-451d-9f9e-3c553ba4a7f4",
          "showTitle": false,
          "title": ""
        },
        "id": "174F9CI7SnO4"
      },
      "outputs": [],
      "source": [
        "y = -1 + 2 * 0 - (24 / 2 ** 3)\n",
        "\n",
        "print(y)"
      ]
    },
    {
      "cell_type": "markdown",
      "source": [
        "# **Strings en Python**\n",
        "\n",
        "\n"
      ],
      "metadata": {
        "id": "QCaCNl3GEEXS"
      }
    },
    {
      "cell_type": "markdown",
      "source": [
        "**Cadenas:**\n",
        "El tipo str en Python se refiere a las cadenas de caracteres, que son secuencias de caracteres Unicode. Las cadenas en Python pueden contener letras, números, símbolos y caracteres especiales, y se utilizan para representar texto."
      ],
      "metadata": {
        "id": "ezhgPZjqEQst"
      }
    },
    {
      "cell_type": "markdown",
      "source": [
        "**Índices y slicing o rebanadas:** Los strings se comportan como listas, puedes hacerles slicing. Puedes acceder a caracteres individuales en una cadena utilizando índices y puedes obtener subcadenas utilizando slicing. Esto veremos despues en listas."
      ],
      "metadata": {
        "id": "C7VH9B5_Eqf8"
      }
    },
    {
      "cell_type": "code",
      "source": [
        "cadena = \"Hola\"\n",
        "cadena[0]"
      ],
      "metadata": {
        "id": "0ETlbbLtWc-n"
      },
      "execution_count": null,
      "outputs": []
    },
    {
      "cell_type": "code",
      "source": [
        "cadena[3]"
      ],
      "metadata": {
        "id": "9jZLUXF4Whx5"
      },
      "execution_count": null,
      "outputs": []
    },
    {
      "cell_type": "markdown",
      "source": [
        "**Inmutable:** Las cadenas en Python son objetos inmutables, lo que significa que una vez que se crea una cadena, no se puede modificar. Si necesitas modificar una cadena, debes crear una nueva.\n",
        "\n",
        "\n",
        "```python\n",
        "cadena = \"Hola\"\n",
        "# Esto generaría un error, ya que las cadenas son inmutables\n",
        "cadena[0] = 'h'\n",
        "```\n",
        "\n"
      ],
      "metadata": {
        "id": "59eh1xsWEf_X"
      }
    },
    {
      "cell_type": "code",
      "source": [],
      "metadata": {
        "id": "n0-nF5u6Ehxw"
      },
      "execution_count": null,
      "outputs": []
    },
    {
      "cell_type": "markdown",
      "source": [
        "**Concatenación:** Puedes concatenar cadenas utilizando el operador +."
      ],
      "metadata": {
        "id": "fV2HljEQE2I3"
      }
    },
    {
      "cell_type": "code",
      "source": [
        "saludo = \"Hola\"\n",
        "nombre = \"Mundo\"\n",
        "saludo_completo = saludo + \" \" + nombre\n",
        "print(saludo_completo)"
      ],
      "metadata": {
        "id": "sNGXRmVnE6-R"
      },
      "execution_count": null,
      "outputs": []
    },
    {
      "cell_type": "markdown",
      "source": [
        "**Formato de cadena:** Python ofrece varias formas de formatear cadenas, incluyendo el método format() y las f-strings (cadenas f)"
      ],
      "metadata": {
        "id": "9_w_P-PRE9MX"
      }
    },
    {
      "cell_type": "code",
      "source": [
        "nombre = \"Juan\"\n",
        "edad = 30\n",
        "print(\"Hola, mi nombre es {} y tengo {} años.\".format(nombre, edad))"
      ],
      "metadata": {
        "id": "jEKm3e_8EdNU"
      },
      "execution_count": null,
      "outputs": []
    },
    {
      "cell_type": "markdown",
      "source": [
        "**Cadena multilínea:** Puedes crear cadenas multilínea utilizando comillas triples (\"\"\" o ''')."
      ],
      "metadata": {
        "id": "awP7GIN4FJp9"
      }
    },
    {
      "cell_type": "code",
      "source": [
        "poema = \"\"\"\n",
        "En un lugar de la Mancha,\n",
        "de cuyo nombre no quiero acordarme,\n",
        "no ha mucho tiempo que vivía un hidalgo...\n",
        "\"\"\"\n",
        "print(poema)"
      ],
      "metadata": {
        "id": "inT7EoLkFMZx"
      },
      "execution_count": null,
      "outputs": []
    },
    {
      "cell_type": "markdown",
      "source": [
        "**Las f-strings** son una característica introducida en Python 3.6 que te permite insertar valores de variables directamente dentro de una cadena de una manera muy legible y concisa."
      ],
      "metadata": {
        "id": "yO9BWm3KFeSO"
      }
    },
    {
      "cell_type": "code",
      "source": [
        "nombre = \"Mundo\"\n",
        "saludo = f\"Hola {nombre}!\"\n",
        "print(saludo)"
      ],
      "metadata": {
        "id": "ykQMs8KCFgrM"
      },
      "execution_count": null,
      "outputs": []
    },
    {
      "cell_type": "code",
      "source": [
        "# Puedes incluir cualquier expresión Python válida dentro de las llaves {}.\n",
        "numero = 42\n",
        "saludo = f\"El doble de {numero} es {numero * 2}.\"\n",
        "print(saludo)"
      ],
      "metadata": {
        "id": "kry0FJmsFoxd"
      },
      "execution_count": null,
      "outputs": []
    },
    {
      "cell_type": "code",
      "source": [
        "# Puedes incluir expresiones matemáticas simples\n",
        "a = 10\n",
        "b = 5\n",
        "resultado = f\"La suma de {a} y {b} es {a + b}, y su resta es {a - b}.\"\n",
        "print(resultado)"
      ],
      "metadata": {
        "id": "csuCqJV8F2bs"
      },
      "execution_count": null,
      "outputs": []
    },
    {
      "cell_type": "code",
      "source": [
        "# Puedes redondear números dentro de una f-string utilizando la función round().\n",
        "\n",
        "pi = 3.14159265358979323846\n",
        "resultado = f\"El valor de pi redondeado a dos decimales es {round(pi, 2)}.\"\n",
        "print(resultado)"
      ],
      "metadata": {
        "id": "9H2upKBaF-Mo"
      },
      "execution_count": null,
      "outputs": []
    },
    {
      "cell_type": "code",
      "source": [
        "# Puedes utilizar cadenas de formato dentro de f-strings\n",
        "\n",
        "precio = 99.9595\n",
        "resultado = f\"El precio es ${precio:.2f}.\"\n",
        "print(resultado)"
      ],
      "metadata": {
        "id": "inO4LLF1GHUJ"
      },
      "execution_count": null,
      "outputs": []
    },
    {
      "cell_type": "code",
      "source": [],
      "metadata": {
        "id": "U_1PSNIhX0ap"
      },
      "execution_count": null,
      "outputs": []
    },
    {
      "cell_type": "markdown",
      "source": [
        "# 🌶️ EJERCICIO 2.1\n",
        "\n",
        "Una empresa de transporte tiene un número determinado de coches, conductores y pasajeros a transportar en un día. Necesitas calcular cuántos autos no serán conducidos, la capacidad total de transporte para el día y el promedio de pasajeros por autos.\n",
        "\n",
        "Datos Iniciales:\n",
        "*   cars = 100 (Número total de coches)\n",
        "*   space_in_a_car = 4.0 (Espacio disponible en un coche)\n",
        "*   drivers = 30 (Número total de conductores)\n",
        "*   passengers = 90 (Número total de pasajeros)\n",
        "\n",
        "**Calcula y asigna los valores a las siguientes variables:**\n",
        "*   cars_not_driven: Número de coches que no se conducirán.\n",
        "*   cars_driven: Número de coches que se conducirán (igual al número de conductores).\n",
        "*   carpool_capacity: Capacidad total de transporte para el día.\n",
        "*   average_passengers_per_car: Promedio de pasajeros por coche.\n",
        "\n",
        "\n"
      ],
      "metadata": {
        "id": "ro851FXpLkcd"
      }
    },
    {
      "cell_type": "code",
      "source": [
        "cars = 100\n",
        "space_in_a_car = 4.0\n",
        "drivers = 30\n",
        "passengers = 90\n",
        "\n",
        "# haz los calculos\n",
        "\n",
        "print(\"Hay\", cars, \"autos disponibles.\")\n",
        "print(\"Solo hay\", drivers, \"conductores disponibles.\")\n",
        "#print(\"Habrá\", cars_not_driven, \"coches vacíos hoy.\")\n",
        "#print(\"Podemos transportar\", carpool_capacity, \"personas hoy.\")\n",
        "#print(\"Tenemos\", passengers, \"para compartir el coche hoy.\")\n",
        "#print(\"Necesitamos poner aproximadamente\", average_passengers_per_car,\"en cada autos.\")"
      ],
      "metadata": {
        "id": "9Zey5YhSLKU0"
      },
      "execution_count": null,
      "outputs": []
    },
    {
      "cell_type": "markdown",
      "metadata": {
        "application/vnd.databricks.v1+cell": {
          "inputWidgets": {},
          "nuid": "22437958-edfc-4106-81f8-21152823b943",
          "showTitle": false,
          "title": ""
        },
        "id": "IP4BR5rKSnO3"
      },
      "source": [
        "# 🌶️ EJERCICIO 2.2\n",
        "\n",
        "Realizar las siguientes ejecuciones de código, cree una celda para cada pregunta:\n",
        "\n",
        "1. Imprimir el tipo de dato que es x\n",
        "2. Verificar que el valor de x sea mayor igual a 0 y menor igual a 10\n",
        "3. Evaluar si x es diferente a 4\n",
        "4. Dividir x para el valor de 2 (obtener el cociente)\n",
        "5. Cree una variable llamada _carname_ y asígnele el valor Volvo\n",
        "6. Muestre en pantalla el contenido de la variable _carname_\n"
      ]
    },
    {
      "cell_type": "code",
      "execution_count": null,
      "metadata": {
        "application/vnd.databricks.v1+cell": {
          "inputWidgets": {},
          "nuid": "da41b0c0-c866-4a9d-b8d3-188d603a4a9f",
          "showTitle": false,
          "title": ""
        },
        "id": "apGXVgOcSnO4"
      },
      "outputs": [],
      "source": [
        "# Ejercicio 2\n",
        "\n",
        "x = 3\n",
        "print('X es de tipo:', type(x))"
      ]
    },
    {
      "cell_type": "markdown",
      "source": [
        "# Más Variables e Impresión\n",
        "\n",
        "Las cadenas son realmente útiles, así que en este ejercicio aprenderás a hacer cadenas que tienen variables incrustadas en ellas. Incrustas variables dentro de una cadena usando una secuencia especial de {} y luego pones la variable que quieres dentro de los caracteres {}. También debes comenzar la cadena con la letra f para \"formato\", como en f\"Hola {somevar}\". Esta pequeña f antes de las \"(comillas dobles) y los caracteres {} le dicen a Python 3: \"Oye, esta cadena necesita ser formateada. Pon estas variables ahí\".\n"
      ],
      "metadata": {
        "id": "OvPeBPu3Mp3y"
      }
    },
    {
      "cell_type": "code",
      "source": [
        "nombre = 'Julián'\n",
        "edad = 40 # no es mentira\n",
        "altura = 175 # cm\n",
        "peso = 80 # kilos\n",
        "ojos = 'Oscuros'\n",
        "cabello = 'Marrón'\n",
        "\n",
        "print(f\"Hablemos sobre {nombre}.\")\n",
        "print(f\"Él mide {altura} pulgadas de alto.\")\n",
        "print(f\"Pesa {peso} libras.\")\n",
        "print(\"En realidad eso no es demasiado pesado.\")\n",
        "print(f\"Tiene ojos {ojos} y cabello {cabello}.\")"
      ],
      "metadata": {
        "id": "aJ8ixMH1OZ43"
      },
      "execution_count": null,
      "outputs": []
    },
    {
      "cell_type": "code",
      "source": [
        "# esta línea es complicada, trata de hacerla exactamente bien\n",
        "total = edad + altura + peso\n",
        "print(f\"Si sumo {edad}, {altura} y {peso} obtengo {total}.\")"
      ],
      "metadata": {
        "id": "Koo8FCiIOdgF"
      },
      "execution_count": null,
      "outputs": []
    },
    {
      "cell_type": "markdown",
      "source": [
        "\n",
        "\n",
        "# 🌶️ EJERCICIO 2.3\n",
        "\n",
        "- Crea variables para almacenar una altura en pulgadas (altura_pulgadas) y un peso en libras (peso_libras). Puedes asignarles valores numéricos directamente.\n",
        "\n",
        "- Utiliza fórmulas para convertir altura_pulgadas a centímetros y peso_libras a kilogramos.\n",
        "\n",
        "- Imprime los resultados de las conversiones en un formato legible, como \"X pulgadas son Y centímetros\" y \"X libras son Y kilogramos\"."
      ],
      "metadata": {
        "id": "Vmld9pspPbRr"
      }
    },
    {
      "cell_type": "code",
      "source": [
        "#"
      ],
      "metadata": {
        "id": "8L3FRGIxPaL9"
      },
      "execution_count": null,
      "outputs": []
    },
    {
      "cell_type": "markdown",
      "source": [
        "## Preguntando a las Personas\n",
        "\n",
        "Ahora es el momento de acelerar el ritmo. Has estado haciendo muchas impresiones para familiarizarte con escribir cosas simples, pero esas cosas simples son bastante aburridas. Lo que queremos hacer ahora es obtener datos en tus programas. Esto es un poco complicado porque tienes que aprender a hacer dos cosas que pueden no tener sentido de inmediato, pero confía en mí y hazlo de todos modos. Tendrá sentido en unos pocos ejercicios.\n",
        "\n",
        "La mayor parte de lo que hace el software es lo siguiente:\n",
        "\n",
        "1. Tomar algún tipo de entrada de una persona.\n",
        "2. Cambiarla.\n",
        "3. Imprimir algo para mostrar cómo cambió.\n",
        "\n",
        "Hasta ahora has estado imprimiendo cadenas, pero no has podido obtener ninguna entrada de una persona. Puede que ni siquiera sepas qué significa \"entrada\", pero escribe este código de todos modos y hazlo exactamente igual. En el próximo ejercicio haremos más para explicar la entrada.\n",
        "\n",
        "```python\n",
        "print(\"¿Cuántos años tienes?\", end=' ')\n",
        "edad = input()\n",
        "print(\"¿Cuánto mides?\", end=' ')\n",
        "altura = input()\n",
        "print(\"¿Cuánto pesas?\", end=' ')\n",
        "peso = input()\n",
        "\n",
        "print(f\"Entonces, tienes {edad} años, mides {altura} y pesas {peso}.\")\n",
        "```"
      ],
      "metadata": {
        "id": "EW6gBVSoQvgW"
      }
    },
    {
      "cell_type": "code",
      "source": [
        "print(\"¿Cuántos años tienes?\", end=' ')\n",
        "edad = input()"
      ],
      "metadata": {
        "id": "gbJ82V8WQVyy"
      },
      "execution_count": null,
      "outputs": []
    }
  ]
}