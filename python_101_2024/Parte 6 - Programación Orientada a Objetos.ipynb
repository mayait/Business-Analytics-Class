{
  "cells": [
    {
      "cell_type": "markdown",
      "metadata": {
        "id": "view-in-github",
        "colab_type": "text"
      },
      "source": [
        "<a href=\"https://colab.research.google.com/github/mayait/Business-Analytics-Class/blob/main/python_101_2024/Parte%206%20-%20Programaci%C3%B3n%20Orientada%20a%20Objetos.ipynb\" target=\"_parent\"><img src=\"https://colab.research.google.com/assets/colab-badge.svg\" alt=\"Open In Colab\"/></a>"
      ]
    },
    {
      "cell_type": "markdown",
      "metadata": {
        "application/vnd.databricks.v1+cell": {
          "inputWidgets": {},
          "nuid": "18783605-2c3d-4c8a-98f1-b214ed5702c8",
          "showTitle": false,
          "title": ""
        },
        "id": "Nndf-4PDow-A"
      },
      "source": [
        "# Programación orientada a objetos en Python\n",
        "\n",
        "#### Clases / Objetos\n",
        "En la verdadera programación orientada a objetos (OOP), el desarrollador escribe código en torno a cosas llamadas objetos. Un objeto (o una clase) agrupa datos y funciones que operan sobre esos datos. Es posible que conozca esta terminología de *C++* y otros lenguajes.\n",
        "\n",
        "#### Módulos\n",
        "Los módulos en Python contienen grandes cantidades de código que se encuentran relacionados. En la mayoría de los casos, poseen varias clases y funciones que abordan una necesidad particular.\n",
        "\n",
        "#### Librerías / Bibliotecas\n",
        "Las librerías pueden contener múltiples módulos que van juntos. Las librerías generalmente tiene una estructura de directorio específica.\n",
        "\n",
        "<img src=\"https://media.dev.to/cdn-cgi/image/width=800%2Cheight=%2Cfit=scale-down%2Cgravity=auto%2Cformat=auto/https%3A%2F%2Fdev-to-uploads.s3.amazonaws.com%2Fuploads%2Farticles%2Fbpcvpxpcdqnxqn53n3zf.png\" width=\"80%\"/>\n",
        "\n",
        "# Clase Coche en Python\n",
        "\n",
        "La clase `Coche` en Python puede ser utilizada para crear objetos que representan coches en el mundo real. La clase incluirá atributos como `color`, `tamaño`, `motor`, `precio`, y `modelo`, y comportamientos, que son métodos, como `conducir`, `estacionar`, `arrancar`, y `detener`.\n",
        "\n",
        "```python\n",
        "class Coche:\n",
        "    def __init__(self, color, tamano, motor, precio, modelo):\n",
        "        self.color = color\n",
        "        self.tamano = tamano\n",
        "        self.motor = motor\n",
        "        self.precio = precio\n",
        "        self.modelo = modelo\n",
        "    \n",
        "    def conducir(self):\n",
        "        return \"El coche está en movimiento.\"\n",
        "    \n",
        "    def estacionar(self):\n",
        "        return \"El coche está estacionado.\"\n",
        "    \n",
        "    def arrancar(self):\n",
        "        return \"El coche ha arrancado.\"\n",
        "    \n",
        "    def detener(self):\n",
        "        return \"El coche se ha detenido.\"\n",
        "\n",
        "```\n",
        "### Creación de objetos\n",
        "\n",
        "```python\n",
        "coche_azul = Coche(\"azul\", \"212 pulgadas\", \"3.6L V6\", \"50,000 USD\", \"AL3\")\n",
        "coche_rojo = Coche(\"rojo\", \"143 pulgadas\", \"1.4L 4-cyl\", \"12,000 USD\", \"HA2\")\n",
        "\n",
        "print(coche_azul.conducir())\n",
        "print(coche_rojo.estacionar())\n",
        "```\n",
        "\n",
        "\n",
        "\n"
      ]
    },
    {
      "cell_type": "markdown",
      "source": [
        "## ¿Qué es una Clase?\n",
        "Una clase en Python actúa como un plano para crear objetos. Define un conjunto de atributos y métodos que los objetos creados a partir de la clase pueden utilizar."
      ],
      "metadata": {
        "id": "8-q7FM_I-aS0"
      }
    },
    {
      "cell_type": "code",
      "source": [
        "class MiClase:\n",
        "    \"\"\"Esta es una clase simple de ejemplo.\"\"\"\n",
        "    atributo = \"un valor\"\n",
        "\n",
        "    def metodo(self):\n",
        "        return \"Este es un método de la clase\""
      ],
      "metadata": {
        "id": "D7VMzsG5-LdS"
      },
      "execution_count": null,
      "outputs": []
    },
    {
      "cell_type": "markdown",
      "source": [
        "## Creando Objetos\n",
        "Los objetos son instancias de una clase. Al crear un objeto, este hereda todos los atributos y métodos definidos en la clase."
      ],
      "metadata": {
        "id": "yWmaDZXC-mn6"
      }
    },
    {
      "cell_type": "code",
      "source": [
        "mi_objeto = MiClase()\n",
        "print( mi_objeto.atributo )  # Salida: un valor\n",
        "print( mi_objeto.metodo() )  # Salida: Este es un método de la clase\n"
      ],
      "metadata": {
        "colab": {
          "base_uri": "https://localhost:8080/"
        },
        "id": "0mLGFbpJ-qcO",
        "outputId": "d0a040c1-a095-48b1-edeb-0fe2d5335e4b"
      },
      "execution_count": null,
      "outputs": [
        {
          "output_type": "stream",
          "name": "stdout",
          "text": [
            "un valor\n",
            "Este es un método de la clase\n"
          ]
        }
      ]
    },
    {
      "cell_type": "markdown",
      "source": [
        "## Constructor __init__\n",
        "El método __init__ se ejecuta automáticamente al crear un nuevo objeto de una clase, y se utiliza para inicializar los atributos del objeto.\n",
        "\n",
        "__self__ es un argumento que se utiliza en los métodos de una clase para referirse al objeto actual. Es una convención para nombrar la referencia al objeto que está siendo creado o manipulado."
      ],
      "metadata": {
        "id": "1VXQyUHK-7UX"
      }
    },
    {
      "cell_type": "code",
      "source": [
        "class Auto:\n",
        "    def __init__(self, marca, modelo):\n",
        "        self.marca = marca\n",
        "        self.modelo = modelo\n",
        "\n",
        "    def mostrar_descripcion(self):\n",
        "        return f\"Este auto es un {self.marca} {self.modelo}.\""
      ],
      "metadata": {
        "id": "9JE-m_KC-_Zp"
      },
      "execution_count": null,
      "outputs": []
    },
    {
      "cell_type": "code",
      "source": [
        "mi_carro = Auto(\"Toyota\", \"Corolla\")\n",
        "print(mi_carro.mostrar_descripcion())  # Salida: Este coche es un Toyota Corolla."
      ],
      "metadata": {
        "colab": {
          "base_uri": "https://localhost:8080/"
        },
        "id": "_TGIDJUA_D6q",
        "outputId": "ccf6b7b8-baca-45a0-bca4-f908d48f0367"
      },
      "execution_count": null,
      "outputs": [
        {
          "output_type": "stream",
          "name": "stdout",
          "text": [
            "Este auto es un Toyota Corolla.\n"
          ]
        }
      ]
    },
    {
      "cell_type": "markdown",
      "source": [
        "## Herencia\n",
        "\n",
        "La herencia permite crear una nueva clase a partir de una clase existente. La nueva clase (subclase) hereda los atributos y métodos de la clase base (superclase), y puede agregar nuevos atributos y métodos o modificar los existentes.\n",
        "\n",
        "<img src=\"https://techvidvan.com/tutorials/wp-content/uploads/sites/2/2020/01/relationship-between-classes.jpg\">"
      ],
      "metadata": {
        "id": "ZAAUsU7BXtTW"
      }
    },
    {
      "cell_type": "code",
      "source": [
        "class Vehiculo:\n",
        "    def __init__(self, marca, modelo):\n",
        "        self.marca = marca\n",
        "        self.modelo = modelo\n",
        "\n",
        "    def descripcion(self):\n",
        "        return f\"Este es un {self.marca} {self.modelo}\"\n",
        "\n",
        "class Coche(Vehiculo):\n",
        "    def __init__(self, marca, modelo, puertas):\n",
        "        super().__init__(marca, modelo)  # Llama al constructor de la superclase\n",
        "        self.puertas = puertas\n",
        "\n",
        "    def descripcion(self):\n",
        "        return f\"Este es un {self.marca} {self.modelo} con {self.puertas} puertas\"\n",
        "\n",
        "class Bici(Vehiculo):\n",
        "    \"\"\"\n",
        "    Objeto bicicleta hereda de clase vehiculo.\n",
        "    \"\"\"\n",
        "    def __init__(self, marca, modelo, proposito, aro):\n",
        "        super().__init__(marca, modelo)  # Llama al constructor de la superclase\n",
        "        self.proposito = proposito\n",
        "        self.aro = aro\n",
        "\n",
        "    def descripcion(self):\n",
        "        return f\"Este es un {self.marca} {self.modelo} con {self.aro} pulgadas del tipo {self.proposito}\""
      ],
      "metadata": {
        "id": "Awug36OuXq13"
      },
      "execution_count": null,
      "outputs": []
    },
    {
      "cell_type": "code",
      "source": [
        "mi_coche = Coche(\"Toyota\", \"Corolla\", 4)\n",
        "print(mi_coche.descripcion())  # Salida: Este es un Toyota Corolla con 4 puertas"
      ],
      "metadata": {
        "colab": {
          "base_uri": "https://localhost:8080/"
        },
        "id": "Tv0Qlz0DXzJF",
        "outputId": "074838d0-d8d9-476d-ec43-4642476c10cb"
      },
      "execution_count": null,
      "outputs": [
        {
          "output_type": "stream",
          "name": "stdout",
          "text": [
            "Este es un Toyota Corolla con 4 puertas\n"
          ]
        }
      ]
    },
    {
      "cell_type": "code",
      "source": [
        "mi_bici = Bici(\"Trek\", \"Hardtail 12\", \"Montaña\", 29)\n",
        "print(mi_bici.descripcion())  # Salida: Este es un Toyota Corolla con 4 puertas"
      ],
      "metadata": {
        "colab": {
          "base_uri": "https://localhost:8080/"
        },
        "id": "2Lc_ByG3aR1a",
        "outputId": "d49c3422-ca14-42ce-d7b2-a605b7e0906d"
      },
      "execution_count": null,
      "outputs": [
        {
          "output_type": "stream",
          "name": "stdout",
          "text": [
            "Este es un Trek Hardtail 12 con 29 pulgadas del tipo Montaña\n"
          ]
        }
      ]
    },
    {
      "cell_type": "code",
      "source": [
        "type(mi_bici)"
      ],
      "metadata": {
        "colab": {
          "base_uri": "https://localhost:8080/",
          "height": 104
        },
        "id": "tUT8e9j9avSf",
        "outputId": "5561261c-c84e-487a-d51f-9bcfdf8db388"
      },
      "execution_count": null,
      "outputs": [
        {
          "output_type": "execute_result",
          "data": {
            "text/plain": [
              "__main__.Bici"
            ],
            "text/html": [
              "<div style=\"max-width:800px; border: 1px solid var(--colab-border-color);\"><style>\n",
              "      pre.function-repr-contents {\n",
              "        overflow-x: auto;\n",
              "        padding: 8px 12px;\n",
              "        max-height: 500px;\n",
              "      }\n",
              "\n",
              "      pre.function-repr-contents.function-repr-contents-collapsed {\n",
              "        cursor: pointer;\n",
              "        max-height: 100px;\n",
              "      }\n",
              "    </style>\n",
              "    <pre style=\"white-space: initial; background:\n",
              "         var(--colab-secondary-surface-color); padding: 8px 12px;\n",
              "         border-bottom: 1px solid var(--colab-border-color);\"><b>Bici</b><br/>def __init__(marca, modelo, proposito, aro)</pre><pre class=\"function-repr-contents function-repr-contents-collapsed\" style=\"\"><a class=\"filepath\" style=\"display:none\" href=\"#\"></a>Objeto bicicleta hereda de clase vehiculo.</pre></div>"
            ]
          },
          "metadata": {},
          "execution_count": 19
        }
      ]
    },
    {
      "cell_type": "markdown",
      "source": [
        "## Polimorfismo\n",
        "\n",
        "El polimorfismo permite que diferentes clases utilicen la misma interfaz o métodos. Los métodos pueden comportarse de manera diferente según el objeto que los llame."
      ],
      "metadata": {
        "id": "qXn-Vs5-bQRY"
      }
    },
    {
      "cell_type": "code",
      "source": [
        "class Perro:\n",
        "    def sonido(self):\n",
        "        return \"Guau\"\n",
        "\n",
        "class Gato:\n",
        "    def sonido(self):\n",
        "        return \"Miau\""
      ],
      "metadata": {
        "id": "c7rmBR8kbP7-"
      },
      "execution_count": null,
      "outputs": []
    },
    {
      "cell_type": "code",
      "source": [
        "def hacer_sonido(animal):\n",
        "    print(animal.sonido())"
      ],
      "metadata": {
        "id": "7Kkd0kNobkWA"
      },
      "execution_count": null,
      "outputs": []
    },
    {
      "cell_type": "code",
      "source": [
        "perro = Perro()\n",
        "gato = Gato()\n",
        "\n",
        "hacer_sonido(perro)  # Salida: Guau\n",
        "hacer_sonido(gato)   # Salida: Miau"
      ],
      "metadata": {
        "colab": {
          "base_uri": "https://localhost:8080/"
        },
        "id": "n1u_VvQ0bnaF",
        "outputId": "a2da4962-c038-4c97-e48b-47dd87196c1b"
      },
      "execution_count": null,
      "outputs": [
        {
          "output_type": "stream",
          "name": "stdout",
          "text": [
            "Guau\n",
            "Miau\n"
          ]
        }
      ]
    },
    {
      "cell_type": "markdown",
      "source": [
        "## Encapsulamiento\n",
        "\n",
        "El encapsulamiento permite ocultar los detalles internos de una clase y exponer solo lo necesario. En Python, se usa un guion bajo (_) o doble guion bajo (__) para indicar que un atributo o método es privado."
      ],
      "metadata": {
        "id": "guY67h9Ebtuc"
      }
    },
    {
      "cell_type": "code",
      "source": [
        "class CuentaBanco:\n",
        "    def __init__(self, saldo):\n",
        "        self.__saldo = saldo  # Atributo privado\n",
        "\n",
        "    def depositar(self, cantidad):\n",
        "        self.__saldo += cantidad\n",
        "\n",
        "    def obtener_saldo(self):\n",
        "        return self.__saldo"
      ],
      "metadata": {
        "id": "Z8r3WyDjbvET"
      },
      "execution_count": null,
      "outputs": []
    },
    {
      "cell_type": "code",
      "source": [
        "cuenta = CuentaBanco(1000)\n",
        "cuenta.depositar(500)\n",
        "print(cuenta.obtener_saldo())  # Salida: 1200"
      ],
      "metadata": {
        "colab": {
          "base_uri": "https://localhost:8080/"
        },
        "id": "1Yu2v8C7c7Zf",
        "outputId": "0bf3b770-03d0-4a67-89a7-9e45cc823ca1"
      },
      "execution_count": null,
      "outputs": [
        {
          "output_type": "stream",
          "name": "stdout",
          "text": [
            "1500\n"
          ]
        }
      ]
    },
    {
      "cell_type": "markdown",
      "source": [
        "## Métodos Estáticos\n",
        "\n",
        "Los métodos estáticos (@staticmethod) son  tipos de métodos que no requieren una instancia de la clase para ser llamados."
      ],
      "metadata": {
        "id": "OswmQmlNdaTL"
      }
    },
    {
      "cell_type": "code",
      "source": [
        "class Utilidades:\n",
        "    @staticmethod\n",
        "    def suma(a, b):\n",
        "        return a + b\n",
        "\n",
        "# Llamada a un método estático\n",
        "print(Utilidades.suma(5, 3))  # Salida: 8"
      ],
      "metadata": {
        "colab": {
          "base_uri": "https://localhost:8080/"
        },
        "id": "jsDTiJHedrEo",
        "outputId": "5236aef0-b04f-43bc-d05f-5cc96cddbf0c"
      },
      "execution_count": null,
      "outputs": [
        {
          "output_type": "stream",
          "name": "stdout",
          "text": [
            "8\n"
          ]
        }
      ]
    },
    {
      "cell_type": "markdown",
      "source": [
        "## Propiedades\n",
        "\n",
        "Las propiedades (@property) permiten definir métodos que se comportan como atributos. Se usan para controlar el acceso a los atributos de una clase."
      ],
      "metadata": {
        "id": "4pcpBqTAeNSx"
      }
    },
    {
      "cell_type": "code",
      "source": [
        "class Persona:\n",
        "    def __init__(self, nombre):\n",
        "        self.__nombre = nombre  # Atributo privado ¿Se acuerdan?\n",
        "\n",
        "    @property\n",
        "    def nombre(self):\n",
        "        return self.__nombre\n",
        "\n",
        "    @nombre.setter\n",
        "    def nombre(self, nombre):\n",
        "      \"\"\"Controla que nombre no esté vacio\"\"\"\n",
        "      if nombre:\n",
        "          self.__nombre = nombre\n",
        "      else:\n",
        "          raise ValueError(\"El nombre no puede estar vacío\")\n",
        "\n",
        "persona = Persona(\"Julián\")\n",
        "print(persona.nombre)  # Salida: Julián\n",
        "persona.nombre = \"Andrés\"\n",
        "print(persona.nombre)  # Salida: Andrés"
      ],
      "metadata": {
        "colab": {
          "base_uri": "https://localhost:8080/"
        },
        "id": "MZ3JYabYeMcc",
        "outputId": "3dfe339f-ea03-474e-d916-35e16194ab70"
      },
      "execution_count": null,
      "outputs": [
        {
          "output_type": "stream",
          "name": "stdout",
          "text": [
            "Julián\n",
            "Andrés\n"
          ]
        }
      ]
    },
    {
      "cell_type": "markdown",
      "source": [
        "# Métodos Mágicos\n",
        "\n",
        "Los métodos mágicos (o métodos especiales) en Python son métodos que tienen un nombre rodeado por dobles guiones bajos (__metodo__). Algunos de los más comunes son __init__, __str__, __repr__, __len__, __eq__, __add__, entre otros."
      ],
      "metadata": {
        "id": "lK3ETDxEg3Ty"
      }
    },
    {
      "cell_type": "code",
      "source": [
        "# __init__ : Inicializa el objeto cuando se crea una nueva instancia de la clase.\n",
        "class Person:\n",
        "    def __init__(self, nombre, edad):\n",
        "        self.nombre = nombre\n",
        "        self.edad = edad\n",
        "\n",
        "persona = Person(\"Julián\", 40)"
      ],
      "metadata": {
        "id": "XAD4Urxwjo-b"
      },
      "execution_count": null,
      "outputs": []
    },
    {
      "cell_type": "code",
      "source": [
        "# __str__ : Devuelve una representación legible y amigable del objeto.\n",
        "class Persona:\n",
        "    def __init__(self, nombre, edad):\n",
        "        self.nombre = nombre\n",
        "        self.edad = edad\n",
        "\n",
        "    def __str__(self):\n",
        "        return f\"{self.nombre}, {self.edad} años\"\n",
        "\n",
        "persona = Persona(\"Julián\", 40)\n",
        "print(persona)"
      ],
      "metadata": {
        "colab": {
          "base_uri": "https://localhost:8080/"
        },
        "id": "DEl7JZPrjnPi",
        "outputId": "5968b189-00b6-41e4-8373-cfda7ac3604a"
      },
      "execution_count": null,
      "outputs": [
        {
          "output_type": "stream",
          "name": "stdout",
          "text": [
            "Julián, 40 años\n"
          ]
        }
      ]
    },
    {
      "cell_type": "code",
      "source": [
        "# __len__ : Devuelve la longitud del objeto.\n",
        "class Grupo:\n",
        "    def __init__(self, miembros):\n",
        "        self.miembros = miembros\n",
        "\n",
        "    def __len__(self):\n",
        "        return len(self.miembros)\n",
        "\n",
        "grupo = Grupo([\"Ana\", \"Luis\", \"Julián\"])\n",
        "print(len(grupo))  # Salida: 3"
      ],
      "metadata": {
        "colab": {
          "base_uri": "https://localhost:8080/"
        },
        "id": "M5QfNsDAkFN7",
        "outputId": "ce6cacd9-4ab0-46a7-a4d7-fe8c4d65430d"
      },
      "execution_count": null,
      "outputs": [
        {
          "output_type": "stream",
          "name": "stdout",
          "text": [
            "3\n"
          ]
        }
      ]
    },
    {
      "cell_type": "code",
      "source": [
        "# __eq__ : Compara dos objetos para igualdad (utilizado por ==).\n",
        "class Persona:\n",
        "    def __init__(self, nombre, edad):\n",
        "        self.nombre = nombre\n",
        "        self.edad = edad\n",
        "\n",
        "    def __eq__(self, otra):\n",
        "        return self.nombre == otra.nombre and self.edad == otra.edad\n",
        "\n",
        "persona1 = Persona(\"Julián\", 40)\n",
        "persona2 = Persona(\"Julián\", 40)\n",
        "print(persona1 == persona2)  # Salida: True\n"
      ],
      "metadata": {
        "colab": {
          "base_uri": "https://localhost:8080/"
        },
        "id": "IQQ0FsBFkKgA",
        "outputId": "44ba3abc-f0dd-4098-8dd0-ecb68d2fab0d"
      },
      "execution_count": null,
      "outputs": [
        {
          "output_type": "stream",
          "name": "stdout",
          "text": [
            "True\n"
          ]
        }
      ]
    },
    {
      "cell_type": "code",
      "source": [
        "# __lt__ : Compara si un objeto es menor que otro (utilizado por <).\n",
        "class Persona:\n",
        "    def __init__(self, nombre, edad, peso):\n",
        "        self.nombre = nombre\n",
        "        self.edad = edad\n",
        "        self.peso = peso\n",
        "\n",
        "    def __lt__(self, otra):\n",
        "        return self.edad < otra.edad\n",
        "\n",
        "    def __gt__(self, otra):\n",
        "        return self.edad > otra.edad\n",
        "\n",
        "persona1 = Persona(\"Julián\", 40, 80)\n",
        "persona2 = Persona(\"Lucia\", 38, 50)\n",
        "print(persona1 < persona2)  # Salida: False\n",
        "print(persona1 > persona2)  # Salida: True\n"
      ],
      "metadata": {
        "colab": {
          "base_uri": "https://localhost:8080/"
        },
        "id": "G7dA-ahKmcnL",
        "outputId": "15f6d1ac-3c77-446e-ad70-82781f219332"
      },
      "execution_count": null,
      "outputs": [
        {
          "output_type": "stream",
          "name": "stdout",
          "text": [
            "False\n",
            "True\n"
          ]
        }
      ]
    },
    {
      "cell_type": "code",
      "source": [
        "# __add__ : Define el comportamiento del operador + para la clase.\n",
        "class Punto:\n",
        "    def __init__(self, x, y):\n",
        "        self.x = x\n",
        "        self.y = y\n",
        "\n",
        "    def __add__(self, otro):\n",
        "        return Punto(self.x + otro.x, self.y + otro.y)\n",
        "\n",
        "    def __repr__(self):\n",
        "        return f\"Punto({self.x}, {self.y})\"\n",
        "\n",
        "punto1 = Punto(1, 2)\n",
        "punto2 = Punto(3, 4)\n",
        "print(punto1 + punto2)  # Salida: Punto(4, 6)"
      ],
      "metadata": {
        "id": "FNJYwKrhkPQZ"
      },
      "execution_count": null,
      "outputs": []
    },
    {
      "cell_type": "markdown",
      "source": [
        "# 🌶️ Crear una Clase Persona y Subclases Estudiante y Profesor Usando Herencia\n",
        "\n",
        "Crea una clase base Persona que incluya atributos y métodos comunes a todas las personas.\n",
        "Luego, crea dos subclases Estudiante y Profesor que hereden de Persona y agreguen sus propios atributos y métodos específicos.\n",
        "La subclase Estudiante debe incluir un método para agregar y calcular calificaciones, y la subclase Profesor debe incluir un método para asignar calificaciones."
      ],
      "metadata": {
        "id": "fRiIgjSQp_KR"
      }
    },
    {
      "cell_type": "code",
      "source": [
        "# Clase base Persona\n",
        "class Persona:\n",
        "    def __init__(self, nombre, edad, campus):\n",
        "        return\n",
        "\n",
        "    def __str__(self):\n",
        "        return\n",
        "\n",
        "# Subclase Estudiante que hereda de Persona\n",
        "class Estudiante(Persona):\n",
        "    def __init__(self,): # Los estudiantes tienen carrera y semestre\n",
        "        super().__init__()  # Llama al constructor de la superclase\n",
        "\n",
        "\n",
        "    def agregar_calificacion():\n",
        "      return\n",
        "\n",
        "    @property\n",
        "    def promedio_calificaciones(self):\n",
        "      return 0\n",
        "\n",
        "    def descripcion(self):\n",
        "      return f\"{self.nombre}, {self.edad} años, campus {self.campus}. Estudiante de {self.carrera}, Promedio de calificaciones: {self.promedio_calificaciones()}\"\n",
        "\n",
        "\n",
        "# Subclase Profesor que hereda de Persona\n",
        "class Profesor():\n",
        "    def __init__(self, nombre, edad, facultad):\n",
        "        🌶️🌶️🌶️🌶️🌶️🌶️🌶️\n",
        "\n",
        "    def asignar_calificacion(self, estudiante, calificacion):\n",
        "        if isinstance(estudiante, Estudiante):\n",
        "            estudiante.agregar_calificacion(calificacion)\n",
        "        else:\n",
        "            print(\"El destinatario no es un estudiante\")\n",
        "\n",
        "    def descripcion(self):\n",
        "        return f\"{self.nombre}, {self.edad} años, Profesor del departamento de {self.facultad}\""
      ],
      "metadata": {
        "id": "8hDhriw1qZrM"
      },
      "execution_count": null,
      "outputs": []
    },
    {
      "cell_type": "code",
      "source": [
        "\n",
        "# Crear objetos Estudiante y Profesor\n",
        "estudiante = Estudiante(\"Ana\", 20, \"Ingeniería de Software\")\n",
        "profesor = Profesor(\"Dr. López\", 45, \"Ciencias de la Computación\")\n",
        "\n",
        "# El profesor asigna calificaciones al estudiante\n",
        "profesor.asignar_calificacion(estudiante, 85)\n",
        "profesor.asignar_calificacion(estudiante, 90)\n",
        "profesor.asignar_calificacion(estudiante, 78)\n",
        "\n",
        "# Mostrar descripciones de los objetos\n",
        "print(estudiante.descripcion())  # Salida esperada: Ana, 20 años, Estudiante de Ingeniería de Software, Promedio de calificaciones: 84.33333333333333\n",
        "print(profesor.descripcion())    # Salida esperada: Dr. López, 45 años, Profesor del departamento de Ciencias de la Computación"
      ],
      "metadata": {
        "id": "37FM7AiBqcOm"
      },
      "execution_count": null,
      "outputs": []
    },
    {
      "cell_type": "markdown",
      "source": [
        "# 🌶️ Crear una Clase para un Rectángulo\n",
        "\n",
        "Crea una clase Rectangulo que incluya atributos para la base y la altura. La clase debe tener métodos para calcular el área y el perímetro del rectángulo, así como para comparar dos rectángulos por su área."
      ],
      "metadata": {
        "id": "rY9u1GK_ljID"
      }
    },
    {
      "cell_type": "code",
      "source": [
        "# Clase Rectangulo\n",
        "class Rectangulo:\n",
        "    def __init__(self, base, altura):\n",
        "        return\n",
        "\n",
        "    def area(self):\n",
        "        return\n",
        "\n",
        "    def perimetro(self):\n",
        "        return   # Calcula el perímetro del rectángulo\n",
        "\n",
        "    def __lt__(self, otro):\n",
        "        return   # Compara dos rectángulos por su área\n",
        "\n"
      ],
      "metadata": {
        "id": "OMoKFUC4ln2n"
      },
      "execution_count": null,
      "outputs": []
    },
    {
      "cell_type": "code",
      "source": [
        "# Crear dos objetos Rectangulo\n",
        "rectangulo1 = Rectangulo(5, 10)\n",
        "rectangulo2 = Rectangulo(7, 6)"
      ],
      "metadata": {
        "id": "3SKPu6EGl1yF"
      },
      "execution_count": null,
      "outputs": []
    },
    {
      "cell_type": "code",
      "source": [
        "# Mostrar área y perímetro de los rectángulos\n",
        "print(f\"Área del rectángulo 1: {rectangulo1.area()}\")  # Salida esperada: Área del rectángulo 1: 50\n",
        "print(f\"Perímetro del rectángulo 1: {rectangulo1.perimetro()}\")  # Salida esperada: Perímetro del rectángulo 1: 30\n",
        "print(f\"Área del rectángulo 2: {rectangulo2.area()}\")  # Salida esperada: Área del rectángulo 2: 42\n",
        "print(f\"Perímetro del rectángulo 2: {rectangulo2.perimetro()}\")  # Salida esperada: Perímetro del rectángulo 2: 26\n",
        "\n",
        "# Comparar los rectángulos por su área\n",
        "print(rectangulo1 < rectangulo2)  # Salida esperada: False (porque 50 no es menor que 42)"
      ],
      "metadata": {
        "id": "JstXSGkhl_b9"
      },
      "execution_count": null,
      "outputs": []
    },
    {
      "cell_type": "code",
      "source": [],
      "metadata": {
        "id": "vfv4ydNE2itq"
      },
      "execution_count": null,
      "outputs": []
    },
    {
      "cell_type": "code",
      "source": [],
      "metadata": {
        "id": "owUw7jsj2irF"
      },
      "execution_count": null,
      "outputs": []
    },
    {
      "cell_type": "code",
      "source": [],
      "metadata": {
        "id": "Tb6feeAK2iop"
      },
      "execution_count": null,
      "outputs": []
    },
    {
      "cell_type": "code",
      "source": [],
      "metadata": {
        "id": "xttQgNOs2il7"
      },
      "execution_count": null,
      "outputs": []
    },
    {
      "cell_type": "code",
      "source": [],
      "metadata": {
        "id": "CPoGiJuW2ijT"
      },
      "execution_count": null,
      "outputs": []
    },
    {
      "cell_type": "code",
      "source": [],
      "metadata": {
        "id": "uVDMzO7i2igd"
      },
      "execution_count": null,
      "outputs": []
    },
    {
      "cell_type": "markdown",
      "source": [
        "\n",
        "\n",
        "\n",
        "\n",
        "\n",
        "\n",
        "\n",
        "\n",
        "\n",
        "\n",
        "\n",
        "\n",
        "\n",
        "\n",
        "\n",
        "\n",
        "\n",
        "\n",
        "\n",
        "\n",
        "\n",
        "\n",
        "\n",
        "\n",
        "\n",
        "\n",
        "\n",
        "\n",
        "\n",
        "\n",
        "\n",
        "\n"
      ],
      "metadata": {
        "id": "T3La4X4A0-ks"
      }
    }
  ],
  "metadata": {
    "colab": {
      "provenance": [],
      "include_colab_link": true
    },
    "kernelspec": {
      "display_name": "tensorflow",
      "language": "python",
      "name": "python3"
    },
    "language_info": {
      "codemirror_mode": {
        "name": "ipython",
        "version": 3
      },
      "file_extension": ".py",
      "mimetype": "text/x-python",
      "name": "python",
      "nbconvert_exporter": "python",
      "pygments_lexer": "ipython3",
      "version": "3.10.8"
    },
    "vscode": {
      "interpreter": {
        "hash": "ef347fa111a972b42709d754011b73804350168ffd20ad9dbaeb269a26ad840f"
      }
    }
  },
  "nbformat": 4,
  "nbformat_minor": 0
}