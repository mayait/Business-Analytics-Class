{
  "nbformat": 4,
  "nbformat_minor": 0,
  "metadata": {
    "colab": {
      "private_outputs": true,
      "provenance": [],
      "authorship_tag": "ABX9TyN+eZiPXnQ2KEPF+CSWr+US",
      "include_colab_link": true
    },
    "kernelspec": {
      "name": "python3",
      "display_name": "Python 3"
    },
    "language_info": {
      "name": "python"
    }
  },
  "cells": [
    {
      "cell_type": "markdown",
      "metadata": {
        "id": "view-in-github",
        "colab_type": "text"
      },
      "source": [
        "<a href=\"https://colab.research.google.com/github/mayait/Business-Analytics-Class/blob/main/python_101_2024/parte%205%20Estructuras%20b%C3%A1sicas%20de%20datos.ipynb\" target=\"_parent\"><img src=\"https://colab.research.google.com/assets/colab-badge.svg\" alt=\"Open In Colab\"/></a>"
      ]
    },
    {
      "cell_type": "markdown",
      "metadata": {
        "id": "aOQ5MmmTAdjE"
      },
      "source": [
        "<a id=\"parte2\"></a>\n",
        "# Parte 5: Estructuras básicas de datos"
      ]
    },
    {
      "cell_type": "markdown",
      "metadata": {
        "application/vnd.databricks.v1+cell": {
          "inputWidgets": {},
          "nuid": "9d827de6-b9d1-49c8-89c1-d9cdaabe468c",
          "showTitle": false,
          "title": ""
        },
        "id": "CrMnPArSSnO7"
      },
      "source": [
        "#\n",
        "Listas\n",
        "\n",
        "Las listas permiten organizar los datos en conjuntos con alguna similitud: amigos, películas, tareas, etc.\n",
        "\n",
        "**Creación:**\n",
        "1.   No requiere especificar tipo de datos y puede contener elementos de distinto tipo\n",
        "2.   Separar cada elemento con coma\n",
        "3.   Encerrar la lista con corchetes ```[ ]```\n",
        "4.   Asignar la lista a una variable que la representará, utilizando el operador ```=```\n",
        "5.   Son **mutables** lo que permite modificar sus elementos"
      ]
    },
    {
      "cell_type": "code",
      "execution_count": null,
      "metadata": {
        "application/vnd.databricks.v1+cell": {
          "inputWidgets": {},
          "nuid": "03035ecd-8799-4124-a91c-f233c86015e2",
          "showTitle": false,
          "title": ""
        },
        "id": "GVo_mueBSnO8"
      },
      "outputs": [],
      "source": [
        "vacia = [ ]\n",
        "print(vacia)\n",
        "\n",
        "amigos = ['Kan', 'Ely','Pedro', 'Ali']\n",
        "print(amigos)"
      ]
    },
    {
      "cell_type": "markdown",
      "metadata": {
        "application/vnd.databricks.v1+cell": {
          "inputWidgets": {},
          "nuid": "c0f34176-d63c-4633-a357-9d14c25843f1",
          "showTitle": false,
          "title": ""
        },
        "id": "vio6BaD4SnO8"
      },
      "source": [
        "**Propiedades:**\n",
        "\n",
        "* `len()`   número de elementos que contiene la lista\n",
        "* `min()`   mínimo de una lista numérica\n",
        "* `max()`   máximo de una lista numérica\n",
        "* `sum()`   suma de elementos en una lista numérica"
      ]
    },
    {
      "cell_type": "code",
      "execution_count": null,
      "metadata": {
        "application/vnd.databricks.v1+cell": {
          "inputWidgets": {},
          "nuid": "73a18676-a227-40be-b2f5-787f997cc034",
          "showTitle": false,
          "title": ""
        },
        "id": "6RECWw68SnO8"
      },
      "outputs": [],
      "source": [
        "lista = [-10, .5, 6.2, -1.]\n",
        "len(lista)"
      ]
    },
    {
      "cell_type": "code",
      "execution_count": null,
      "metadata": {
        "application/vnd.databricks.v1+cell": {
          "inputWidgets": {},
          "nuid": "78a1716d-550c-482b-b49b-7daebf62a97c",
          "showTitle": false,
          "title": ""
        },
        "id": "wBZwwn5eSnO8"
      },
      "outputs": [],
      "source": [
        "print('mínimo:', min(lista), 'máximo:', max(lista))"
      ]
    },
    {
      "cell_type": "code",
      "execution_count": null,
      "metadata": {
        "application/vnd.databricks.v1+cell": {
          "inputWidgets": {},
          "nuid": "6f5c730a-04fc-4ca7-923d-f8944b3d2525",
          "showTitle": false,
          "title": ""
        },
        "id": "og6jj1y2SnO9"
      },
      "outputs": [],
      "source": [
        "print('suma:', sum(lista))"
      ]
    },
    {
      "cell_type": "markdown",
      "metadata": {
        "application/vnd.databricks.v1+cell": {
          "inputWidgets": {},
          "nuid": "2e06464e-c8c5-40d6-853b-c7448047cd78",
          "showTitle": false,
          "title": ""
        },
        "id": "WR2tItVSSnO9"
      },
      "source": [
        "**Añadir elementos a una lista con `+`**"
      ]
    },
    {
      "cell_type": "code",
      "execution_count": null,
      "metadata": {
        "application/vnd.databricks.v1+cell": {
          "inputWidgets": {},
          "nuid": "30122a5b-b5a5-41b6-87ad-4b2f23732bf7",
          "showTitle": false,
          "title": ""
        },
        "id": "fsrlkq60SnO9"
      },
      "outputs": [],
      "source": [
        "x = [3,9,0]\n",
        "y = [3,4,5]\n",
        "z = x + y\n",
        "print(z)"
      ]
    },
    {
      "cell_type": "markdown",
      "metadata": {
        "application/vnd.databricks.v1+cell": {
          "inputWidgets": {},
          "nuid": "4a34229a-16e1-4991-bf24-fac7e4ff3fab",
          "showTitle": false,
          "title": ""
        },
        "id": "Hl86uRThSnO9"
      },
      "source": [
        "**Añadir elementos con `append`**"
      ]
    },
    {
      "cell_type": "code",
      "execution_count": null,
      "metadata": {
        "application/vnd.databricks.v1+cell": {
          "inputWidgets": {},
          "nuid": "23818630-c001-4654-abc5-c346a5e42bd0",
          "showTitle": false,
          "title": ""
        },
        "id": "B-cBMv2XSnO-"
      },
      "outputs": [],
      "source": [
        "amigos = ['Kan', 'Ely', 'Pedro', 'Ali', 'Manuela', 'Monica']\n",
        "amigos.append('Galia')\n",
        "print(amigos)"
      ]
    },
    {
      "cell_type": "markdown",
      "metadata": {
        "application/vnd.databricks.v1+cell": {
          "inputWidgets": {},
          "nuid": "49ed02a2-aacd-4cc4-961a-35c24d1530c7",
          "showTitle": false,
          "title": ""
        },
        "id": "5mH9jeBcSnO-"
      },
      "source": [
        "**Eliminar elementos con `remove`**"
      ]
    },
    {
      "cell_type": "code",
      "execution_count": null,
      "metadata": {
        "application/vnd.databricks.v1+cell": {
          "inputWidgets": {},
          "nuid": "fb5f3faa-cd05-4b5a-aa8e-7994360f3afd",
          "showTitle": false,
          "title": ""
        },
        "id": "NCl7n3wzSnO-"
      },
      "outputs": [],
      "source": [
        "amigos.remove('Ali')\n",
        "print(amigos)"
      ]
    },
    {
      "cell_type": "markdown",
      "metadata": {
        "application/vnd.databricks.v1+cell": {
          "inputWidgets": {},
          "nuid": "bc5b6efc-a54c-41f5-be21-dc519009f6ca",
          "showTitle": false,
          "title": ""
        },
        "id": "6OHbYqWnSnO-"
      },
      "source": [
        "**Ordenar elementos con `sort`**: Para listas con elementos numéricos se ordena de forma ascendente o descendente y para cadenas de texto de forma alfabética"
      ]
    },
    {
      "cell_type": "code",
      "execution_count": null,
      "metadata": {
        "application/vnd.databricks.v1+cell": {
          "inputWidgets": {},
          "nuid": "f163daf0-9a96-4ebf-a197-cf0633baf6c8",
          "showTitle": false,
          "title": ""
        },
        "id": "M6p3MGU_SnO-"
      },
      "outputs": [],
      "source": [
        "L = [-10,3,7,2]\n",
        "print(L)\n",
        "\n",
        "L.sort()\n",
        "print(L)"
      ]
    },
    {
      "cell_type": "code",
      "execution_count": null,
      "metadata": {
        "application/vnd.databricks.v1+cell": {
          "inputWidgets": {},
          "nuid": "c4da6faa-afd1-4c72-be97-77cdd8619b5b",
          "showTitle": false,
          "title": ""
        },
        "id": "KZ9JWxahSnO_"
      },
      "outputs": [],
      "source": [
        "L.sort(reverse=True)\n",
        "print(L)"
      ]
    },
    {
      "cell_type": "markdown",
      "metadata": {
        "application/vnd.databricks.v1+cell": {
          "inputWidgets": {},
          "nuid": "c55d17e2-0b92-40b2-868a-749f091bc4a6",
          "showTitle": false,
          "title": ""
        },
        "id": "6E-ULAILSnO_"
      },
      "source": [
        "**Limpiar los elementos de una lista con `clear`**"
      ]
    },
    {
      "cell_type": "code",
      "execution_count": null,
      "metadata": {
        "application/vnd.databricks.v1+cell": {
          "inputWidgets": {},
          "nuid": "5c5363a0-a481-40b2-83a7-4b90f67d7bdd",
          "showTitle": false,
          "title": ""
        },
        "id": "clYjyDKqSnO_"
      },
      "outputs": [],
      "source": [
        "L.clear()\n",
        "print(L)"
      ]
    },
    {
      "cell_type": "markdown",
      "metadata": {
        "application/vnd.databricks.v1+cell": {
          "inputWidgets": {},
          "nuid": "0726b7fa-0d3c-46fc-9246-a7b5540c08c9",
          "showTitle": false,
          "title": ""
        },
        "id": "zy-qRUoPSnO_"
      },
      "source": [
        "## Indexación de Listas"
      ]
    },
    {
      "cell_type": "markdown",
      "metadata": {
        "application/vnd.databricks.v1+cell": {
          "inputWidgets": {},
          "nuid": "7eac6ca9-8806-4bdc-8cff-8b25649e95af",
          "showTitle": false,
          "title": ""
        },
        "id": "EuzBuTceSnO_"
      },
      "source": [
        "Python es un lenguaje cero-indexado por lo que el conteo de elementos empieza desde cero.\n",
        "\n",
        "Para acceder a los elementos (items) de una Lista utilizamos **índices** dentro de corchetes `[]`. Los **índices** son valores numéricos enteros que se manejan de 2 formas:\n",
        "\n",
        "1.   Indices Positivos: De Izquierda a Derecha empezando por el `0`:  (0,1,2,...)\n",
        "2.   Indices Negativos: De Derecha a Izquierda empezando por el `-1`:  (-1, -2, -3,...)\n",
        "\n",
        "\n"
      ]
    },
    {
      "cell_type": "code",
      "execution_count": null,
      "metadata": {
        "application/vnd.databricks.v1+cell": {
          "inputWidgets": {},
          "nuid": "55d30b8a-7c96-4324-9a0c-552e983cd615",
          "showTitle": false,
          "title": ""
        },
        "id": "JdXzhqKySnPA"
      },
      "outputs": [],
      "source": [
        "L = ['a', 'b', 'c', 'd', 'e', 'f']\n",
        "\n",
        "# Indices positivos y negativos para acceder a un mismo elemento:\n",
        "\n",
        "# Primer elemento:\n",
        "print(L[0], L[-6])\n",
        "\n",
        "# Último elemento:\n",
        "print(L[5], L[-1])"
      ]
    },
    {
      "cell_type": "markdown",
      "metadata": {
        "application/vnd.databricks.v1+cell": {
          "inputWidgets": {},
          "nuid": "3ea3125a-29c1-4756-9d7c-6b03605b6137",
          "showTitle": false,
          "title": ""
        },
        "id": "MkZrsJv6SnPA"
      },
      "source": [
        "## Slicing de Listas\n",
        "Selección de una porción de la lista.\n",
        "```\n",
        "LISTA [inicio : fin]\n",
        "```\n",
        "\n",
        "![o99aU.png](data:image/png;base64,iVBORw0KGgoAAAANSUhEUgAAAYIAAACeCAIAAACw+5qKAAAAA3NCSVQICAjb4U/gAAAAGXRFWHRTb2Z0d2FyZQBnbm9tZS1zY3JlZW5zaG907wO/PgAAIABJREFUeJztnX1UE2fe93/3c55zMjk5OTOiMpS6Galu0q4SVnsI1l3QtSRFH0HdBavHiFpFeRSwRxS6WvEgde8VC1sRuVVgfSE9thvu9QW2tqRra2KPJRxtiW3X5HZ1J326MrjWmdPT0yv/PX/kBdDwoswQtv4+xz9Mwsx3rsk13+tlMt/rP777/gdAEASJHf8r1geAIMiTDtoQgiAxBm0IQZAYgzaEIEiMQRtCECTGoA0hCBJj0IYQBIkxstqQaF8YN7XcQ+TcZx+EtxUsSGK0GrVWo55R0qmQDIIgY0x/GyKuNaGLPPwvzSbE7MgeRGgr3GQD65+ufnX75q3bF/emULE+oicI4rWVzJumUWs1CbNfftMlKiAh2hcOqHvqGWXdCrY04vm1iWrt/BZlKrjorl89N9hkJqYs292hjArx2AoWJKm1GrU2KW1FjVOJryUs1V0xSz3pZadC30h/G6JSD9744qsbf92rBzr79LUbX3x1LpdVRvbRIbzTB6bNRRY9l8CyCSyDLjRmiK6SnNc86Ueu3b557dRi4Y21WxWo8ZIoqfS/v3bn7r37wX9Xq5VraURX2Y52Sam9C7bliyr86XWXvrh145OjFqF2+Vpbj+wqorN42SanrurjL27d+Gu1yVeRU9imgBER0edsLMx6qcEn/74jDBiUUUwCx3EsTQHQ8RzHcQnBekDcBdMSl9vsOxbOmjolTj1tfnF7xN5FZ0WWQatRT0qat7WVD/Tbm+g+tHa+YYpGrY0zLCyx+4JGSjrLZzFzd4cbOr5lYVzCirYhvyTBvkCjnvyrpl5wr3sm1FQuCH2vPbb5zOyabp+9YG6iWqvp174RvrXEMiNOrdWop8xaXusM/r23ds7UZbsLFiQxU7IOOZpWz01ipmQd8g1j8kOptJflzE5ktBr1lDnLa/suT+KLtFSJKStqOvs+cBdPS1zu4J21SwxajVqrmbrV3U9eaJmrUU8bV0NOoW1PK/Pbk2+YDQmswbL3Y/HvJzMYuUUI4SVgWZahIsgt0afl3re1K6NylU6h3RMwba47VpmdwrGcMbt0c2rA5+bl/kJJr0fSrzr0ljWNYzlT3q5tqYGuNq/cKj22rKeeX2OD3FNHMlUy77sfI5wbokBqq3WYjlz5x//758erpKatu4PXiejauvwPQt573/zwr8+OpToauyI+JNjXLd0n5J66+v0Pdz87oHcVLKvoJABApVWeLCKHNzZ4CABv27TDl3vqSHbCUOJs3sV797++YKUh/fitUFN50RrchNHrmf9p2rG2BjafvfH1N3duvpvHAgAQd4VlnYOrvHL/u+/vvLde/N3SfBsPAJQKBJfLdPzTU6nuskLX6jOfHtK7623DVJJBVTz7ctY6uJ0f9Xz3/Z0/W0nt0uWhYay3fsWmtvjqz+9+f//mOxZfRf6e8JQZxZk4yfmfa4odxkNXb935+tanlcZx3bMjnjYfa2JdxQtnTZ2SlLKszD6caz8WkkACQutWy4xEZpJyKgBAuhtKzpuqq9Jlt9IQFGd9Y6/VQAEAiL62fQ0e3WKr7D07Sl/0pwvHLKFCEOG6AKwxQW6VBOvHP3x3+9KRogxWyUo68ilqvbU0j6MAqJRcs67X55MAgHjfdkipO4vSGQDGkLsrJ9K+CI56F71h/4Y0FoDicir3Zgj2puCVSBlff2cX1G58o72p4DU+70S1Zfj6QFEUBSoASvVAS0kxBhr8QubJQ1YTxzAMGzxbxN1g86fuqso1UACMcUPVKtrV4OCD2+iyMzia07Mqzmxkab2eDvQO0z8fTKW7wcan7w2pmDZUvcK6/+joAQAwbL/4zY0TeQYKKNZkNev81z3h/hDN0iB52KrTVRY9yzBswoDxJZt9+trnF3aNo5kvieclv31PG7ft5KWLJ4toe/7CEgUGZYSAigSMRcc/6rxYl01syqgA+JpKmg0HKs1KmVAY4ikzaDVPPb/CaTzacdCk6PcpuivyG0juTiunpIqCjNiGVKw+PE9EqQAIAQAgAi/ROjb0jVKsKfwnhHfzAX/NgkRmUhwzKY6ZvsIR6PX5wx0Cfemp31I1K7fyq04ekKFR0llyuYFfs8T7JVavD++a4lI5EDw9BABAxbA0UJQKQMVSAKACQkbS8EZR8ft6Ax+umBos46TEeX/wB3i3QAAAeq43b1zwXELw/Qb/wF2pINU62LiG4QwGvaJNz6CI7VmRGWJDRbj7RggAGCvrtpuNnD6j4K06s9Ra3/X4XZXoKlRGy9+/9Z4pzTEZDMbsN04cTO9tfbPr8X0ougrwLVsP05XVOfLMeRLn2sSwSuJq14BzQul3dly98sHxbQbXJkuhYxSOOpQKAIiuspcWNbGV5xoXj+ZSGkZFWf63rHsbeOzJVRfPWft93xQdOU2i4BMAQPL5BDCN2sJpHT3sZRv9tD7K1R5dhf7NO537TX3DZhWdQAEI9vxlFdLms50XzRxFustnzekasJWKHv6Ixx4m8+jnV8O2EB/2XJqlgWZZOvRHFGegA25BerSTN6zKA9CcIT7gEQJRP3xslZ7WsjegtEO2Gy+Uaf9Hn+8MvaB1A4tCMZye4fRGk0569sXd9t+aCx6zog+lwreusRS6TW9daQyNAh+bIcuiNKOzIYphackviAAJEOwCAaQCBCdAoLVboreH5j2IKEJk8CE6yvL/W3/skzrnyjUFzekd62XvS9J6PS34fCKYEgAACH9ZAM7EUfD49Tqaii45XurigQ3PbYkiYSgAIL52TyD1wBYzRwGA5PM80Bsa6goWea8QYLiYdIgozqB/6E3GaPmp1OLgId0AAEB4r0SzHP3Q341OhbcXl7vMB+tC/RTJ5+mldTKriK7mdv/l9pRJZQAQCAQAYOP0RPvpr84/bj+CYg2GhzyNb56fUmv84GpdWvArpCgVBKRR1LyoKgDQ077RUujNOXNFjiHFoCpjwYBBGRF7eJ4XJAIg9fI8z/cM0zWjjKvS6a7f1bgEQoTO5n0dveFuB2su+j/QurWigydAhM7DLz87c835YMdUaCsubDe9dWy10XzgyGK+fM2wN6oeHSpls1XXtW93O08AetyHy1oD5s3mISfCH0tlvVV//XfFzR4RQPS1FS94Jq3WCwAUa2SBd/pEAOK17W6UaBC9I7s/LLStnP3zhfuU/MnMo2LI25bON2x63cGLgqfl1TIHvbgoVW6TZDnoat5YWO/khR7eeaiwzK2zyq3CZJ++dfvmrRtf/u3Gl3+78ef1LCRXf/LZqUyZp4m4TGuK0Fyyx97NCz0+R315k/+ni82y35bjbflrW7n9J3clgxhCiUpDgogSASCiRMjIpjAejQE/X+za+uzMnz37YoUPpLaVs5+d+bMlrcP87oox153azNoXPTNh8pzdfuvrmSoIhHwo78jZOqNz48yJ6snPvPw2s+vPR3MYABDsWzc5Ug/W5bIAwKRXN64Sdq89LPtVRxn3dhw38+WzJmg1SSvtusqzpxT4DRRl3HX+tBVq5z+l1Tw1t8xrPnl+swEAQL/+wGaubdHTzLQXiq/nNR4pNflr5y2s98p+BGMCZ33n/E62bd3Pnpr+wm5/+rELdRmyd9Uo04ELJ/LI4ZyZzyTNXNEE1nff25sm+90lhk1gQ/9YllIBxbAK/AKN23DuzF69q2zOzGeSnl/TQm1494z89xx6XPWuQMD16uynfvJ0+N/8Rrl/Jym2L50weeKEyROTVn4YCHz48vSJEyZPfEn2XzX/B4bAIggSW/DRVgRBYgzaEIIgMQZtCEGQGIM2hCBIjEEbQhAkxqANIQgSY9CGEASJMWhDCILEGLQhBEFiDEbijxjRWbskZUowCSHOMo5SuhHk3xyMxB8hxFORv8dj/P1HN27eun3zb6cWK/Iwck9rVsqATNjxAfE0rp0zVatRa+OUC3gPIrpKpmqTipVqy8YoRn5sIvEjagrG+xPn8kkDPIFZoUAuPkbijxDR5xHis4tyTVzw2UhFwvsI/6HsacKjR+woXLLDk1H3ya3bX5zdAM3LVzbxCsgQwdtxeM28ZUo2fWMTIz82kfhhlI33J5IIug1//eZ+eKmCnhPyP9eMkfjDR+ITd8lUrSZpXRf0Ns+fHIqnKwh2WYbItxedh1bMSdBq1No4w4KSlrBEj20+M7fGfnhN2owkRhtnWFEfOhXEs2PGxPlv9/r/+KsJwV0NHN4S98YErWbecJkH8iO66tsh7+DeHCObwGUUv7WT6zpsl32ZBl9N2vQXitvp7aerTXLvO8LYxMiPTSR+WEzZeH8ICBLQ+v4rFSjR/mMk/rCR+JSp7h937914Kxl0Wz7+Otgm/LMxGC48aL690LJy6W4p79zN73+4+9mBZMfGZWWRyazA9frGwJYPvrwt3jyacrm8JOgslPHA1VunUoFddSG4SM4/9o+LqHzid3jAYEkOHwtrMsXzHT65+xD60u7vvvVeqFudOoqos+EYmxj5sYnEB4AxiPcHSSIBwbEnK2VKHDPlOUuhTZEkLIzEH0kkPlCUSkWFjmNAgzBIvj3fVn+ZXl25JVT8nbtM/tamSOdGZdr+iokBANZsTQb+ctgEKRWoAB4sYvgQjFWXrl47lTnmw2RJIECzfSsX0SwdkATFRgFjhdIx8mMRia98vD8hAqiAsOuPXbxy6fgWxrHppZV2+QeYIw6BHWkkvh0AwpH47gWJ9aFtAoEAmPwETBSEIvHbfr5yq27zR+fHLBK/3dNDICEciQ/9I/Gl0Th8lHx7IrhDobNBaL2elnx+KVh8FcuFE14parCU7IehWIM+llN1tD7ZyOp/HMtUiq6yl5Y1sZUfjy5Gfigo/c6Oq1beY6/fs8lSyHQekd0sgvH+H+ewQBQbqVPG6u5/VYde6A3HjnQ9++vDDiFvtbw1ESPxR8/4zLeXDZqjwS0E2LwTn+YAAHELvSqaVXDopDTyxcgPiWyR+NGRO95/RDCckQWPVwKQV3Z0vxvqi8QHCEfiBz/gTBz4uyU6nLlJUyr6oUj8s9m+soJmJe66RCLxw0d2eUDvRF4e3ivFmTjg+6YlJZ9PitfrRnfpEsHr8/IKrlMeHUqXbgDf+cgsvt/lljiLXrlxgLJEYuRbFPMgvnk+0/93baOOxI9GMN5/a8qkOGZS3IRfHPZD18bpiTntMtcP0bF7daEtcomKvJsHNkX2Nggj8RWBzS7KlFpeO9wpAhCvfc8+90+tRcPPOFMsrRK62ty80CPw3Z4BE+fEs3ve87PzPxzzO2VM+vZcVevWMrtH6OGdb27dx/+y1Prw0hqjJpS9Hrxeg9HrsteLMYmRH5NI/DGK92c4xvN2SUGFwysIvLupuLCd+k2pWfYeGEbiKwObd/z9qnj7kp9o1JNfeF3IHlkoOmXauTdbOvzSzGeSpr+wfI9jfPx4lMl46/1jJs+OXzyTNHNFC73r/Gmr/IbON82bPHHC5IkTZm5yQ2/ToqcnTJ44YaVD3noxNjHyYxOJP0bx/vrSD05vodrX/Hz6M88uqhEWH70k/yQXRuIjCBJz8NFWBEFiDNoQgiAxBm0IQZAYgzaEIEiMQRtCECTGoA0hCBJj0IYQBIkxaEMIgsQYtCEEQWIM2hCCIDEGbQhBkBiDNvRkQgRPp+xBrj9qFdHj7lY+ZeUJVUEbejIR2jfm18ofsPLjVRGd5Ut3dCldlCdVBW0IQZAYgzaEIEiMQRt6ohDblyRoNWqt5tlXr/vfDi6IFpdW6w1/mhVZnNNQ0W+VNOLZMSOybmfWebH/DqNsMq5V+Pq0yBqkc/uv+0icaxPDmySudpHwm8ElXp9++bLk+vVEtVaj1j5X7CaDb4IqQ6gMAsaePVkQgRcIAPDNS/N9Oz/Yb6IAVDQXWoSW8F5/eLGieI7ry/IjPTwfTlOmOH2/UO+om4xrFZH3CaEPVKyB64sSJIKXD697ROsMwfXLiCgEU5E71mXZXvnoVDoFQNHhnMOom6DKECrRkXdlDmS8Q7FccH0ITqXq5Thu4CoBFGeIHjJNJXCG6MGvUTcZ1yoMN0ieP8UaDA8FBVMMyzEAILIqULEPiUTbBFWGUIkODsoQBIkxOChDECTGYG8IQZAYgzaEIEiMQRtCECTGoA0hCBJj0IYQBIkxaEMIgsQYtCEEQWIM2hCCIDEGbQhBkBiDNoQgSIxBG3oy8VbMSljmUDqA7xFUiLt4Wpyl/XGiScekLELL3Lh5NuExtuQPz2Fm1/PD/+GoVB6FR1chnsa1c6aGMj3mvOmTWwWfsEcQZGi8zWtKPtRVv3cyT88AABX9QfxRgDaEIMiQEN7Fq35ZXZBuGEFmx2OBgzJkWIjPVrAgGKmXmLKiplOxRR0CQvuOhUlqrUY9I+t1lyIyxGcvXjgrQatRaxPTVtQ4lSlLT3vJvGkatTbOsLCswx9QRAOA+GzFC59L0GrUk5LmFTZ1KzAu9dbOUmsnLvlLIPCXpRNCg7IlHbILoQ0hw+GtX7GpLb7687vf37/5jsVXkb/Ho8xETMBda9dVfnr/7q1zmXzNyq3ye4ToLF64yW3ce+nre/dvvpPXuy9npW1kszaPgmDPX2tTbbty57tvOyt19rd9iviQ6CxeWOJOreu8+/0PX55M95W9VOiQ/YQZtn12/+4372aq6N+cvXP33v279+5/d84ie6cIbQgZDsP2i9/cOJFnoIBiTVazzn/do1B/iM3cVWBiKYq17Nxlkpwtcq/6I16usQfMVb/NNjAUxWZsP/5u43q9Sl4NALHL5gbz9lVGBoAxbXg9k5ZbASBUluwDO80cBcBmvF6ZDe31bgW+GIqiKAAAFRVEfgWcG0JGQM/15pLyJmcwkDgQgFSlhLj0cGIordPRvXwvAZCz2gs+fyDe2hemzJnzOBl3H0LihQBrZkMHTrFGFjzyqwg+f0D6MGdKW/iNQCCg90pgiZ7XOr5BG0KGQbDnL6uQNp/tvGjmKNJdPmtOl1JSKpC9a/KjRrfl/Hul+j6jVjGy38MaG3BQhgwN8bV7AqlFW8wcBQCSz+NXTov3hBfTkPx+Kd4QL/MIgNXrVH43Hx65EN5+qNbOyz3RRXOMSoisZSHybvlnnwCATdarBI9Aswksm8CyCbSKooda/GJcgzaEDA3FGlngnT4RgHhtuxslGkSvNPx2j4P/v2vsPgIgOmtr3PHmPKPMlxXzy6Jsun3Hf7bxhBDBWb9u025HQCX3tcukWk3g2PdHt0gI76jZ16XIDDWTuiWPdu141e4lAKKnpXDW1EVNihjeGIA2hAyDfv2BzVzboqeZaS8UX89rPFJq8tfOW1jvlVuHgCp9W7q78DlG+3ROu67qRHWG7I07Y268cDSjqyxl8sQJ09fYdXs/OG2NviTRaGBzG4/kktpfPTU50dLAlG5LVUFA/nuLTMahC0ez/RVpkzXqn2S9SYr+dHqDAjNdYwLODSHDwVj2f9yzP/LSfOlfpfKLUKbGv38LALB+wyH5995PR289dNGqqAQAxeUe68w9Fn5ZKm5RRmYsygIAlOXMtz2KKmBvCEGQGIM2hCBIjMHlEhEEiTHYG0IQJMagDSEIEmPQhhAEiTFoQwiCxBi0IQRBYgzaEIIgMQZtCEGQGIM2hCBIjEEbejIhgqfTp1im9I9RRfS4uxUXeVJV0IaeTIT2jfm1cmes/phVRGf50h1dShflSVVBG0IQJMagDSEIEmPQhp4oxPYlCVqNWqt59tXr/rd/NUGrUWvj0mq94U+z1KG1qDSGin6rABHPjhma8EdZ58X+O4yyybhW4evTwu+r5/aPKyTOtYnhTRJXu0j4zeACbU+/fFly/XqiWqtRa58rdpPBN0GVIVQGAZ+wf7IgAi8QAOCbl+b7dn6w30QBqGguIbicA+G94TBoKp7j+qKNSQ/PS6EsU4rTc32xiFE3GdcqIh/JiVaxhr5lOoAIXj6cbkvrDAlBEVEQJAIgdazLsr3y0al0CoCiWTZ8CFE2QZUhVKKD6YtPFhTLBYNCOZWql+M4bkDdoDiDPvpmCZwhelhq1E3GtQrD6aOvoUOxBsNDK1tQDMsxACCyKlCxD4lE2wRVhlCJDg7KEASJMTgoQxAkxmBvCEGQGIM2hCBIjEEbQhAkxqANIQgSY9CGEASJMWhDCILEGLQhBEFiDNoQgiAxBm0IQZAYgzaEIEiMGaENEceS0BP9U9Y4H35kn7gLpmlSKrwyH9wDIrytYEESEzyMGSWdSqfHPYjorF2SMiUYaxBnsQljLI8gP1oG2pDQUfFy2jSNWqtRT3puXmFTJEqWMp/74e69O6fTVVH3Quk37D9alRv9+VyZENoKN9nA+qerX92+eev2xb0pI3hwV0aIpyJ/j8f4+49u3Lx1++bfTi1WpLA9rVkpW4eOZvl3QnSVTNUmFXsUK5DoPrR2ToJWo9bGTV2wsVEZIdFdv3pusP1LTFm2u0PZBkg8vzZRrZ3fooQKcS6fFEl00qi1GmZFlE5FDOhvQ3zzy0sapLwj125//c2N90rZ9q1LXnP2hU9RFKWK7kIATFquNccYPQ1AHgjv9IFpc5FFzyWwbMKQ6SVKIPo8Qnx2Ua6JY9kElk1QpKyE/9A7LqrFqCGCt+PwmnnLFO00CvZ1WWU+06FPvrpx9f1dOkfJMgX6yIJt+aIKf3rdpS9u3fjkqEWoXb7W1iO3SATRVbajXRr+7x4PIomg2/DXb+7fvRf813MiY4yvo+j0syHibfeo0kuLzIYEhuFMG+qO7y/65XAH2c9fHxyUiZ7GwvmGKRq1VjN1wcZGT8TQCN9eljM7kdFq1FPmLK91DpfeL9gXaNSTf9XUC+51z4SMfEGoKvTY5jOza7p99oK5wSC4SDNC+NYSy4w4tVajnjJrea0z+Pfe2jlTl+0uWJDETMk65GhaPTeJmZJ1aMg8deIumarVJK3rgt7m+ZNDWXMFwS4LcRdPS1zu4J21SwxajVqrmRrpy4jOQytCDbVhQUlLWKLHNp+ZW2M/vCZtRhKjjTOsqO8OpdZ5dsyYOP/tXv8fg0GCmqnlAxp34t6YoNXMa5XluhZa5mrU0xQb2Ppq0qa/UNxObz9dbVJGAQCA8N1gKnqrOs/IcXpTwc4ifW+Xyy+3CAHT5rpjldkpHMsZs0s3pwZ8bl6h80bc+7Z2ZVSu0imzewgIEtB6lqH6UEgJgDgsI+9t9e8NsclsoKu+0R2yhQRz0XaraZhWn8r407/u3b97rTr5gQ+E84VZO/jsxk++uf/1V8dSu0oWbQrGehLPvpy1Dm7nRz3ffX/nz1ZSu3T5ME0mm3fx3v2vL1hpSD9+K2TkF63BfCxGr2f+p2nH2hrYfPbG19/cufluHgsAQNwVlnUOrvLK/e++v/PeevF3S/NtPABQKhBcLtPxT0+lussKXavPfHpI7663DVWvKFPdP+7eu/FWMui2fPx1sBn5Z6OJAgCgOBMnOf9zTbHDeOjqrTtf3/q00kgBAAgtK5fulvLO3fz+h7ufHUh2bFxWFrnmA9frGwNbPvjytnjzaMrl8pKgs1DGA1dvnUoFdtWFO3fv3b977x/7jeOipXoM9KXd333rvVC3OpVWUIUyvXHm/QOm0EkSeY+gYjm5BSnO+sZeq4ECABB9bfsaPLrFVmUmBEh3Q8l5U3VVumKjCkkiAcGxJytlShwz5TlLoa17nPS9+9kQlbLz3bpM/+4Xn1ZPm5NTWGN3j7DhjeaqgqPmL6rVlVsyOIZiOEvlO+fesnIAAKS7wcan763KNVAAjGlD1Sus+4+O4Xq5FEVRoAKgVA+YOMUYaPALmScPWU0cwzAsGwyidDfY/Km7QirGDVWraFeDIxSjq8vO4GhOz6o4s5Gl9Xo60DtcN5iiVCoqXNT+paVZGiQPW3W6yqJnGYZNCA4W+bb6y/Tqyi1pLADF5ezcZfK3NkU6NyrT9ldMDACwZmsy8JfDJkipQAXwYBHDh2CsunT12qlMWeak2OzT1z6/sGuM59cURHDseLWVXr83W5n5SeIpM2g1Tz2/wmk82nHQpMhp8zWVNBsOVJqVm9ogRAAVEHb9sYtXLh3fwjg2vbTSrtQAk0pvvHqtc4TnasAUNWUsOPFZz80r5yrzOMFW8OIzaeXux1tVjfBuHjhTJP+RMlhys1MYAJD8vt7AhyumTopjJsUxkxLn/cEf4N3CqFxZZ8l9IGlS4v0Sq49EV1JcKgeCp4cAAKgYlgaKUgGoWAoAVEDIaORVkGrNGFh3iOAW+hef1utpyecPmZ2K5djQJxQFMFJtijXo+wcBjwqGMxj07I/EhXh7wYKljuSj5yuVMQgASr+z4+qVD45vM7g2WQodCiw1yLdsPUxXVucoeZuHMlZ3/+t2x/68NL0hxVx07EgufHjYodTsHcXpDYYRVrGHs6gp1mixGi3W0u22rGf/b4Vj2/t5j3Nqhrq46N+807nf1DfdraITRlV9aB097PbRj0eWWquih5dHFIL4mpYvLOMXv/PpwezoOdayQDGcnuH0RpNOevbF3fbfmgs4OXff01r2BpR2KHuv+UEYzsiCxysBjKlsNPp6Q8T9+oolO/rdLGb1OhZE8bE6ChRrYoHvm8ojnpba+g4BAGhdcrzk4yF4v4llE1QqRv67XrReTwu+yIrChL88oHciLw/vleJMXP/iSz6fFK/XjW7egghen5eXqSEWea/XN7o+6DiA8LblCyqkLe93KuZBfPN8pv+P1ChKBYHw8iFyIbqa2/2Xt6ZMimMmxU34xWE/dG2cnpjTLnOvS3TsXl1oi6zwI/JuHtgUpabvCO/zekdYxfpsiOIMAVf9uk2NLm+PIPCetjdeaxWS8zKCrk8IIYQEApH/R8RCABAI9H3CZW/PlFpeO+wUCBH583vWbKztAhUAUCnrrfrrvytu9ogAoq+teMEzkbWl5INK2WzVde3b3c4TgB734bLWgHmzWcHW8gHY7KJMqeW1w50iAPHa9+xz/9RaNPyMM8XSKqGO2Ff1AAAHJElEQVSrzc0LPQLf7RkwcU48u+c9Pzv/Q3nulLWtnP3zhfuUm6EM1Yrg9SqRAVVGNg1v/cpN7l8ePPWKnoghZBfhMq0pQnPJHns3L/T4HPXlTf6fLjbLfCuLyT596/bNWze+/NuNL/9248/rWUiu/uSzU5kyTxMxHON5u6SgwuEVBN7dVFzYTv2m1KxQV4i4Cp6fnTbCH8H1G5Sxq4+/T16reHPZ7JIAgCreuHjXuf2lBgDi3jj1xbcjs7gv/aQVANhXPrpxUN+x8OmXL4c/uP7ChD8AQHL1F58Wc2ze8fd7Xi3Jn14hALCpq469V2dhAAAo467zpwPF5fOfejUAKl36+pPnNxvkKnsEyri34zgpKJ81YWUA4pNzK88eGtMeL5t3/P2ewpIlP6mQQKXL3PDumZHMB1OmnXuzV1a8NLMWgNZl7u04s0HWvv9YwTfNm7nVE37lXvR0EwBknr1/xixnf9Rva7wO0vW1z/6k7730P9/rkFUEuA3nzkjF5WVzGnoBaP1Iv8pHg2LYSBtJWEoFFDP0wl6Ph770g9Pixoo1P/+DBCpd+qqjl/YrOCP+CODKHAiCxBh8tBVBkBiDNoQgSIxBG0IQJMagDSEIEmPQhhAEiTFoQwiCxBi0IQRBYgzaEIIgMQZtCEGQGIOR+AiCxBiMxEcUQLQvHBC9rp5RpmjQH2/LYrSaHMe/cSQ+8dgKFiSptRq1NiltRc2w0cijkequmKWe9PL4SMMHAIzERxRBEiWV/vfX7oSj1+9frVaw2RDsO/a4Zc7e6Nv5mETii87iZZucuqqPv7h146/VJl9FTmGbAkZERJ+zsTDrpQaf/PseDRiJP2wk/jAqg5SF+CKNW2LKiprOvg8GT9EHUDysfmxUCOElYNn+2evKCAEAiB3lFXzu3mx6sDZyVIxNJD7p9Uj6VYfesqZxLGfK27UtNdDVJvsiLT22rKeeX2OD3FNHMhU5Wf3BSHyQNRJ/KJVBy+KtX7GpLb7687vf37/5jsVXkb8nnEQ9aIr+jwlJIAGhdatlRiIzKSllWZl9OKN/bERXxQ5P9rFtRoWuq7GJxKf0RX+6cMwSutiIcF0A1ji6SNIoJFg//uG725eOFGWMt/jffnlDVMrOd+v8a3a8+HRZfLLZnLf6FWueaSTTPYNH4v91SwZHATCWynfOpfqCV253g41PrwuG1VOmDVWvHJ73R0eP1TpkJtmASPwBHzAGGt4WMq+dD1WVIMFI/OqQinFD1aqa+Q0O3roBIBSJT/SsSjIbWZofQST+YCqDl8Ww/eI3GyiGoQAok9Wsq+/yiGBMAAil6LvYYzerLFE8ns0+fe3zAKNQUORYqRACKhIwFh3faaB8LeWb8heK7NVjGbKP2olnX7kr4+CVFNot964f0ClL+cVhP4B+1QmlIvHDiO6K/AaSe9r6bxk1FYFKb7x6jdAjq2IYiT/iSPwoKkOUped688YFzyUE3294YPWsKCn6EcYmrF4uFbE9KzIPbaiI9PgyWv7+rfdMaY7JYDBmv3HiYHpv65tdjz/XEV0FiLdhY4exuipdlrNFnGsTwyqJq10DqoR8kfhDqQCA6Cp7aVETW3mucfFoPHsYlTEBI/FHfDyPIhtdJXpZBHv+sgpp89nOi2aOIt3ls+Z0DdjqR5Oiz2Qe/fxq2HziB2n6aM4QH/AIjz+JHF2FtxU3G6ouypUfSJn2f/T5ztALWjewKLJF4g+lwreusRS6TW9daRzQ6ZZZZTzSZ0PE/frafYFt70bWn2P1OhY8o4jEd7h5sjq0bpinpcHJriqysLQuOV7q4oENZ5iLIlEwEt+UANA/El/W+ymDloX42j2B1ANbzBwFAJLP8+BaokMUWOS9QoDhFO4QyaZCcQb9Q2/y9uJyl/lgXWi5G8nn6aV1o1nJMJoK397k8l93zWhTAUAgEACAXycaVp3tPvKYCyJTrMHwUIvLN89PqTV+cLUuLbjTUUfiR1UBgJ72jZZCb86ZKwfkWC5xMJUxhPA+ntDciDpEGIk/KpVBykKxRhZ4p08EIF7b7kaJBtE7spXJFQ+rHwsVloOu5o2F9U5e6OGdhwrL3DprUarMvsqtf//2zVu3gzHyV09kqyD9v65c+r3Mi7KPSSQ+AG/LX9vK7T+5KxkUS/eHyNUqSgSAiJIiKxWEpTASf6wi8Qcti379gc1t+YueZuL1ptzqxiOG/AUV8xayly4UyV/UcQhlOnDhBGytyJlZHgBan2l99729abL37iimbyxPsypKRbFcguyz4GMSid/jqncFAvDq7KdejbyXXHfz0wJZ66zYvvSpla7Iy5enTwQA03/dumSN9UJlGImPIEiMwUdbEQSJMWhDCILEGLQhBEFiDNoQgiAxBm0IQZAYgzaEIEiMQRtCECTGoA0hCBJj0IYQBIkxaEMIgsQYtCEEQWIM2hCCIDHm/wMpE155BkJy3gAAAABJRU5ErkJggg==)"
      ]
    },
    {
      "cell_type": "code",
      "execution_count": null,
      "metadata": {
        "application/vnd.databricks.v1+cell": {
          "inputWidgets": {},
          "nuid": "886b22f6-ffc4-4767-85a8-11bb7b82cf54",
          "showTitle": false,
          "title": ""
        },
        "id": "sIPNtMoFSnPA"
      },
      "outputs": [],
      "source": [
        "# Slicing de 2 elementos\n",
        "L = ['a', 'b', 'c', 'd', 'e', 'f']\n",
        "L[1:3]"
      ]
    },
    {
      "cell_type": "code",
      "execution_count": null,
      "metadata": {
        "application/vnd.databricks.v1+cell": {
          "inputWidgets": {},
          "nuid": "82799f04-c3b7-4e40-97aa-58aa981b5db4",
          "showTitle": false,
          "title": ""
        },
        "id": "zHj0-fI_SnPA"
      },
      "outputs": [],
      "source": [
        "#Slicing desde el inicio de la lista hasta un final establecido\n",
        "L[:4]"
      ]
    },
    {
      "cell_type": "code",
      "execution_count": null,
      "metadata": {
        "application/vnd.databricks.v1+cell": {
          "inputWidgets": {},
          "nuid": "3120a065-b182-47ff-a00b-4b0a1f8d2863",
          "showTitle": false,
          "title": ""
        },
        "id": "RP6g4OWbSnPA"
      },
      "outputs": [],
      "source": [
        "#Slicing inverso\n",
        "L[:-2]"
      ]
    },
    {
      "cell_type": "code",
      "execution_count": null,
      "metadata": {
        "application/vnd.databricks.v1+cell": {
          "inputWidgets": {},
          "nuid": "f3c4f747-39a0-413c-a6e5-b4a45172e3bd",
          "showTitle": false,
          "title": ""
        },
        "id": "-tiUMqTySnPB"
      },
      "outputs": [],
      "source": [
        "#Slicing utilizando la longitud de una lista\n",
        "L[:len(L)]"
      ]
    },
    {
      "cell_type": "code",
      "execution_count": null,
      "metadata": {
        "application/vnd.databricks.v1+cell": {
          "inputWidgets": {},
          "nuid": "10facaeb-0f73-4682-bcb7-1b6b37529425",
          "showTitle": false,
          "title": ""
        },
        "id": "Q2NQEROjSnPB"
      },
      "outputs": [],
      "source": [
        "#Slicing con inicio definido hasta el final de la lista\n",
        "L[3:]"
      ]
    },
    {
      "cell_type": "markdown",
      "metadata": {
        "application/vnd.databricks.v1+cell": {
          "inputWidgets": {},
          "nuid": "b7b3a2a8-05e9-4c39-bd44-5e8f50808a3d",
          "showTitle": false,
          "title": ""
        },
        "id": "fJvqGHtASnPB"
      },
      "source": [
        "# 🌶️ EJERCICIO 4\n",
        "\n",
        "<a id=\"ejercicio2\"></a>\n",
        "<div class=\"alert alert-block alert-info\">\n",
        "En base a lo aprendido, aplique las siguientes acciones al listado:</div>\n",
        "\n",
        "Operaciones con la lista nombre_usuario:\n",
        "1. Se identificó que entre los elementos figura el nombre de una ciudad, elimine el valor de `'Quito'` de la lista con el método `remove`\n",
        "2. Imprima el tercer y último elemento de la lista usando el indexado por posición\n",
        "3. Imprima los nombres desde el primero elemento de la lista hasta el cuarto elemento usando el slicing\n",
        "4. Finalmente contabilice el número de elementos en la lista"
      ]
    },
    {
      "cell_type": "code",
      "execution_count": null,
      "metadata": {
        "application/vnd.databricks.v1+cell": {
          "inputWidgets": {},
          "nuid": "8a786097-ccf0-48d5-8d6b-68ea9cfb0900",
          "showTitle": false,
          "title": ""
        },
        "id": "6lto_ofWSnPB"
      },
      "outputs": [],
      "source": [
        "nombres_usuarios = ['Juan', 'Andrea', 'Pedro', 'Mishell', 'Quito', 'Pablo']"
      ]
    },
    {
      "cell_type": "code",
      "execution_count": null,
      "metadata": {
        "id": "ZRsIIWxSTzOd"
      },
      "outputs": [],
      "source": [
        "#1\n",
        "#Su código aqui"
      ]
    },
    {
      "cell_type": "code",
      "execution_count": null,
      "metadata": {
        "id": "yWbU9LAITzOd"
      },
      "outputs": [],
      "source": [
        "#2\n",
        "#Su código aqui"
      ]
    },
    {
      "cell_type": "code",
      "execution_count": null,
      "metadata": {
        "id": "dt6h-doGTzOd"
      },
      "outputs": [],
      "source": [
        "#3\n",
        "#Su código aqui"
      ]
    },
    {
      "cell_type": "code",
      "execution_count": null,
      "metadata": {
        "id": "9l2JpWOFTzOd"
      },
      "outputs": [],
      "source": [
        "#4\n",
        "#Su código aqui"
      ]
    },
    {
      "cell_type": "markdown",
      "metadata": {
        "application/vnd.databricks.v1+cell": {
          "inputWidgets": {},
          "nuid": "f78c3a08-01d6-4200-b09a-77cd0a1c18b0",
          "showTitle": false,
          "title": ""
        },
        "id": "uTbqM6-wSnPC"
      },
      "source": [
        "# Operaciones básicas con listas"
      ]
    },
    {
      "cell_type": "markdown",
      "metadata": {
        "application/vnd.databricks.v1+cell": {
          "inputWidgets": {},
          "nuid": "de5fda1c-e2c1-4b41-804b-06793d2f6cae",
          "showTitle": false,
          "title": ""
        },
        "id": "QCEZG2akSnPC"
      },
      "source": [
        "**Mutabilidad**: Las listas pueden modificar sus elementos (son mutables)"
      ]
    },
    {
      "cell_type": "code",
      "execution_count": null,
      "metadata": {
        "application/vnd.databricks.v1+cell": {
          "inputWidgets": {},
          "nuid": "eb169f8f-2432-466d-a104-e457429efdc7",
          "showTitle": false,
          "title": ""
        },
        "id": "uoWuaJ3mSnPC"
      },
      "outputs": [],
      "source": [
        "A = ['Kan', 'Ely', 'Pedro']\n",
        "A[1] = 'Ana'\n",
        "print(A)"
      ]
    },
    {
      "cell_type": "markdown",
      "metadata": {
        "application/vnd.databricks.v1+cell": {
          "inputWidgets": {},
          "nuid": "84c28342-045f-41ee-9127-d81630268d23",
          "showTitle": false,
          "title": ""
        },
        "id": "xLUkbxq1SnPC"
      },
      "source": [
        "**Eliminar elementos** de una lista con el comando `del` con indice puntual o slicing."
      ]
    },
    {
      "cell_type": "code",
      "execution_count": null,
      "metadata": {
        "application/vnd.databricks.v1+cell": {
          "inputWidgets": {},
          "nuid": "9d419064-1e0f-4e6a-ade4-0febcf237f51",
          "showTitle": false,
          "title": ""
        },
        "id": "SyJGTQ7hSnPD"
      },
      "outputs": [],
      "source": [
        "A = ['Kan', 'Ana', 'Joaquin','Pedro','Ernesto']\n",
        "del(A[-1])\n",
        "print(A)"
      ]
    },
    {
      "cell_type": "code",
      "execution_count": null,
      "metadata": {
        "application/vnd.databricks.v1+cell": {
          "inputWidgets": {},
          "nuid": "97779b08-9c70-4bf3-82d9-8722c0bc0613",
          "showTitle": false,
          "title": ""
        },
        "id": "sAF6RM3OSnPD"
      },
      "outputs": [],
      "source": [
        "del(A[1:2])\n",
        "print(A)"
      ]
    },
    {
      "cell_type": "markdown",
      "metadata": {
        "application/vnd.databricks.v1+cell": {
          "inputWidgets": {},
          "nuid": "d539d096-d51f-446b-bf5f-19da06cae965",
          "showTitle": false,
          "title": ""
        },
        "id": "zW-BbsonSnPD"
      },
      "source": [
        "**Concatenar/Unir** dos listas con el comando `extend`"
      ]
    },
    {
      "cell_type": "code",
      "execution_count": null,
      "metadata": {
        "application/vnd.databricks.v1+cell": {
          "inputWidgets": {},
          "nuid": "60e4336b-71d0-4add-bf02-893ae06440dc",
          "showTitle": false,
          "title": ""
        },
        "id": "7bZM-fKJSnPD"
      },
      "outputs": [],
      "source": [
        "L = [1,3,4]\n",
        "N = [30, 80, 45]\n",
        "\n",
        "L.extend(N)\n",
        "print(L)"
      ]
    },
    {
      "cell_type": "markdown",
      "metadata": {
        "application/vnd.databricks.v1+cell": {
          "inputWidgets": {},
          "nuid": "431753f9-0c59-4eca-bbd2-924bab029466",
          "showTitle": false,
          "title": ""
        },
        "id": "YZKEpW4aSnPD"
      },
      "source": [
        "**Contar** el número de veces que se encuentra un elemento en una lista con `count`"
      ]
    },
    {
      "cell_type": "code",
      "execution_count": null,
      "metadata": {
        "application/vnd.databricks.v1+cell": {
          "inputWidgets": {},
          "nuid": "4bd90899-8ee9-4516-8a10-595c5d70d95d",
          "showTitle": false,
          "title": ""
        },
        "id": "p8U9cAmmSnPE"
      },
      "outputs": [],
      "source": [
        "L = [1, 3, 4, 3, 3, 3, 1]\n",
        "L.count(3)"
      ]
    },
    {
      "cell_type": "markdown",
      "metadata": {
        "application/vnd.databricks.v1+cell": {
          "inputWidgets": {},
          "nuid": "f81d7dcb-0fab-452f-b87f-1b0cd9aac669",
          "showTitle": false,
          "title": ""
        },
        "id": "b13jBy56SnPE"
      },
      "source": [
        "**Obtener** el indice de la posicion de un elemento en una lista con `index`"
      ]
    },
    {
      "cell_type": "code",
      "execution_count": null,
      "metadata": {
        "application/vnd.databricks.v1+cell": {
          "inputWidgets": {},
          "nuid": "26e86e0b-298d-40b6-8f64-78c7376edae4",
          "showTitle": false,
          "title": ""
        },
        "id": "4c7B5ALrSnPE"
      },
      "outputs": [],
      "source": [
        "L.index(4)"
      ]
    },
    {
      "cell_type": "markdown",
      "metadata": {
        "application/vnd.databricks.v1+cell": {
          "inputWidgets": {},
          "nuid": "a9c16877-afe3-414b-939b-483300a412fe",
          "showTitle": false,
          "title": ""
        },
        "id": "mbVC6Ok-SnPG"
      },
      "source": [
        "# Diccionarios"
      ]
    },
    {
      "cell_type": "markdown",
      "metadata": {
        "application/vnd.databricks.v1+cell": {
          "inputWidgets": {},
          "nuid": "4a25238e-b8be-44b7-b1f8-3a653d1fd8b2",
          "showTitle": false,
          "title": ""
        },
        "id": "vAlTQ9bCSnPG"
      },
      "source": [
        "1. Nos permiten identificar cada elemento (valor) por una clave. **Importante:** Las claves son únicas, no pueden ser las mismas\n",
        "2. Encerrar el diccionario entre llaves ```{ }```\n",
        "3. Las parejas de clave y valor se separan con comas; mientras que, la clave y el valor se separan con dos puntos ```{clave1: valor1, clave2: valor2}```\n",
        "4. Asignar el diccionario a una variable que la representará, utilizando el operador ```=```\n",
        "5. Se accede a los mismos a través de las claves (no a través de índices de posición)"
      ]
    },
    {
      "cell_type": "code",
      "execution_count": null,
      "metadata": {
        "application/vnd.databricks.v1+cell": {
          "inputWidgets": {},
          "nuid": "b4fbd20f-bf4f-4826-bda2-89b238b6a429",
          "showTitle": false,
          "title": ""
        },
        "id": "2Qtiw7q4SnPG"
      },
      "outputs": [],
      "source": [
        "# claves: Nombre ciudades\n",
        "# valores: Numero de registros de participantes a un evento\n",
        "\n",
        "registro_ciudad = {'Lima': 692, 'Quito': 312, 'Montevideo': 95, 'Californina': 153, 'Medellín': 485}\n",
        "registro_ciudad"
      ]
    },
    {
      "cell_type": "markdown",
      "metadata": {
        "application/vnd.databricks.v1+cell": {
          "inputWidgets": {},
          "nuid": "96350422-48cf-4c06-8eba-e41ee2397980",
          "showTitle": false,
          "title": ""
        },
        "id": "KrlXrY3JSnPG"
      },
      "source": [
        "**Consultar valores** correspondientes a ciertas claves en un Diccionario <br>\n",
        "\n",
        "Para realizar esta consulta, INDEXAMOS con el nombre de la clave en el diccionario"
      ]
    },
    {
      "cell_type": "code",
      "execution_count": null,
      "metadata": {
        "application/vnd.databricks.v1+cell": {
          "inputWidgets": {},
          "nuid": "d8a0108a-ef71-4051-80cb-95e5e1985fc1",
          "showTitle": false,
          "title": ""
        },
        "id": "iZCPvFaiSnPG"
      },
      "outputs": [],
      "source": [
        "registro_ciudad['Quito']"
      ]
    },
    {
      "cell_type": "markdown",
      "metadata": {
        "application/vnd.databricks.v1+cell": {
          "inputWidgets": {},
          "nuid": "8e51f122-1b98-4cef-90d2-a01cfdb5da3d",
          "showTitle": false,
          "title": ""
        },
        "id": "cxBdhnsSSnPG"
      },
      "source": [
        "**Crear una nueva pareja de clave valor**"
      ]
    },
    {
      "cell_type": "code",
      "execution_count": null,
      "metadata": {
        "application/vnd.databricks.v1+cell": {
          "inputWidgets": {},
          "nuid": "4c00a125-2a30-4a75-89cd-3b99e0ba7329",
          "showTitle": false,
          "title": ""
        },
        "id": "rnccBtHMSnPH"
      },
      "outputs": [],
      "source": [
        "registro_ciudad['Roma'] = 358"
      ]
    },
    {
      "cell_type": "code",
      "execution_count": null,
      "metadata": {
        "application/vnd.databricks.v1+cell": {
          "inputWidgets": {},
          "nuid": "29bbf0f8-44c8-4717-995a-e2437175530e",
          "showTitle": false,
          "title": ""
        },
        "id": "rmODxg5GSnPH"
      },
      "outputs": [],
      "source": [
        "print(registro_ciudad)"
      ]
    },
    {
      "cell_type": "markdown",
      "metadata": {
        "application/vnd.databricks.v1+cell": {
          "inputWidgets": {},
          "nuid": "e896e930-3697-4609-9806-1d06cdb1099e",
          "showTitle": false,
          "title": ""
        },
        "id": "98j-aAy0SnPH"
      },
      "source": [
        "**Impresión de todos los valores y claves** almacenados en un Diccionario"
      ]
    },
    {
      "cell_type": "code",
      "execution_count": null,
      "metadata": {
        "application/vnd.databricks.v1+cell": {
          "inputWidgets": {},
          "nuid": "c7e2ccaf-f338-4992-a7d2-af0b4dfed269",
          "showTitle": false,
          "title": ""
        },
        "id": "0WGeTaPHSnPH"
      },
      "outputs": [],
      "source": [
        "# Impresion de todas las claves (KEYS) de un diccionario\n",
        "registro_ciudad.keys()"
      ]
    },
    {
      "cell_type": "code",
      "execution_count": null,
      "metadata": {
        "application/vnd.databricks.v1+cell": {
          "inputWidgets": {},
          "nuid": "b0350378-b564-4b59-9712-1b6b52f13e37",
          "showTitle": false,
          "title": ""
        },
        "id": "aEDigz9YSnPH"
      },
      "outputs": [],
      "source": [
        "# Impresion de todos los valores (VALUES) de un diccionario\n",
        "registro_ciudad.values()"
      ]
    },
    {
      "cell_type": "markdown",
      "metadata": {
        "application/vnd.databricks.v1+cell": {
          "inputWidgets": {},
          "nuid": "98782716-ca0d-4314-bed0-31429f1d0bfb",
          "showTitle": false,
          "title": ""
        },
        "id": "_7ouxHp_SnPI"
      },
      "source": [
        "**Obtener, eliminar y actualizar** valores almacenados en un Diccionario"
      ]
    },
    {
      "cell_type": "code",
      "execution_count": null,
      "metadata": {
        "application/vnd.databricks.v1+cell": {
          "inputWidgets": {},
          "nuid": "40c5daab-3e9a-481e-bbc2-c2128ecbb913",
          "showTitle": false,
          "title": ""
        },
        "id": "vHrT2qx2SnPI"
      },
      "outputs": [],
      "source": [
        "# Obtener el valor correspondiente a partir del nombre de una clave (get)\n",
        "registro_ciudad.get('Lima')"
      ]
    },
    {
      "cell_type": "code",
      "execution_count": null,
      "metadata": {
        "application/vnd.databricks.v1+cell": {
          "inputWidgets": {},
          "nuid": "8fa9cc9a-70b0-474f-a117-aee8342dc948",
          "showTitle": false,
          "title": ""
        },
        "id": "ByXuz0CmSnPI"
      },
      "outputs": [],
      "source": [
        "# Borrar una pareja de clave: valor a partir del nombre de una clave (pop), finalmente devuelve el valor eliminado de dicha clave\n",
        "registro_ciudad.pop('Quito')"
      ]
    },
    {
      "cell_type": "code",
      "execution_count": null,
      "metadata": {
        "application/vnd.databricks.v1+cell": {
          "inputWidgets": {},
          "nuid": "8013ca9c-9c31-439f-b016-6107b6e05d2b",
          "showTitle": false,
          "title": ""
        },
        "id": "RVPepfTESnPI"
      },
      "outputs": [],
      "source": [
        "print(registro_ciudad)"
      ]
    },
    {
      "cell_type": "code",
      "execution_count": null,
      "metadata": {
        "application/vnd.databricks.v1+cell": {
          "inputWidgets": {},
          "nuid": "1a5624c9-2bf4-402c-a6e7-e0d4d0b0cbac",
          "showTitle": false,
          "title": ""
        },
        "id": "UYvtuvmVSnPJ"
      },
      "outputs": [],
      "source": [
        "# Actualizar el valor de una clave o lo crea si dicha clave no se encuentra (update)\n",
        "registro_ciudad.update({'Roma': 30})\n",
        "registro_ciudad"
      ]
    },
    {
      "cell_type": "markdown",
      "metadata": {
        "application/vnd.databricks.v1+cell": {
          "inputWidgets": {},
          "nuid": "15505f5e-2842-41ff-b872-f37ea9d1723b",
          "showTitle": false,
          "title": ""
        },
        "id": "7O8fe6stSnPE"
      },
      "source": [
        "# 🌶️ EJERCICIO 5\n",
        "\n",
        "<a id=\"ejercicio3\"></a>\n",
        "<div class=\"alert alert-block alert-info\">\n",
        "Poner en práctica lo aprendido realizando operaciones sobre la lista `productos` y `dulces`:</div>\n",
        "\n",
        "Construya una lista llamada `productos` que contega los siguientes valores `detergente`, `pasta`, `arroz` y `lechuga`\n",
        "\n",
        "1. Cambiar el valor de `pasta` por `galletas` dentro del listado, asignando en la posición de dicho valor el nuevo elemento e imprima el listado `productos`\n",
        "2. Crear una lista llamada `dulces` que contega los siguientes valores `chocolates` y `caramelos`, e imprima el listado creado\n",
        "3. Unir ambos listados con el método `extend` e imprima el listado `productos` concatenado\n",
        "4. Eliminar utilizando el slicing los tres primero elementos en el listado `productos` e imprima el listado"
      ]
    },
    {
      "cell_type": "code",
      "execution_count": null,
      "metadata": {
        "application/vnd.databricks.v1+cell": {
          "inputWidgets": {},
          "nuid": "7ce9cf58-820e-49c3-82a6-8fbafb156e7c",
          "showTitle": false,
          "title": ""
        },
        "id": "F6vOgjPsSnPF"
      },
      "outputs": [],
      "source": [
        "#\n",
        "#Su código aqui"
      ]
    },
    {
      "cell_type": "markdown",
      "metadata": {
        "application/vnd.databricks.v1+cell": {
          "inputWidgets": {},
          "nuid": "bea6db77-fd21-4399-86e2-e0d6232f6774",
          "showTitle": false,
          "title": ""
        },
        "id": "kTQsDxqCSnPJ"
      },
      "source": [
        "# 🌶️ EJERCICIO 6\n",
        "\n",
        "\n",
        "<a id=\"ejercicio4\"></a>\n",
        "<div class=\"alert alert-block alert-info\">\n",
        "A continuación contamos los siguientes datos:</div>\n",
        "\n",
        "\n",
        "| Marca | Transmisión |\n",
        "|-------|-------------|\n",
        "| Mazda | manual      |\n",
        "| Kia   | automática  |\n",
        "<br>\n",
        "\n",
        "1. Construya un diccionario llamado `marca_transmision`, coloque en las claves la marca del vehículo y como valor el tipo de transmisión correspondiente. Finalmente imprimir el diccionario\n",
        "2. Incluir en el diccionario una nueva pareja de clave y valor: clave `Toyota` con el valor de `manual`\n",
        "3. Eliminar la clave y valor de Kia, empleando el método `pop` e imprimir el diccionario\n",
        "4. Actualizar el valor al valor de 400 en la clave Mazda usando el método `update`\n",
        "5. Devolver el valor correspondiente a la clave de Mazda con el método `get`"
      ]
    },
    {
      "cell_type": "code",
      "execution_count": null,
      "metadata": {
        "application/vnd.databricks.v1+cell": {
          "inputWidgets": {},
          "nuid": "a28a0174-b0b0-40e9-9155-a6daf6fb0191",
          "showTitle": false,
          "title": ""
        },
        "id": "PBhlVY_TSnPJ"
      },
      "outputs": [],
      "source": [
        "#\n",
        "#Su código aqui"
      ]
    },
    {
      "cell_type": "markdown",
      "metadata": {
        "application/vnd.databricks.v1+cell": {
          "inputWidgets": {},
          "nuid": "aa83f2c1-3374-45aa-8a80-2bbf6e025643",
          "showTitle": false,
          "title": ""
        },
        "id": "it4oi3qnSnO7"
      },
      "source": [
        "# Tuplas\n",
        "1. Colección de datos INMUTABLES (sus elementos no pueden modificarse)\n",
        "2. Encerrar la tupla entre paréntisis `()`\n",
        "3. No requiere especificar el tipo de datos y puede contener elementos de distinto tipo\n",
        "4. Separar cada elemento con coma\n",
        "5. Asignar la tupla a una variable que la representará, utilizando el operador ="
      ]
    },
    {
      "cell_type": "code",
      "execution_count": null,
      "metadata": {
        "application/vnd.databricks.v1+cell": {
          "inputWidgets": {},
          "nuid": "a2bd9fd0-dd4f-4b1a-ac90-f6e1e8c6f9c5",
          "showTitle": false,
          "title": ""
        },
        "id": "6GTsjSzmSnO7"
      },
      "outputs": [],
      "source": [
        "tupla = (100, 20, 0, 300)\n",
        "tupla"
      ]
    },
    {
      "cell_type": "code",
      "execution_count": null,
      "metadata": {
        "application/vnd.databricks.v1+cell": {
          "inputWidgets": {},
          "nuid": "50111342-7e69-441f-9d21-98d15e5bc89d",
          "showTitle": false,
          "title": ""
        },
        "id": "TFPS7d6USnO7"
      },
      "outputs": [],
      "source": [
        "type(tupla)"
      ]
    },
    {
      "cell_type": "markdown",
      "metadata": {
        "application/vnd.databricks.v1+cell": {
          "inputWidgets": {},
          "nuid": "9044d196-0923-4900-8090-6a2de312b82e",
          "showTitle": false,
          "title": ""
        },
        "id": "LZGje5B8SnO7"
      },
      "source": [
        "**Error por Inmutabilidad de Tuplas:** Al tratar de modificar un elemento en una tupla se emite un mensaje de error.\n",
        "\n",
        "**Importante:** Las tuplas son inmutables."
      ]
    },
    {
      "cell_type": "code",
      "source": [
        "tupla[0] = 20"
      ],
      "metadata": {
        "id": "Oa2JylQ_GfFn"
      },
      "execution_count": null,
      "outputs": []
    },
    {
      "cell_type": "markdown",
      "source": [
        "# 🌶️ EJERCICIO 7\n",
        "\n",
        "Trabajas en una oficina de admisiones de la universidad. Al inspeccionar un conjunto de datos de solicitantes universitarios, observa que algunos estudiantes han representado sus calificaciones con letras (\"A\", \"B\", \"C\", \"D\", \"F\"), mientras que otros han representado sus calificaciones con un número entre 0 y 100.\n",
        "\n",
        "Se da cuenta de que, por coherencia, todas las calificaciones deben tener el mismo formato y decide formatearlas todas como letras. Para la conversión, decides asignar:\n",
        "\n",
        "- \"A\" - cualquier nota 90-100, inclusive\n",
        "- \"B\" - cualquier nota 80-89, inclusive\n",
        "- \"C\" - cualquier nota 70-79, inclusive\n",
        "- \"D\" - cualquier nota 60-69, inclusive\n",
        "- \"F\" - cualquier nota <60\n",
        "\n",
        "Escribe una función get_grade() que tome como entrada:\n",
        "\n",
        "> score - un número entero 0-100 correspondiente a una calificación numérica. Debería devolver la calificación de letra que corresponde.\n",
        "\n",
        "Por ejemplo:\n",
        "\n",
        "Una puntuación de 85 corresponde a una calificación B. En otras palabras, get_grade(85) debería devolver \"B\"."
      ],
      "metadata": {
        "id": "tBDiDKaFQ8Rb"
      }
    },
    {
      "cell_type": "code",
      "source": [
        "def get_grade(score):\n",
        "    grade = \"A\"\n",
        "    return grade"
      ],
      "metadata": {
        "id": "f6UkBRd7Q6yU"
      },
      "execution_count": null,
      "outputs": []
    },
    {
      "cell_type": "code",
      "source": [
        "get_grade(85)"
      ],
      "metadata": {
        "id": "8eK0lwjxRmSB"
      },
      "execution_count": null,
      "outputs": []
    }
  ]
}