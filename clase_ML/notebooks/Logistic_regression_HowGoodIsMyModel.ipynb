{
  "nbformat": 4,
  "nbformat_minor": 0,
  "metadata": {
    "colab": {
      "private_outputs": true,
      "provenance": [],
      "authorship_tag": "ABX9TyN0jyikX+dcGr0ucxhUwNkF",
      "include_colab_link": true
    },
    "kernelspec": {
      "name": "python3",
      "display_name": "Python 3"
    },
    "language_info": {
      "name": "python"
    }
  },
  "cells": [
    {
      "cell_type": "markdown",
      "metadata": {
        "id": "view-in-github",
        "colab_type": "text"
      },
      "source": [
        "<a href=\"https://colab.research.google.com/github/mayait/Business-Analytics-Class/blob/main/clase_ML/notebooks/Logistic_regression_HowGoodIsMyModel.ipynb\" target=\"_parent\"><img src=\"https://colab.research.google.com/assets/colab-badge.svg\" alt=\"Open In Colab\"/></a>"
      ]
    },
    {
      "cell_type": "code",
      "source": [
        "import numpy as np\n",
        "import matplotlib.pyplot as plt\n",
        "import pandas as pd\n",
        "\n",
        "from sklearn.linear_model import LogisticRegression\n",
        "from sklearn.datasets import make_classification\n",
        "\n",
        "from sklearn.metrics import classification_report, confusion_matrix, ConfusionMatrixDisplay\n",
        "import matplotlib.cm as cm\n",
        "from sklearn import metrics\n",
        "from sklearn.metrics import roc_auc_score\n",
        "\n",
        "from sklearn.model_selection import train_test_split\n",
        "from matplotlib.colors import ListedColormap\n",
        "import seaborn as sns\n",
        "\n",
        "plt.rcParams['figure.dpi'] = 90"
      ],
      "metadata": {
        "id": "tZwYoj5oI9bK"
      },
      "execution_count": null,
      "outputs": []
    },
    {
      "cell_type": "markdown",
      "source": [
        "## 1. 🌶️🌶️🌶️\n",
        "**La USFQ está desarrollando un modelo para predecir si un estudiante, basándose en sus horas de estudio, aprobará o no un examen importante.**\n",
        "\n",
        "\n",
        "_Divide los datos en train y test, entrena un modelo de regresión logistica_\n",
        "\n",
        "1. Identifica las métricas sensitivity (recall), specificity, precision, fpr.\n",
        "2. Si un estudiante realmente va a aprobar pero el modelo predice que no, ¿qué tipo de error es?\n",
        "3. Si un estudiante realmente va a reprobar pero el modelo predice que aprobará, ¿qué tipo de error es?\n",
        "4. ¿Cuál podría ser un problema potencial al tener un alto número de falsos positivos en este escenario?\n",
        "5. Dibuja la regresión logística con respecto a las horas de estudio y las predicciones.\n",
        "6. ¿Cómo interpretas la curva de la regresión logística en el contexto de las horas de estudio y la probabilidad de aprobar?\n",
        "7. Dibuja la curva ROC y AUC ¿Que puedes decir de la curva y el area bajo la curva?\n",
        "\n",
        "```python\n",
        "# Ejecuta para generar el dataset X,y\n",
        "\n",
        "np.random.seed(42)\n",
        "X = np.random.rand(1000, 1) * 10  \n",
        "y = (X[:, 0] > 5).astype(int)  \n",
        "y = y ^ (np.random.rand(1000) > 0.9)\n",
        "```"
      ],
      "metadata": {
        "id": "z1snirQXhp5L"
      }
    },
    {
      "cell_type": "code",
      "source": [],
      "metadata": {
        "id": "_VPda2XcleJn"
      },
      "execution_count": null,
      "outputs": []
    },
    {
      "cell_type": "code",
      "source": [
        "print(X,y)"
      ],
      "metadata": {
        "id": "GOm7it5MKiiD"
      },
      "execution_count": null,
      "outputs": []
    },
    {
      "cell_type": "markdown",
      "source": [
        "## 2. 🌶️🌶️\n",
        "**Un hospital está desarrollando un modelo para detectar una enfermedad rara pero mortal.**\n",
        "\n",
        "_Divide los datos en train y test, entrena un modelo de regresión logistica_\n",
        "\n",
        "1. Identifica las metricas sensitivity (recall), specificity, precision, fpr\n",
        "2. ¿Qué consecuencias podría tener un modelo con una sensibilidad baja?\n",
        "3. ¿Que significa un falso negativo en este caso?\n",
        "4. ¿Qué métrica es más importante para minimizar en este caso: la sensibilidad o la especificidad?\n",
        "5. ¿En este caso que significa tener una especificidad baja?\n",
        "6. Dibuja la curva ROC y AUC ¿Que puedes decir de la curva y el area bajo la curva?\n",
        "\n",
        "```python\n",
        "# Ejecuta para generar el dataset\n",
        "X, y = make_classification(n_samples=1000, n_features=20, n_informative=2, n_redundant=10, random_state=42, weights=[0.95, 0.05]) # 5% de los datos son positivos (enfermedad grave)\n",
        "\n",
        "X_train, X_test, y_train, y_test = train_test_split(X, y, test_size=0.25, random_state=42)\n",
        "\n",
        "clf = LogisticRegression(random_state=42)\n",
        "clf.fit(X_train, y_train)\n",
        "\n",
        "# Haciendo predicciones en el conjunto de prueba\n",
        "y_pred = clf.predict(X_test)\n",
        "\n",
        "```"
      ],
      "metadata": {
        "id": "dQhUpj9NIcYF"
      }
    },
    {
      "cell_type": "code",
      "source": [],
      "metadata": {
        "id": "vztD3j9HldUQ"
      },
      "execution_count": null,
      "outputs": []
    },
    {
      "cell_type": "code",
      "source": [
        "print(X,y)"
      ],
      "metadata": {
        "id": "ZCKU5UifjN2f"
      },
      "execution_count": null,
      "outputs": []
    },
    {
      "cell_type": "markdown",
      "source": [
        "## 3. 🌶️🌶️\n",
        "**Una empresa de correo electrónico está desarrollando un modelo para filtrar correos no deseados (spam).**\n",
        "\n",
        "_Divide los datos en train y test, entrena un modelo de regresión logística, imprime la mariz de confusión._\n",
        "\n",
        "1. Identifica las métricas sensitivity (recall), specificity, precision, fpr.\n",
        "2. En el contexto de la detección de spam, ¿qué significa un falso positivo?\n",
        "3. ¿Y un falso negativo?\n",
        "4. ¿Por qué podría ser crítico tener un alto número de falsos positivos en este escenario?\n",
        "5. ¿Qué métrica sería más importante para optimizar en este caso y por qué?\n",
        "6. Dibuja la curva ROC y AUC. ¿Qué puedes decir de la curva y el área bajo la curva en relación con la eficacia del modelo?\n",
        "7. Si quisieras reducir el número de falsos positivos, ¿qué podrías hacer con el umbral de decisión del modelo?\n",
        "8. ¿Cómo podría el modelo verse afectado por los cambios en los patrones de spam?\n",
        "9. ¿Cómo podría el modelo ser utilizado para mejorar la experiencia del usuario?\n",
        "\n",
        "```python\n",
        "# Ejecuta para generar el dataset X,y\n",
        "\n",
        "np.random.seed(42)\n",
        "X = np.random.rand(1000, 1) * 10  \n",
        "y = (X[:, 0] > 7).astype(int)  # Los correos con un valor mayor a 7 se consideran spam\n",
        "y = y ^ (np.random.rand(1000) > 0.85)  # Añadir algo de ruido: 15% de los datos no siguen la regla anterior\n",
        "```"
      ],
      "metadata": {
        "id": "JVqpe2iKoBDm"
      }
    },
    {
      "cell_type": "code",
      "source": [],
      "metadata": {
        "id": "d4sDtydrrgMa"
      },
      "execution_count": null,
      "outputs": []
    },
    {
      "cell_type": "markdown",
      "source": [
        "## 4. 🌶️🌶️🎮\n",
        "**Una empresa de videojuegos está desarrollando un modelo para predecir si un jugador disfrutará de un nuevo juego.**\n",
        "\n",
        "La empresa cuenta con datos de juegos anteriores de los jugadores, como el tiempo de juego, la puntuación obtenida y las reseñas. Basándose en estos datos, quiere predecir si un jugador disfrutará de un nuevo juego que están por lanzar.\n",
        "\n",
        "_Divide los datos en train y test, entrena un modelo de regresión logística._\n",
        "\n",
        "1. Identifica las métricas sensitivity (recall), specificity, precision, fpr.\n",
        "2. ¿Qué consecuencias podría tener un modelo con una alta tasa de falsos positivos?\n",
        "3. Si un jugador realmente disfrutará del juego pero el modelo predice que no, ¿qué tipo de error es?\n",
        "4. ¿Y si el modelo predice que un jugador disfrutará del juego pero en realidad no lo disfruta?\n",
        "5. Dibuja la curva ROC y AUC. ¿Qué puedes decir de la curva y el área bajo la curva en relación con la eficacia del modelo?\n",
        "6. Si quisieras asegurarte de no decepcionar a los jugadores, ¿qué métrica sería la más importante para optimizar?\n",
        "\n",
        "```python\n",
        "# Ejecuta para generar el dataset X,y\n",
        "\n",
        "np.random.seed(42)\n",
        "hours_played = np.random.rand(1000, 1) * 50  # Horas jugadas\n",
        "score = np.random.rand(1000, 1) * 100  # Puntuación en el juego (0-100)\n",
        "reviews = np.random.randint(1, 6, (1000, 1))  # Reseñas (1 a 5 estrellas)\n",
        "\n",
        "X = np.hstack([hours_played, score, reviews])\n",
        "y = (X[:, 0] > 25).astype(int) & (X[:, 1] > 50).astype(int) & (X[:, 2] > 3).astype(int)  # Considerarán que disfrutarán el juego si jugaron más de 25 horas, tienen una puntuación mayor a 50 y una reseña de más de 3 estrellas\n",
        "y = y ^ (np.random.rand(1000) > 0.8)  # Añadir algo de ruido: 20% de los datos no siguen la regla anterior\n",
        "```\n"
      ],
      "metadata": {
        "id": "1-rmB7bVrgui"
      }
    },
    {
      "cell_type": "markdown",
      "source": [
        "## 5.\n",
        "\n",
        "Banco Pichincha utiliza regresión logística para decidir si aprueba o no préstamos basados en la probabilidad de que el cliente devuelva el dinero. Rechazar a un buen cliente resulta en una oportunidad perdida, pero aprobar a un mal cliente podría resultar en un riesgo financiero.\n",
        "\n",
        "¿Qué indicador deberían priorizar?"
      ],
      "metadata": {
        "id": "ER7ix87Sr9Lo"
      }
    },
    {
      "cell_type": "markdown",
      "source": [
        "## 6.\n",
        "La universidad esta usando regresión logística para seleccionar nuevos profesores para el school of Business, basado en una serie de características de sus CV. No quieren perderse de candidatos potencialmente buenos, pero tampoco quieren invertir tiempo entrevistando candidatos malos."
      ],
      "metadata": {
        "id": "cM8zQOa6sH9O"
      }
    },
    {
      "cell_type": "code",
      "source": [],
      "metadata": {
        "id": "hn4RpO8RiZCb"
      },
      "execution_count": null,
      "outputs": []
    }
  ]
}